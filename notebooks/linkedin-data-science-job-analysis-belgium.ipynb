{
 "cells": [
  {
   "cell_type": "code",
   "execution_count": 41,
   "metadata": {
    "_cell_guid": "b1076dfc-b9ad-4769-8c92-a6c4dae69d19",
    "_uuid": "8f2839f25d086af736a60e9eeb907d3b93b6e0e5",
    "execution": {
     "iopub.execute_input": "2021-08-24T14:53:53.567770Z",
     "iopub.status.busy": "2021-08-24T14:53:53.567174Z",
     "iopub.status.idle": "2021-08-24T14:53:53.578720Z",
     "shell.execute_reply": "2021-08-24T14:53:53.578169Z",
     "shell.execute_reply.started": "2021-08-24T14:53:53.567657Z"
    }
   },
   "outputs": [],
   "source": [
    "import numpy as np \n",
    "import pandas as pd \n",
    "import json\n",
    "import matplotlib.pyplot as plt\n",
    "from collections import Counter\n",
    "from gensim.parsing.preprocessing import remove_stopwords, STOPWORDS\n",
    "from langdetect import detect\n",
    "import string\n",
    "import simplemma"
   ]
  },
  {
   "cell_type": "markdown",
   "metadata": {},
   "source": [
    "### Open JSON File\n",
    "Clean json data"
   ]
  },
  {
   "cell_type": "code",
   "execution_count": 2,
   "metadata": {
    "execution": {
     "iopub.execute_input": "2021-08-24T14:53:53.580502Z",
     "iopub.status.busy": "2021-08-24T14:53:53.579943Z",
     "iopub.status.idle": "2021-08-24T14:53:53.828115Z",
     "shell.execute_reply": "2021-08-24T14:53:53.827237Z",
     "shell.execute_reply.started": "2021-08-24T14:53:53.580447Z"
    }
   },
   "outputs": [
    {
     "name": "stdout",
     "output_type": "stream",
     "text": [
      "<class 'pandas.core.frame.DataFrame'>\n",
      "Int64Index: 899 entries, 0 to 999\n",
      "Data columns (total 4 columns):\n",
      " #   Column       Non-Null Count  Dtype \n",
      "---  ------       --------------  ----- \n",
      " 0   Title        899 non-null    object\n",
      " 1   Company      899 non-null    object\n",
      " 2   Location     899 non-null    object\n",
      " 3   Description  899 non-null    object\n",
      "dtypes: object(4)\n",
      "memory usage: 35.1+ KB\n"
     ]
    }
   ],
   "source": [
    "with open('E:/Projects/Job analysis/data/Jobcards.json', \"r\") as json_file:\n",
    "    cards_js = json.load(json_file)\n",
    "    cards_df = pd.read_json(cards_js)\n",
    "# Drop null\n",
    "cards_df = cards_df.dropna()\n",
    "\n",
    "# Replace backspaces with \"\"\n",
    "for name in cards_df.columns:\n",
    "    cards_df[name] = [a.replace(\"\\n\", \"\") for a in cards_df[name]]\n",
    "\n",
    "# Select city as Location\n",
    "cards_df[\"Location\"] = [a.split()[0].replace(\",\", \"\") for a in cards_df[\"Location\"]]\n",
    "\n",
    "# Get info DF\n",
    "cards_df.info()"
   ]
  },
  {
   "cell_type": "code",
   "execution_count": 3,
   "metadata": {
    "execution": {
     "iopub.execute_input": "2021-08-24T14:53:53.830482Z",
     "iopub.status.busy": "2021-08-24T14:53:53.830174Z",
     "iopub.status.idle": "2021-08-24T14:53:53.847851Z",
     "shell.execute_reply": "2021-08-24T14:53:53.847021Z",
     "shell.execute_reply.started": "2021-08-24T14:53:53.830455Z"
    }
   },
   "outputs": [
    {
     "data": {
      "text/html": [
       "<div>\n",
       "<style scoped>\n",
       "    .dataframe tbody tr th:only-of-type {\n",
       "        vertical-align: middle;\n",
       "    }\n",
       "\n",
       "    .dataframe tbody tr th {\n",
       "        vertical-align: top;\n",
       "    }\n",
       "\n",
       "    .dataframe thead th {\n",
       "        text-align: right;\n",
       "    }\n",
       "</style>\n",
       "<table border=\"1\" class=\"dataframe\">\n",
       "  <thead>\n",
       "    <tr style=\"text-align: right;\">\n",
       "      <th></th>\n",
       "      <th>Title</th>\n",
       "      <th>Company</th>\n",
       "      <th>Location</th>\n",
       "      <th>Description</th>\n",
       "    </tr>\n",
       "  </thead>\n",
       "  <tbody>\n",
       "    <tr>\n",
       "      <th>0</th>\n",
       "      <td>Senior Consultant in Data science ...</td>\n",
       "      <td>Sia Partners</td>\n",
       "      <td>Antwerpen</td>\n",
       "      <td>As a senior consultant in Data Science, you w...</td>\n",
       "    </tr>\n",
       "    <tr>\n",
       "      <th>1</th>\n",
       "      <td>Stage - Data Science</td>\n",
       "      <td>Argenta</td>\n",
       "      <td>Antwerpen</td>\n",
       "      <td>FunctieKlaar voor een eerste leerri...</td>\n",
       "    </tr>\n",
       "    <tr>\n",
       "      <th>2</th>\n",
       "      <td>Data Science Engineer Healthcare  ...</td>\n",
       "      <td>Robovision</td>\n",
       "      <td>Gent</td>\n",
       "      <td>Geplaatst door                  Willem R...</td>\n",
       "    </tr>\n",
       "    <tr>\n",
       "      <th>3</th>\n",
       "      <td>Data Science Software Engineer    ...</td>\n",
       "      <td>OMP</td>\n",
       "      <td>Gent</td>\n",
       "      <td>We are OMP, a game changer that opt...</td>\n",
       "    </tr>\n",
       "    <tr>\n",
       "      <th>4</th>\n",
       "      <td>Junior Market Analyst (FMCG)      ...</td>\n",
       "      <td>GfK</td>\n",
       "      <td>Leuven</td>\n",
       "      <td>For over 80 years, GfK has been a r...</td>\n",
       "    </tr>\n",
       "  </tbody>\n",
       "</table>\n",
       "</div>"
      ],
      "text/plain": [
       "                                               Title  \\\n",
       "0              Senior Consultant in Data science ...   \n",
       "1                     Stage - Data Science             \n",
       "2              Data Science Engineer Healthcare  ...   \n",
       "3              Data Science Software Engineer    ...   \n",
       "4              Junior Market Analyst (FMCG)      ...   \n",
       "\n",
       "                                  Company   Location  \\\n",
       "0                Sia Partners              Antwerpen   \n",
       "1                     Argenta              Antwerpen   \n",
       "2                  Robovision                   Gent   \n",
       "3                         OMP                   Gent   \n",
       "4                         GfK                 Leuven   \n",
       "\n",
       "                                         Description  \n",
       "0   As a senior consultant in Data Science, you w...  \n",
       "1             FunctieKlaar voor een eerste leerri...  \n",
       "2        Geplaatst door                  Willem R...  \n",
       "3             We are OMP, a game changer that opt...  \n",
       "4             For over 80 years, GfK has been a r...  "
      ]
     },
     "execution_count": 3,
     "metadata": {},
     "output_type": "execute_result"
    }
   ],
   "source": [
    "# Quick check for \"\\n\"\n",
    "cards_df.head()"
   ]
  },
  {
   "cell_type": "markdown",
   "metadata": {},
   "source": [
    "### Prepare data for NLP"
   ]
  },
  {
   "cell_type": "code",
   "execution_count": 31,
   "metadata": {},
   "outputs": [
    {
     "data": {
      "text/html": [
       "<div>\n",
       "<style scoped>\n",
       "    .dataframe tbody tr th:only-of-type {\n",
       "        vertical-align: middle;\n",
       "    }\n",
       "\n",
       "    .dataframe tbody tr th {\n",
       "        vertical-align: top;\n",
       "    }\n",
       "\n",
       "    .dataframe thead th {\n",
       "        text-align: right;\n",
       "    }\n",
       "</style>\n",
       "<table border=\"1\" class=\"dataframe\">\n",
       "  <thead>\n",
       "    <tr style=\"text-align: right;\">\n",
       "      <th></th>\n",
       "      <th>Title</th>\n",
       "      <th>Company</th>\n",
       "      <th>Location</th>\n",
       "      <th>Description</th>\n",
       "      <th>Language</th>\n",
       "    </tr>\n",
       "  </thead>\n",
       "  <tbody>\n",
       "    <tr>\n",
       "      <th>0</th>\n",
       "      <td>Senior Consultant in Data science ...</td>\n",
       "      <td>Sia Partners</td>\n",
       "      <td>Antwerpen</td>\n",
       "      <td>as a senior consultant in data science, you w...</td>\n",
       "      <td>en</td>\n",
       "    </tr>\n",
       "    <tr>\n",
       "      <th>1</th>\n",
       "      <td>Stage - Data Science</td>\n",
       "      <td>Argenta</td>\n",
       "      <td>Antwerpen</td>\n",
       "      <td>functieklaar voor een eerste leerri...</td>\n",
       "      <td>nl</td>\n",
       "    </tr>\n",
       "    <tr>\n",
       "      <th>2</th>\n",
       "      <td>Data Science Engineer Healthcare  ...</td>\n",
       "      <td>Robovision</td>\n",
       "      <td>Gent</td>\n",
       "      <td>geplaatst door                  willem r...</td>\n",
       "      <td>en</td>\n",
       "    </tr>\n",
       "    <tr>\n",
       "      <th>3</th>\n",
       "      <td>Data Science Software Engineer    ...</td>\n",
       "      <td>OMP</td>\n",
       "      <td>Gent</td>\n",
       "      <td>we are omp, a game changer that opt...</td>\n",
       "      <td>en</td>\n",
       "    </tr>\n",
       "    <tr>\n",
       "      <th>4</th>\n",
       "      <td>Junior Market Analyst (FMCG)      ...</td>\n",
       "      <td>GfK</td>\n",
       "      <td>Leuven</td>\n",
       "      <td>for over 80 years, gfk has been a r...</td>\n",
       "      <td>en</td>\n",
       "    </tr>\n",
       "    <tr>\n",
       "      <th>...</th>\n",
       "      <td>...</td>\n",
       "      <td>...</td>\n",
       "      <td>...</td>\n",
       "      <td>...</td>\n",
       "      <td>...</td>\n",
       "    </tr>\n",
       "    <tr>\n",
       "      <th>995</th>\n",
       "      <td>Finance Enterprise Partner</td>\n",
       "      <td>Roche</td>\n",
       "      <td>Brussel</td>\n",
       "      <td>a finance enterprise partner (fep) leverages ...</td>\n",
       "      <td>en</td>\n",
       "    </tr>\n",
       "    <tr>\n",
       "      <th>996</th>\n",
       "      <td>(Senior) Clinical Data Manager (CD...</td>\n",
       "      <td>SGS</td>\n",
       "      <td>Mechelen</td>\n",
       "      <td>company descriptionat sgs, you can choose. fi...</td>\n",
       "      <td>en</td>\n",
       "    </tr>\n",
       "    <tr>\n",
       "      <th>997</th>\n",
       "      <td>Senior Clinical Project Management...</td>\n",
       "      <td>IQVIA</td>\n",
       "      <td>Antwerpen</td>\n",
       "      <td>job overviewsenior clinical project managemen...</td>\n",
       "      <td>en</td>\n",
       "    </tr>\n",
       "    <tr>\n",
       "      <th>998</th>\n",
       "      <td>Sales Manager Hospital Belux      ...</td>\n",
       "      <td>IQVIA</td>\n",
       "      <td>Zaventem</td>\n",
       "      <td>hospital channelbuild relationship ...</td>\n",
       "      <td>en</td>\n",
       "    </tr>\n",
       "    <tr>\n",
       "      <th>999</th>\n",
       "      <td>Associate Director, Project Delive...</td>\n",
       "      <td>IQVIA</td>\n",
       "      <td>Zaventem</td>\n",
       "      <td>associate director, provider &amp; site...</td>\n",
       "      <td>en</td>\n",
       "    </tr>\n",
       "  </tbody>\n",
       "</table>\n",
       "<p>899 rows × 5 columns</p>\n",
       "</div>"
      ],
      "text/plain": [
       "                                                 Title  \\\n",
       "0                Senior Consultant in Data science ...   \n",
       "1                       Stage - Data Science             \n",
       "2                Data Science Engineer Healthcare  ...   \n",
       "3                Data Science Software Engineer    ...   \n",
       "4                Junior Market Analyst (FMCG)      ...   \n",
       "..                                                 ...   \n",
       "995               Finance Enterprise Partner             \n",
       "996              (Senior) Clinical Data Manager (CD...   \n",
       "997              Senior Clinical Project Management...   \n",
       "998              Sales Manager Hospital Belux      ...   \n",
       "999              Associate Director, Project Delive...   \n",
       "\n",
       "                                    Company   Location  \\\n",
       "0                  Sia Partners              Antwerpen   \n",
       "1                       Argenta              Antwerpen   \n",
       "2                    Robovision                   Gent   \n",
       "3                           OMP                   Gent   \n",
       "4                           GfK                 Leuven   \n",
       "..                                      ...        ...   \n",
       "995                       Roche                Brussel   \n",
       "996                         SGS               Mechelen   \n",
       "997                       IQVIA              Antwerpen   \n",
       "998                       IQVIA               Zaventem   \n",
       "999                       IQVIA               Zaventem   \n",
       "\n",
       "                                           Description Language  \n",
       "0     as a senior consultant in data science, you w...       en  \n",
       "1               functieklaar voor een eerste leerri...       nl  \n",
       "2          geplaatst door                  willem r...       en  \n",
       "3               we are omp, a game changer that opt...       en  \n",
       "4               for over 80 years, gfk has been a r...       en  \n",
       "..                                                 ...      ...  \n",
       "995   a finance enterprise partner (fep) leverages ...       en  \n",
       "996   company descriptionat sgs, you can choose. fi...       en  \n",
       "997   job overviewsenior clinical project managemen...       en  \n",
       "998             hospital channelbuild relationship ...       en  \n",
       "999             associate director, provider & site...       en  \n",
       "\n",
       "[899 rows x 5 columns]"
      ]
     },
     "execution_count": 31,
     "metadata": {},
     "output_type": "execute_result"
    }
   ],
   "source": [
    "# Add language and set description to lowercase\n",
    "cards_df[\"Language\"] = [detect(a) for a in cards_df[\"Description\"]]\n",
    "cards_df[\"Description\"] = [a.lower() for a in cards_df[\"Description\"]]\n",
    "cards_df"
   ]
  },
  {
   "cell_type": "code",
   "execution_count": 124,
   "metadata": {},
   "outputs": [],
   "source": [
    "# Create stopword lists\n",
    "# Dutch Stop words\n",
    "sw_nl = [\"aan\",\"aangaande\",\"aangezien\",\"achte\",\"achter\",\"achterna\",\"af\",\"afgelopen\",\"al\",\"aldaar\",\"aldus\",\"alhoewel\",\"alias\",\"alle\",\"allebei\",\"alleen\",\"alles\",\"als\",\"alsnog\",\"altijd\",\"altoos\",\"ander\",\"andere\",\"anders\",\"anderszins\",\"beetje\",\"behalve\",\"behoudens\",\"beide\",\"beiden\",\"ben\",\"beneden\",\"bent\",\"bepaald\",\"betreffende\",\"bij\",\"bijna\",\"bijv\",\"binnen\",\"binnenin\",\"blijkbaar\",\"blijken\",\"boven\",\"bovenal\",\"bovendien\",\"bovengenoemd\",\"bovenstaand\",\"bovenvermeld\",\"buiten\",\"bv\",\"daar\",\"daardoor\",\"daarheen\",\"daarin\",\"daarna\",\"daarnet\",\"daarom\",\"daarop\",\"daaruit\",\"daarvanlangs\",\"dan\",\"dat\",\"de\",\"deden\",\"deed\",\"der\",\"derde\",\"derhalve\",\"dertig\",\"deze\",\"dhr\",\"die\",\"dikwijls\",\"dit\",\"doch\",\"doe\",\"doen\",\"doet\",\"door\",\"doorgaand\",\"drie\",\"duizend\",\"dus\",\"echter\",\"een\",\"eens\",\"eer\",\"eerdat\",\"eerder\",\"eerlang\",\"eerst\",\"eerste\",\"eigen\",\"eigenlijk\",\"elk\",\"elke\",\"en\",\"enig\",\"enige\",\"enigszins\",\"enkel\",\"er\",\"erdoor\",\"erg\",\"ergens\",\"etc\",\"etcetera\",\"even\",\"eveneens\",\"evenwel\",\"gauw\",\"ge\",\"gedurende\",\"geen\",\"gehad\",\"gekund\",\"geleden\",\"gelijk\",\"gemoeten\",\"gemogen\",\"genoeg\",\"geweest\",\"gewoon\",\"gewoonweg\",\"haar\",\"haarzelf\",\"had\",\"hadden\",\"hare\",\"heb\",\"hebben\",\"hebt\",\"hedden\",\"heeft\",\"heel\",\"hem\",\"hemzelf\",\"hen\",\"het\",\"hetzelfde\",\"hier\",\"hierbeneden\",\"hierboven\",\"hierin\",\"hierna\",\"hierom\",\"hij\",\"hijzelf\",\"hoe\",\"hoewel\",\"honderd\",\"hun\",\"hunne\",\"ieder\",\"iedere\",\"iedereen\",\"iemand\",\"iets\",\"ik\",\"ikzelf\",\"in\",\"inderdaad\",\"inmiddels\",\"intussen\",\"inzake\",\"is\",\"ja\",\"je\",\"jezelf\",\"jij\",\"jijzelf\",\"jou\",\"jouw\",\"jouwe\",\"juist\",\"jullie\",\"kan\",\"klaar\",\"kon\",\"konden\",\"krachtens\",\"kun\",\"kunnen\",\"kunt\",\"laatst\",\"later\",\"liever\",\"lijken\",\"lijkt\",\"maak\",\"maakt\",\"maakte\",\"maakten\",\"maar\",\"mag\",\"maken\",\"me\",\"meer\",\"meest\",\"meestal\",\"men\",\"met\",\"mevr\",\"mezelf\",\"mij\",\"mijn\",\"mijnent\",\"mijner\",\"mijzelf\",\"minder\",\"miss\",\"misschien\",\"missen\",\"mits\",\"mocht\",\"mochten\",\"moest\",\"moesten\",\"moet\",\"moeten\",\"mogen\",\"mr\",\"mrs\",\"mw\",\"na\",\"naar\",\"nadat\",\"nam\",\"namelijk\",\"nee\",\"neem\",\"negen\",\"nemen\",\"nergens\",\"net\",\"niemand\",\"niet\",\"niets\",\"niks\",\"noch\",\"nochtans\",\"nog\",\"nogal\",\"nooit\",\"nu\",\"nv\",\"of\",\"ofschoon\",\"om\",\"omdat\",\"omhoog\",\"omlaag\",\"omstreeks\",\"omtrent\",\"omver\",\"ondanks\",\"onder\",\"ondertussen\",\"ongeveer\",\"ons\",\"onszelf\",\"onze\",\"onzeker\",\"ooit\",\"ook\",\"op\",\"opnieuw\",\"opzij\",\"over\",\"overal\",\"overeind\",\"overige\",\"overigens\",\"paar\",\"pas\",\"per\",\"precies\",\"recent\",\"redelijk\",\"reeds\",\"rond\",\"rondom\",\"samen\",\"sedert\",\"sinds\",\"sindsdien\",\"slechts\",\"sommige\",\"spoedig\",\"steeds\",\"tamelijk\",\"te\",\"tegen\",\"tegenover\",\"tenzij\",\"terwijl\",\"thans\",\"tien\",\"tiende\",\"tijdens\",\"tja\",\"toch\",\"toe\",\"toen\",\"toenmaals\",\"toenmalig\",\"tot\",\"totdat\",\"tussen\",\"twee\",\"tweede\",\"u\",\"uit\",\"uitgezonderd\",\"uw\",\"vaak\",\"vaakwat\",\"van\",\"vanaf\",\"vandaan\",\"vanuit\",\"vanwege\",\"veel\",\"veeleer\",\"veertig\",\"verder\",\"verscheidene\",\"verschillende\",\"vervolgens\",\"via\",\"vier\",\"vierde\",\"vijf\",\"vijfde\",\"vijftig\",\"vol\",\"volgend\",\"volgens\",\"voor\",\"vooraf\",\"vooral\",\"vooralsnog\",\"voorbij\",\"voordat\",\"voordezen\",\"voordien\",\"voorheen\",\"voorop\",\"voorts\",\"vooruit\",\"vrij\",\"vroeg\",\"waar\",\"waarom\",\"waarschijnlijk\",\"wanneer\",\"want\",\"waren\",\"was\",\"wat\",\"we\",\"wederom\",\"weer\",\"weg\",\"wegens\",\"weinig\",\"wel\",\"weldra\",\"welk\",\"welke\",\"werd\",\"werden\",\"werder\",\"wezen\",\"whatever\",\"wie\",\"wiens\",\"wier\",\"wij\",\"wijzelf\",\"wil\",\"wilden\",\"willen\",\"word\",\"worden\",\"wordt\",\"zal\",\"ze\",\"zei\",\"zeker\",\"zelf\",\"zelfde\",\"zelfs\",\"zes\",\"zeven\",\"zich\",\"zichzelf\",\"zij\",\"zijn\",\"zijne\",\"zijzelf\",\"zo\",\"zoals\",\"zodat\",\"zodra\",\"zonder\",\"zou\",\"zouden\",\"zowat\",\"zulk\",\"zulke\",\"zullen\",\"zult\"]\n",
    "\n",
    "# English stop words\n",
    "sw_en = list(STOPWORDS) + [\"science\", \"data\", \"apply\", \"job\", \"datum\", \"year\", \"join\"]\n",
    "\n",
    "# French stop words\n",
    "sw_fr = [\"a\",\"abord\",\"absolument\",\"afin\",\"ah\",\"ai\",\"aie\",\"aient\",\"aies\",\"ailleurs\",\"ainsi\",\"ait\",\"allaient\",\"allo\",\"allons\",\"allô\",\"alors\",\"anterieur\",\"anterieure\",\"anterieures\",\"apres\",\"après\",\"as\",\"assez\",\"attendu\",\"au\",\"aucun\",\"aucune\",\"aucuns\",\"aujourd\",\"aujourd'hui\",\"aupres\",\"auquel\",\"aura\",\"aurai\",\"auraient\",\"aurais\",\"aurait\",\"auras\",\"aurez\",\"auriez\",\"aurions\",\"aurons\",\"auront\",\"aussi\",\"autant\",\"autre\",\"autrefois\",\"autrement\",\"autres\",\"autrui\",\"aux\",\"auxquelles\",\"auxquels\",\"avaient\",\"avais\",\"avait\",\"avant\",\"avec\",\"avez\",\"aviez\",\"avions\",\"avoir\",\"avons\",\"ayant\",\"ayez\",\"ayons\",\"b\",\"bah\",\"bas\",\"basee\",\"bat\",\"beau\",\"beaucoup\",\"bien\",\"bigre\",\"bon\",\"boum\",\"bravo\",\"brrr\",\"c\",\"car\",\"ce\",\"ceci\",\"cela\",\"celle\",\"celle-ci\",\"celle-là\",\"celles\",\"celles-ci\",\"celles-là\",\"celui\",\"celui-ci\",\"celui-là\",\"celà\",\"cent\",\"cependant\",\"certain\",\"certaine\",\"certaines\",\"certains\",\"certes\",\"ces\",\"cet\",\"cette\",\"ceux\",\"ceux-ci\",\"ceux-là\",\"chacun\",\"chacune\",\"chaque\",\"cher\",\"chers\",\"chez\",\"chiche\",\"chut\",\"chère\",\"chères\",\"ci\",\"cinq\",\"cinquantaine\",\"cinquante\",\"cinquantième\",\"cinquième\",\"clac\",\"clic\",\"combien\",\"comme\",\"comment\",\"comparable\",\"comparables\",\"compris\",\"concernant\",\"contre\",\"couic\",\"crac\",\"d\",\"da\",\"dans\",\"de\",\"debout\",\"dedans\",\"dehors\",\"deja\",\"delà\",\"depuis\",\"dernier\",\"derniere\",\"derriere\",\"derrière\",\"des\",\"desormais\",\"desquelles\",\"desquels\",\"dessous\",\"dessus\",\"deux\",\"deuxième\",\"deuxièmement\",\"devant\",\"devers\",\"devra\",\"devrait\",\"different\",\"differentes\",\"differents\",\"différent\",\"différente\",\"différentes\",\"différents\",\"dire\",\"directe\",\"directement\",\"dit\",\"dite\",\"dits\",\"divers\",\"diverse\",\"diverses\",\"dix\",\"dix-huit\",\"dix-neuf\",\"dix-sept\",\"dixième\",\"doit\",\"doivent\",\"donc\",\"dont\",\"dos\",\"douze\",\"douzième\",\"dring\",\"droite\",\"du\",\"duquel\",\"durant\",\"dès\",\"début\",\"désormais\",\"e\",\"effet\",\"egale\",\"egalement\",\"egales\",\"eh\",\"elle\",\"elle-même\",\"elles\",\"elles-mêmes\",\"en\",\"encore\",\"enfin\",\"entre\",\"envers\",\"environ\",\"es\",\"essai\",\"est\",\"et\",\"etant\",\"etc\",\"etre\",\"eu\",\"eue\",\"eues\",\"euh\",\"eurent\",\"eus\",\"eusse\",\"eussent\",\"eusses\",\"eussiez\",\"eussions\",\"eut\",\"eux\",\"eux-mêmes\",\"exactement\",\"excepté\",\"extenso\",\"exterieur\",\"eûmes\",\"eût\",\"eûtes\",\"f\",\"fais\",\"faisaient\",\"faisant\",\"fait\",\"faites\",\"façon\",\"feront\",\"fi\",\"flac\",\"floc\",\"fois\",\"font\",\"force\",\"furent\",\"fus\",\"fusse\",\"fussent\",\"fusses\",\"fussiez\",\"fussions\",\"fut\",\"fûmes\",\"fût\",\"fûtes\",\"g\",\"gens\",\"h\",\"ha\",\"haut\",\"hein\",\"hem\",\"hep\",\"hi\",\"ho\",\"holà\",\"hop\",\"hormis\",\"hors\",\"hou\",\"houp\",\"hue\",\"hui\",\"huit\",\"huitième\",\"hum\",\"hurrah\",\"hé\",\"hélas\",\"i\",\"ici\",\"il\",\"ils\",\"importe\",\"j\",\"je\",\"jusqu\",\"jusque\",\"juste\",\"k\",\"l\",\"la\",\"laisser\",\"laquelle\",\"las\",\"le\",\"lequel\",\"les\",\"lesquelles\",\"lesquels\",\"leur\",\"leurs\",\"longtemps\",\"lors\",\"lorsque\",\"lui\",\"lui-meme\",\"lui-même\",\"là\",\"lès\",\"m\",\"ma\",\"maint\",\"maintenant\",\"mais\",\"malgre\",\"malgré\",\"maximale\",\"me\",\"meme\",\"memes\",\"merci\",\"mes\",\"mien\",\"mienne\",\"miennes\",\"miens\",\"mille\",\"mince\",\"mine\",\"minimale\",\"moi\",\"moi-meme\",\"moi-même\",\"moindres\",\"moins\",\"mon\",\"mot\",\"moyennant\",\"multiple\",\"multiples\",\"même\",\"mêmes\",\"n\",\"na\",\"naturel\",\"naturelle\",\"naturelles\",\"ne\",\"neanmoins\",\"necessaire\",\"necessairement\",\"neuf\",\"neuvième\",\"ni\",\"nombreuses\",\"nombreux\",\"nommés\",\"non\",\"nos\",\"notamment\",\"notre\",\"nous\",\"nous-mêmes\",\"nouveau\",\"nouveaux\",\"nul\",\"néanmoins\",\"nôtre\",\"nôtres\",\"o\",\"oh\",\"ohé\",\"ollé\",\"olé\",\"on\",\"ont\",\"onze\",\"onzième\",\"ore\",\"ou\",\"ouf\",\"ouias\",\"oust\",\"ouste\",\"outre\",\"ouvert\",\"ouverte\",\"ouverts\",\"o|\",\"où\",\"p\",\"paf\",\"pan\",\"par\",\"parce\",\"parfois\",\"parle\",\"parlent\",\"parler\",\"parmi\",\"parole\",\"parseme\",\"partant\",\"particulier\",\"particulière\",\"particulièrement\",\"pas\",\"passé\",\"pendant\",\"pense\",\"permet\",\"personne\",\"personnes\",\"peu\",\"peut\",\"peuvent\",\"peux\",\"pff\",\"pfft\",\"pfut\",\"pif\",\"pire\",\"pièce\",\"plein\",\"plouf\",\"plupart\",\"plus\",\"plusieurs\",\"plutôt\",\"possessif\",\"possessifs\",\"possible\",\"possibles\",\"pouah\",\"pour\",\"pourquoi\",\"pourrais\",\"pourrait\",\"pouvait\",\"prealable\",\"precisement\",\"premier\",\"première\",\"premièrement\",\"pres\",\"probable\",\"probante\",\"procedant\",\"proche\",\"près\",\"psitt\",\"pu\",\"puis\",\"puisque\",\"pur\",\"pure\",\"q\",\"qu\",\"quand\",\"quant\",\"quant-à-soi\",\"quanta\",\"quarante\",\"quatorze\",\"quatre\",\"quatre-vingt\",\"quatrième\",\"quatrièmement\",\"que\",\"quel\",\"quelconque\",\"quelle\",\"quelles\",\"quelqu'un\",\"quelque\",\"quelques\",\"quels\",\"qui\",\"quiconque\",\"quinze\",\"quoi\",\"quoique\",\"r\",\"rare\",\"rarement\",\"rares\",\"relative\",\"relativement\",\"remarquable\",\"rend\",\"rendre\",\"restant\",\"reste\",\"restent\",\"restrictif\",\"retour\",\"revoici\",\"revoilà\",\"rien\",\"s\",\"sa\",\"sacrebleu\",\"sait\",\"sans\",\"sapristi\",\"sauf\",\"se\",\"sein\",\"seize\",\"selon\",\"semblable\",\"semblaient\",\"semble\",\"semblent\",\"sent\",\"sept\",\"septième\",\"sera\",\"serai\",\"seraient\",\"serais\",\"serait\",\"seras\",\"serez\",\"seriez\",\"serions\",\"serons\",\"seront\",\"ses\",\"seul\",\"seule\",\"seulement\",\"si\",\"sien\",\"sienne\",\"siennes\",\"siens\",\"sinon\",\"six\",\"sixième\",\"soi\",\"soi-même\",\"soient\",\"sois\",\"soit\",\"soixante\",\"sommes\",\"son\",\"sont\",\"sous\",\"souvent\",\"soyez\",\"soyons\",\"specifique\",\"specifiques\",\"speculatif\",\"stop\",\"strictement\",\"subtiles\",\"suffisant\",\"suffisante\",\"suffit\",\"suis\",\"suit\",\"suivant\",\"suivante\",\"suivantes\",\"suivants\",\"suivre\",\"sujet\",\"superpose\",\"sur\",\"surtout\",\"t\",\"ta\",\"tac\",\"tandis\",\"tant\",\"tardive\",\"te\",\"tel\",\"telle\",\"tellement\",\"telles\",\"tels\",\"tenant\",\"tend\",\"tenir\",\"tente\",\"tes\",\"tic\",\"tien\",\"tienne\",\"tiennes\",\"tiens\",\"toc\",\"toi\",\"toi-même\",\"ton\",\"touchant\",\"toujours\",\"tous\",\"tout\",\"toute\",\"toutefois\",\"toutes\",\"treize\",\"trente\",\"tres\",\"trois\",\"troisième\",\"troisièmement\",\"trop\",\"très\",\"tsoin\",\"tsouin\",\"tu\",\"té\",\"u\",\"un\",\"une\",\"unes\",\"uniformement\",\"unique\",\"uniques\",\"uns\",\"v\",\"va\",\"vais\",\"valeur\",\"vas\",\"vers\",\"via\",\"vif\",\"vifs\",\"vingt\",\"vivat\",\"vive\",\"vives\",\"vlan\",\"voici\",\"voie\",\"voient\",\"voilà\",\"voire\",\"vont\",\"vos\",\"votre\",\"vous\",\"vous-mêmes\",\"vu\",\"vé\",\"vôtre\",\"vôtres\",\"w\",\"x\",\"y\",\"z\",\"zut\",\"à\",\"â\",\"ça\",\"ès\",\"étaient\",\"étais\",\"était\",\"étant\",\"état\",\"étiez\",\"étions\",\"été\",\"étée\",\"étées\",\"étés\",\"êtes\",\"être\",\"ô\"]"
   ]
  },
  {
   "cell_type": "code",
   "execution_count": 125,
   "metadata": {},
   "outputs": [],
   "source": [
    "# Create functions for nlp Data Cleaning\n",
    "\n",
    "# Remove punctuations\n",
    "def remove_punc(text):\n",
    "    cleaned_list = [word for word in text if word not in string.punctuation]\n",
    "    return \"\".join(cleaned_list)\n",
    "   \n",
    "# Remove stopwords\n",
    "def remove_stopwords(word_list, lang):\n",
    "    stopwords = sw_en\n",
    "    if lang == \"nl\":\n",
    "        stopwords = sw_nl\n",
    "    if lang == \"fr\":\n",
    "        stopwords = sw_fr\n",
    "    return [word for word in word_list if word not in stopwords]\n",
    "\n",
    "# Lemmatize\n",
    "def lemmatize(word_list, lang):\n",
    "    langdata = simplemma.load_data(lang)\n",
    "    return [simplemma.lemmatize(word, langdata) for word in word_list]"
   ]
  },
  {
   "cell_type": "code",
   "execution_count": 126,
   "metadata": {},
   "outputs": [],
   "source": [
    "# Clean descriptions\n",
    "cards_df[\"Description\"] = [remove_punc(desc) for desc in cards_df[\"Description\"]]\n",
    "cards_df[\"nlp_desc\"] = [remove_stopwords(desc.split(), lang) for (desc, lang) \n",
    "                        in zip(cards_df[\"Description\"], cards_df[\"Language\"])]\n",
    "cards_df[\"nlp_desc\"] = [lemmatize(nlp_desc, lang) for (nlp_desc, lang) \n",
    "                        in zip(cards_df[\"nlp_desc\"], cards_df[\"Language\"])]"
   ]
  },
  {
   "cell_type": "code",
   "execution_count": 127,
   "metadata": {},
   "outputs": [
    {
     "data": {
      "text/html": [
       "<div>\n",
       "<style scoped>\n",
       "    .dataframe tbody tr th:only-of-type {\n",
       "        vertical-align: middle;\n",
       "    }\n",
       "\n",
       "    .dataframe tbody tr th {\n",
       "        vertical-align: top;\n",
       "    }\n",
       "\n",
       "    .dataframe thead th {\n",
       "        text-align: right;\n",
       "    }\n",
       "</style>\n",
       "<table border=\"1\" class=\"dataframe\">\n",
       "  <thead>\n",
       "    <tr style=\"text-align: right;\">\n",
       "      <th></th>\n",
       "      <th>Title</th>\n",
       "      <th>Company</th>\n",
       "      <th>Location</th>\n",
       "      <th>Description</th>\n",
       "      <th>Language</th>\n",
       "      <th>nlp_desc</th>\n",
       "      <th>nlp_desc_unique</th>\n",
       "    </tr>\n",
       "  </thead>\n",
       "  <tbody>\n",
       "    <tr>\n",
       "      <th>0</th>\n",
       "      <td>senior consultant in data science ...</td>\n",
       "      <td>Sia Partners</td>\n",
       "      <td>Antwerpen</td>\n",
       "      <td>as a senior consultant in data science you wi...</td>\n",
       "      <td>en</td>\n",
       "      <td>[senior, consultant, involve, transformation, ...</td>\n",
       "      <td>{great, dynamic, research, inclusion, professi...</td>\n",
       "    </tr>\n",
       "    <tr>\n",
       "      <th>1</th>\n",
       "      <td>stage - data science</td>\n",
       "      <td>Argenta</td>\n",
       "      <td>Antwerpen</td>\n",
       "      <td>functieklaar voor een eerste leerri...</td>\n",
       "      <td>nl</td>\n",
       "      <td>[functieklaar, leerrijk, werkervaring, dynamis...</td>\n",
       "      <td>{oplossing, werktijdensneakers, vanzelfspreken...</td>\n",
       "    </tr>\n",
       "    <tr>\n",
       "      <th>2</th>\n",
       "      <td>data science engineer healthcare  ...</td>\n",
       "      <td>Robovision</td>\n",
       "      <td>Gent</td>\n",
       "      <td>geplaatst door                  willem r...</td>\n",
       "      <td>en</td>\n",
       "      <td>[geplaatst, door, willem, r, market, robovisio...</td>\n",
       "      <td>{great, kubernetes, dynamic, subject, manage, ...</td>\n",
       "    </tr>\n",
       "    <tr>\n",
       "      <th>3</th>\n",
       "      <td>data science software engineer    ...</td>\n",
       "      <td>OMP</td>\n",
       "      <td>Gent</td>\n",
       "      <td>we are omp a game changer that opti...</td>\n",
       "      <td>en</td>\n",
       "      <td>[omp, game, changer, optimize, supply, chain, ...</td>\n",
       "      <td>{challenge, skillsyour, expert, yourselfintern...</td>\n",
       "    </tr>\n",
       "    <tr>\n",
       "      <th>4</th>\n",
       "      <td>junior market analyst (fmcg)      ...</td>\n",
       "      <td>GfK</td>\n",
       "      <td>Leuven</td>\n",
       "      <td>for over 80 years gfk has been a re...</td>\n",
       "      <td>en</td>\n",
       "      <td>[80, year, gfk, reliable, trust, insight, part...</td>\n",
       "      <td>{great, offeran, shopper, challenge, dynamic, ...</td>\n",
       "    </tr>\n",
       "  </tbody>\n",
       "</table>\n",
       "</div>"
      ],
      "text/plain": [
       "                                               Title  \\\n",
       "0              senior consultant in data science ...   \n",
       "1                     stage - data science             \n",
       "2              data science engineer healthcare  ...   \n",
       "3              data science software engineer    ...   \n",
       "4              junior market analyst (fmcg)      ...   \n",
       "\n",
       "                                  Company   Location  \\\n",
       "0                Sia Partners              Antwerpen   \n",
       "1                     Argenta              Antwerpen   \n",
       "2                  Robovision                   Gent   \n",
       "3                         OMP                   Gent   \n",
       "4                         GfK                 Leuven   \n",
       "\n",
       "                                         Description Language  \\\n",
       "0   as a senior consultant in data science you wi...       en   \n",
       "1             functieklaar voor een eerste leerri...       nl   \n",
       "2        geplaatst door                  willem r...       en   \n",
       "3             we are omp a game changer that opti...       en   \n",
       "4             for over 80 years gfk has been a re...       en   \n",
       "\n",
       "                                            nlp_desc  \\\n",
       "0  [senior, consultant, involve, transformation, ...   \n",
       "1  [functieklaar, leerrijk, werkervaring, dynamis...   \n",
       "2  [geplaatst, door, willem, r, market, robovisio...   \n",
       "3  [omp, game, changer, optimize, supply, chain, ...   \n",
       "4  [80, year, gfk, reliable, trust, insight, part...   \n",
       "\n",
       "                                     nlp_desc_unique  \n",
       "0  {great, dynamic, research, inclusion, professi...  \n",
       "1  {oplossing, werktijdensneakers, vanzelfspreken...  \n",
       "2  {great, kubernetes, dynamic, subject, manage, ...  \n",
       "3  {challenge, skillsyour, expert, yourselfintern...  \n",
       "4  {great, offeran, shopper, challenge, dynamic, ...  "
      ]
     },
     "execution_count": 127,
     "metadata": {},
     "output_type": "execute_result"
    }
   ],
   "source": [
    "cards_df.head()"
   ]
  },
  {
   "cell_type": "code",
   "execution_count": 128,
   "metadata": {},
   "outputs": [],
   "source": [
    "# Add column with all unique word tokens for each description\n",
    "cards_df[\"nlp_desc_unique\"] = [set(nlp_desc) for nlp_desc in cards_df[\"nlp_desc\"]]"
   ]
  },
  {
   "cell_type": "markdown",
   "metadata": {},
   "source": [
    "### Split dataframe in Data Engineers, Scientists and Analysits"
   ]
  },
  {
   "cell_type": "code",
   "execution_count": 129,
   "metadata": {
    "execution": {
     "iopub.execute_input": "2021-08-24T14:56:42.676001Z",
     "iopub.status.busy": "2021-08-24T14:56:42.675543Z",
     "iopub.status.idle": "2021-08-24T14:56:42.686516Z",
     "shell.execute_reply": "2021-08-24T14:56:42.685633Z",
     "shell.execute_reply.started": "2021-08-24T14:56:42.675962Z"
    }
   },
   "outputs": [
    {
     "name": "stdout",
     "output_type": "stream",
     "text": [
      "Data Scientist jobs: 139, Data Engineer jobs:  205, Data Analyst jobs:  49\n"
     ]
    }
   ],
   "source": [
    "# Titles to lowercase\n",
    "cards_df[\"Title\"] = [title.lower() for title in cards_df[\"Title\"]]\n",
    "\n",
    "# Data Scientist\n",
    "dc_titles = [(\"scientist\" in a) | (\"science\" in a)  for a in cards_df[\"Title\"]]\n",
    "dc_cards = cards_df[dc_titles]\n",
    "\n",
    "# Data Analyst\n",
    "da_titles = [(\"analyst\" in a) for a in cards_df[\"Title\"]]\n",
    "da_cards = cards_df[da_titles]\n",
    "\n",
    "# Data engineers\n",
    "de_titles = [(\"engineer\" in a) for a in cards_df[\"Title\"]]\n",
    "de_cards = cards_df[de_titles]\n",
    "\n",
    "# Print amounts\n",
    "print(\"Data Scientist jobs: \" + str(dc_cards[\"Title\"].count()) + \", Data Engineer jobs:  \" + str(de_cards[\"Title\"].count()) + \", Data Analyst jobs:  \" + str(da_cards[\"Title\"].count()))"
   ]
  },
  {
   "cell_type": "markdown",
   "metadata": {},
   "source": [
    "### Location analysis"
   ]
  },
  {
   "cell_type": "code",
   "execution_count": 54,
   "metadata": {
    "execution": {
     "iopub.execute_input": "2021-08-24T14:56:47.944329Z",
     "iopub.status.busy": "2021-08-24T14:56:47.943828Z",
     "iopub.status.idle": "2021-08-24T14:56:48.150021Z",
     "shell.execute_reply": "2021-08-24T14:56:48.149135Z",
     "shell.execute_reply.started": "2021-08-24T14:56:47.944293Z"
    }
   },
   "outputs": [
    {
     "data": {
      "text/plain": [
       "<AxesSubplot:title={'center':'Data Science job locations'}, xlabel='Location'>"
      ]
     },
     "execution_count": 54,
     "metadata": {},
     "output_type": "execute_result"
    },
    {
     "data": {
      "image/png": "[encoded data removed]",
      "text/plain": [
       "<Figure size 432x288 with 1 Axes>"
      ]
     },
     "metadata": {
      "needs_background": "light"
     },
     "output_type": "display_data"
    }
   ],
   "source": [
    "# Data Scientist \n",
    "dc_cards.groupby([\"Location\"])[\"Title\"].count().sort_values(ascending=False).plot(kind=\"bar\", title=\"Data Science job locations\")"
   ]
  },
  {
   "cell_type": "code",
   "execution_count": 55,
   "metadata": {
    "execution": {
     "iopub.execute_input": "2021-08-24T15:02:30.526500Z",
     "iopub.status.busy": "2021-08-24T15:02:30.526152Z",
     "iopub.status.idle": "2021-08-24T15:02:30.809758Z",
     "shell.execute_reply": "2021-08-24T15:02:30.808779Z",
     "shell.execute_reply.started": "2021-08-24T15:02:30.526472Z"
    }
   },
   "outputs": [
    {
     "data": {
      "text/plain": [
       "<AxesSubplot:title={'center':'Data Engineer job locations'}, xlabel='Location'>"
      ]
     },
     "execution_count": 55,
     "metadata": {},
     "output_type": "execute_result"
    },
    {
     "data": {
      "image/png": "[encoded data removed]",
      "text/plain": [
       "<Figure size 432x288 with 1 Axes>"
      ]
     },
     "metadata": {
      "needs_background": "light"
     },
     "output_type": "display_data"
    }
   ],
   "source": [
    "# Data Engineer\n",
    "de_cards.groupby([\"Location\"])[\"Title\"].count().sort_values(ascending=False).plot(kind=\"bar\", title=\"Data Engineer job locations\")"
   ]
  },
  {
   "cell_type": "code",
   "execution_count": 56,
   "metadata": {
    "execution": {
     "iopub.execute_input": "2021-08-24T15:02:26.036358Z",
     "iopub.status.busy": "2021-08-24T15:02:26.035961Z",
     "iopub.status.idle": "2021-08-24T15:02:26.228749Z",
     "shell.execute_reply": "2021-08-24T15:02:26.227799Z",
     "shell.execute_reply.started": "2021-08-24T15:02:26.036309Z"
    }
   },
   "outputs": [
    {
     "data": {
      "text/plain": [
       "<AxesSubplot:title={'center':'Data Analyst job locations'}, xlabel='Location'>"
      ]
     },
     "execution_count": 56,
     "metadata": {},
     "output_type": "execute_result"
    },
    {
     "data": {
      "image/png": "[encoded data removed]",
      "text/plain": [
       "<Figure size 432x288 with 1 Axes>"
      ]
     },
     "metadata": {
      "needs_background": "light"
     },
     "output_type": "display_data"
    }
   ],
   "source": [
    "# Data Analyst \n",
    "da_cards.groupby([\"Location\"])[\"Title\"].count().sort_values(ascending=False).plot(kind=\"bar\", title=\"Data Analyst job locations\")"
   ]
  },
  {
   "cell_type": "markdown",
   "metadata": {},
   "source": [
    "### Create dataframe for Streamlit map"
   ]
  },
  {
   "cell_type": "code",
   "execution_count": 130,
   "metadata": {},
   "outputs": [
    {
     "data": {
      "text/html": [
       "<div>\n",
       "<style scoped>\n",
       "    .dataframe tbody tr th:only-of-type {\n",
       "        vertical-align: middle;\n",
       "    }\n",
       "\n",
       "    .dataframe tbody tr th {\n",
       "        vertical-align: top;\n",
       "    }\n",
       "\n",
       "    .dataframe thead th {\n",
       "        text-align: right;\n",
       "    }\n",
       "</style>\n",
       "<table border=\"1\" class=\"dataframe\">\n",
       "  <thead>\n",
       "    <tr style=\"text-align: right;\">\n",
       "      <th></th>\n",
       "      <th>Title</th>\n",
       "      <th>Company</th>\n",
       "      <th>Location</th>\n",
       "      <th>Description</th>\n",
       "      <th>Language</th>\n",
       "      <th>nlp_desc</th>\n",
       "      <th>nlp_desc_unique</th>\n",
       "    </tr>\n",
       "  </thead>\n",
       "  <tbody>\n",
       "    <tr>\n",
       "      <th>0</th>\n",
       "      <td>senior consultant in data science ...</td>\n",
       "      <td>Sia Partners</td>\n",
       "      <td>Antwerpen</td>\n",
       "      <td>as a senior consultant in data science you wi...</td>\n",
       "      <td>en</td>\n",
       "      <td>[senior, consultant, involve, transformation, ...</td>\n",
       "      <td>{great, dynamic, research, inclusion, professi...</td>\n",
       "    </tr>\n",
       "  </tbody>\n",
       "</table>\n",
       "</div>"
      ],
      "text/plain": [
       "                                               Title  \\\n",
       "0              senior consultant in data science ...   \n",
       "\n",
       "                                  Company   Location  \\\n",
       "0                Sia Partners              Antwerpen   \n",
       "\n",
       "                                         Description Language  \\\n",
       "0   as a senior consultant in data science you wi...       en   \n",
       "\n",
       "                                            nlp_desc  \\\n",
       "0  [senior, consultant, involve, transformation, ...   \n",
       "\n",
       "                                     nlp_desc_unique  \n",
       "0  {great, dynamic, research, inclusion, professi...  "
      ]
     },
     "execution_count": 130,
     "metadata": {},
     "output_type": "execute_result"
    }
   ],
   "source": [
    "dc_cards.head(1)"
   ]
  },
  {
   "cell_type": "code",
   "execution_count": 131,
   "metadata": {},
   "outputs": [
    {
     "data": {
      "text/html": [
       "<div>\n",
       "<style scoped>\n",
       "    .dataframe tbody tr th:only-of-type {\n",
       "        vertical-align: middle;\n",
       "    }\n",
       "\n",
       "    .dataframe tbody tr th {\n",
       "        vertical-align: top;\n",
       "    }\n",
       "\n",
       "    .dataframe thead th {\n",
       "        text-align: right;\n",
       "    }\n",
       "</style>\n",
       "<table border=\"1\" class=\"dataframe\">\n",
       "  <thead>\n",
       "    <tr style=\"text-align: right;\">\n",
       "      <th></th>\n",
       "      <th>Title</th>\n",
       "      <th>city</th>\n",
       "      <th>lat</th>\n",
       "      <th>lng</th>\n",
       "      <th>country</th>\n",
       "      <th>iso2</th>\n",
       "      <th>admin_name</th>\n",
       "      <th>capital</th>\n",
       "      <th>population</th>\n",
       "      <th>population_proper</th>\n",
       "    </tr>\n",
       "  </thead>\n",
       "  <tbody>\n",
       "    <tr>\n",
       "      <th>0</th>\n",
       "      <td>23</td>\n",
       "      <td>Antwerpen</td>\n",
       "      <td>51.2206</td>\n",
       "      <td>4.4003</td>\n",
       "      <td>Belgium</td>\n",
       "      <td>BE</td>\n",
       "      <td>Flanders</td>\n",
       "      <td>minor</td>\n",
       "      <td>920000.0</td>\n",
       "      <td>459805.0</td>\n",
       "    </tr>\n",
       "    <tr>\n",
       "      <th>1</th>\n",
       "      <td>14</td>\n",
       "      <td>Gent</td>\n",
       "      <td>51.0536</td>\n",
       "      <td>3.7253</td>\n",
       "      <td>Belgium</td>\n",
       "      <td>BE</td>\n",
       "      <td>Flanders</td>\n",
       "      <td>minor</td>\n",
       "      <td>262219.0</td>\n",
       "      <td>262219.0</td>\n",
       "    </tr>\n",
       "    <tr>\n",
       "      <th>2</th>\n",
       "      <td>7</td>\n",
       "      <td>Mechelen</td>\n",
       "      <td>51.0281</td>\n",
       "      <td>4.4803</td>\n",
       "      <td>Belgium</td>\n",
       "      <td>BE</td>\n",
       "      <td>Flanders</td>\n",
       "      <td>minor</td>\n",
       "      <td>86921.0</td>\n",
       "      <td>86921.0</td>\n",
       "    </tr>\n",
       "    <tr>\n",
       "      <th>3</th>\n",
       "      <td>6</td>\n",
       "      <td>Leuven</td>\n",
       "      <td>50.8791</td>\n",
       "      <td>4.7009</td>\n",
       "      <td>Belgium</td>\n",
       "      <td>BE</td>\n",
       "      <td>Flanders</td>\n",
       "      <td>minor</td>\n",
       "      <td>NaN</td>\n",
       "      <td>NaN</td>\n",
       "    </tr>\n",
       "    <tr>\n",
       "      <th>4</th>\n",
       "      <td>4</td>\n",
       "      <td>Brussels</td>\n",
       "      <td>50.8333</td>\n",
       "      <td>4.3333</td>\n",
       "      <td>Belgium</td>\n",
       "      <td>BE</td>\n",
       "      <td>Brussels-Capital Region</td>\n",
       "      <td>primary</td>\n",
       "      <td>1743000.0</td>\n",
       "      <td>1019022.0</td>\n",
       "    </tr>\n",
       "  </tbody>\n",
       "</table>\n",
       "</div>"
      ],
      "text/plain": [
       "   Title       city      lat     lng  country iso2               admin_name  \\\n",
       "0     23  Antwerpen  51.2206  4.4003  Belgium   BE                 Flanders   \n",
       "1     14       Gent  51.0536  3.7253  Belgium   BE                 Flanders   \n",
       "2      7   Mechelen  51.0281  4.4803  Belgium   BE                 Flanders   \n",
       "3      6     Leuven  50.8791  4.7009  Belgium   BE                 Flanders   \n",
       "4      4   Brussels  50.8333  4.3333  Belgium   BE  Brussels-Capital Region   \n",
       "\n",
       "   capital  population  population_proper  \n",
       "0    minor    920000.0           459805.0  \n",
       "1    minor    262219.0           262219.0  \n",
       "2    minor     86921.0            86921.0  \n",
       "3    minor         NaN                NaN  \n",
       "4  primary   1743000.0          1019022.0  "
      ]
     },
     "execution_count": 131,
     "metadata": {},
     "output_type": "execute_result"
    }
   ],
   "source": [
    "cities = pd.read_csv(\"E:/Projects/Job analysis/data/cities_be.csv\")\n",
    "dc_counts = pd.DataFrame(dc_cards.groupby([\"Location\"])[\"Title\"].count().sort_values(ascending=False))\n",
    "dc_counts.reset_index()\n",
    "dc_counts_cities = dc_counts.merge(cities, left_on=\"Location\", right_on=\"city\")\n",
    "dc_counts_cities.head()"
   ]
  },
  {
   "cell_type": "markdown",
   "metadata": {},
   "source": [
    "### Most frequent unique word counts in each job type"
   ]
  },
  {
   "cell_type": "code",
   "execution_count": 132,
   "metadata": {},
   "outputs": [],
   "source": [
    "# Data Science\n",
    "\n",
    "# Create 1 list of all unique words in english\n",
    "dc_cards_en = dc_cards[dc_cards[\"Language\"] == \"en\"]\n",
    "dc_desc_list = [] \n",
    "dc_desc_list = [word for unique in dc_cards_en[\"nlp_desc_unique\"] for word in list(unique)]\n",
    "dc_freq = pd.DataFrame(dc_desc_list).value_counts()"
   ]
  },
  {
   "cell_type": "code",
   "execution_count": 134,
   "metadata": {
    "scrolled": true
   },
   "outputs": [
    {
     "data": {
      "text/plain": [
       "<AxesSubplot:ylabel='0'>"
      ]
     },
     "execution_count": 134,
     "metadata": {},
     "output_type": "execute_result"
    },
    {
     "data": {
      "image/png": "[encoded data removed]",
      "text/plain": [
       "<Figure size 432x288 with 1 Axes>"
      ]
     },
     "metadata": {
      "needs_background": "light"
     },
     "output_type": "display_data"
    }
   ],
   "source": [
    "dc_freq[0:25].plot(kind=\"barh\")\n",
    "# Clearly some words need to be put together as 1 word and simplified \n",
    "# (ex: \"machine learning\", \"project and projects\")"
   ]
  }
 ],
 "metadata": {
  "kernelspec": {
   "display_name": "Python 3",
   "language": "python",
   "name": "python3"
  },
  "language_info": {
   "codemirror_mode": {
    "name": "ipython",
    "version": 3
   },
   "file_extension": ".py",
   "mimetype": "text/x-python",
   "name": "python",
   "nbconvert_exporter": "python",
   "pygments_lexer": "ipython3",
   "version": "3.8.5"
  }
 },
 "nbformat": 4,
 "nbformat_minor": 4
}
