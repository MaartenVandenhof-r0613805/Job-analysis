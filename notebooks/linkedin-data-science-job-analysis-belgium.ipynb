{
 "cells": [
  {
   "cell_type": "code",
   "execution_count": 1,
   "metadata": {
    "_cell_guid": "b1076dfc-b9ad-4769-8c92-a6c4dae69d19",
    "_uuid": "8f2839f25d086af736a60e9eeb907d3b93b6e0e5",
    "execution": {
     "iopub.execute_input": "2021-08-24T14:53:53.567770Z",
     "iopub.status.busy": "2021-08-24T14:53:53.567174Z",
     "iopub.status.idle": "2021-08-24T14:53:53.578720Z",
     "shell.execute_reply": "2021-08-24T14:53:53.578169Z",
     "shell.execute_reply.started": "2021-08-24T14:53:53.567657Z"
    }
   },
   "outputs": [],
   "source": [
    "import numpy as np \n",
    "import pandas as pd \n",
    "import json\n",
    "import matplotlib.pyplot as plt\n",
    "from collections import Counter\n",
    "import gensim\n",
    "from gensim.parsing.preprocessing import remove_stopwords, STOPWORDS\n",
    "from langdetect import detect\n",
    "import string\n",
    "import simplemma\n",
    "import pyLDAvis\n",
    "import pyLDAvis.gensim_models"
   ]
  },
  {
   "cell_type": "markdown",
   "metadata": {},
   "source": [
    "### Open JSON File\n",
    "Clean json data"
   ]
  },
  {
   "cell_type": "code",
   "execution_count": 2,
   "metadata": {
    "execution": {
     "iopub.execute_input": "2021-08-24T14:53:53.580502Z",
     "iopub.status.busy": "2021-08-24T14:53:53.579943Z",
     "iopub.status.idle": "2021-08-24T14:53:53.828115Z",
     "shell.execute_reply": "2021-08-24T14:53:53.827237Z",
     "shell.execute_reply.started": "2021-08-24T14:53:53.580447Z"
    }
   },
   "outputs": [
    {
     "name": "stdout",
     "output_type": "stream",
     "text": [
      "<class 'pandas.core.frame.DataFrame'>\n",
      "Int64Index: 899 entries, 0 to 999\n",
      "Data columns (total 4 columns):\n",
      " #   Column       Non-Null Count  Dtype \n",
      "---  ------       --------------  ----- \n",
      " 0   Title        899 non-null    object\n",
      " 1   Company      899 non-null    object\n",
      " 2   Location     899 non-null    object\n",
      " 3   Description  899 non-null    object\n",
      "dtypes: object(4)\n",
      "memory usage: 35.1+ KB\n"
     ]
    },
    {
     "name": "stderr",
     "output_type": "stream",
     "text": [
      "C:\\Users\\maart\\anaconda3\\lib\\site-packages\\ipykernel\\ipkernel.py:287: DeprecationWarning: `should_run_async` will not call `transform_cell` automatically in the future. Please pass the result to `transformed_cell` argument and any exception that happen during thetransform in `preprocessing_exc_tuple` in IPython 7.17 and above.\n",
      "  and should_run_async(code)\n"
     ]
    }
   ],
   "source": [
    "with open('E:/Projects/Job analysis/data/Jobcards.json', \"r\") as json_file:\n",
    "    cards_js = json.load(json_file)\n",
    "    cards_df = pd.read_json(cards_js)\n",
    "# Drop null\n",
    "cards_df = cards_df.dropna()\n",
    "\n",
    "# Replace backspaces with \"\"\n",
    "for name in cards_df.columns:\n",
    "    cards_df[name] = [a.replace(\"\\n\", \"\") for a in cards_df[name]]\n",
    "\n",
    "# Select city as Location\n",
    "cards_df[\"Location\"] = [a.split()[0].replace(\",\", \"\") for a in cards_df[\"Location\"]]\n",
    "\n",
    "# Get info DF\n",
    "cards_df.info()"
   ]
  },
  {
   "cell_type": "code",
   "execution_count": 3,
   "metadata": {
    "execution": {
     "iopub.execute_input": "2021-08-24T14:53:53.830482Z",
     "iopub.status.busy": "2021-08-24T14:53:53.830174Z",
     "iopub.status.idle": "2021-08-24T14:53:53.847851Z",
     "shell.execute_reply": "2021-08-24T14:53:53.847021Z",
     "shell.execute_reply.started": "2021-08-24T14:53:53.830455Z"
    }
   },
   "outputs": [
    {
     "name": "stderr",
     "output_type": "stream",
     "text": [
      "C:\\Users\\maart\\anaconda3\\lib\\site-packages\\ipykernel\\ipkernel.py:287: DeprecationWarning: `should_run_async` will not call `transform_cell` automatically in the future. Please pass the result to `transformed_cell` argument and any exception that happen during thetransform in `preprocessing_exc_tuple` in IPython 7.17 and above.\n",
      "  and should_run_async(code)\n"
     ]
    },
    {
     "data": {
      "text/html": [
       "<div>\n",
       "<style scoped>\n",
       "    .dataframe tbody tr th:only-of-type {\n",
       "        vertical-align: middle;\n",
       "    }\n",
       "\n",
       "    .dataframe tbody tr th {\n",
       "        vertical-align: top;\n",
       "    }\n",
       "\n",
       "    .dataframe thead th {\n",
       "        text-align: right;\n",
       "    }\n",
       "</style>\n",
       "<table border=\"1\" class=\"dataframe\">\n",
       "  <thead>\n",
       "    <tr style=\"text-align: right;\">\n",
       "      <th></th>\n",
       "      <th>Title</th>\n",
       "      <th>Company</th>\n",
       "      <th>Location</th>\n",
       "      <th>Description</th>\n",
       "    </tr>\n",
       "  </thead>\n",
       "  <tbody>\n",
       "    <tr>\n",
       "      <th>0</th>\n",
       "      <td>Senior Consultant in Data science ...</td>\n",
       "      <td>Sia Partners</td>\n",
       "      <td>Antwerpen</td>\n",
       "      <td>As a senior consultant in Data Science, you w...</td>\n",
       "    </tr>\n",
       "    <tr>\n",
       "      <th>1</th>\n",
       "      <td>Stage - Data Science</td>\n",
       "      <td>Argenta</td>\n",
       "      <td>Antwerpen</td>\n",
       "      <td>FunctieKlaar voor een eerste leerri...</td>\n",
       "    </tr>\n",
       "    <tr>\n",
       "      <th>2</th>\n",
       "      <td>Data Science Engineer Healthcare  ...</td>\n",
       "      <td>Robovision</td>\n",
       "      <td>Gent</td>\n",
       "      <td>Geplaatst door                  Willem R...</td>\n",
       "    </tr>\n",
       "    <tr>\n",
       "      <th>3</th>\n",
       "      <td>Data Science Software Engineer    ...</td>\n",
       "      <td>OMP</td>\n",
       "      <td>Gent</td>\n",
       "      <td>We are OMP, a game changer that opt...</td>\n",
       "    </tr>\n",
       "    <tr>\n",
       "      <th>4</th>\n",
       "      <td>Junior Market Analyst (FMCG)      ...</td>\n",
       "      <td>GfK</td>\n",
       "      <td>Leuven</td>\n",
       "      <td>For over 80 years, GfK has been a r...</td>\n",
       "    </tr>\n",
       "  </tbody>\n",
       "</table>\n",
       "</div>"
      ],
      "text/plain": [
       "                                               Title  \\\n",
       "0              Senior Consultant in Data science ...   \n",
       "1                     Stage - Data Science             \n",
       "2              Data Science Engineer Healthcare  ...   \n",
       "3              Data Science Software Engineer    ...   \n",
       "4              Junior Market Analyst (FMCG)      ...   \n",
       "\n",
       "                                  Company   Location  \\\n",
       "0                Sia Partners              Antwerpen   \n",
       "1                     Argenta              Antwerpen   \n",
       "2                  Robovision                   Gent   \n",
       "3                         OMP                   Gent   \n",
       "4                         GfK                 Leuven   \n",
       "\n",
       "                                         Description  \n",
       "0   As a senior consultant in Data Science, you w...  \n",
       "1             FunctieKlaar voor een eerste leerri...  \n",
       "2        Geplaatst door                  Willem R...  \n",
       "3             We are OMP, a game changer that opt...  \n",
       "4             For over 80 years, GfK has been a r...  "
      ]
     },
     "execution_count": 3,
     "metadata": {},
     "output_type": "execute_result"
    }
   ],
   "source": [
    "# Quick check for \"\\n\"\n",
    "cards_df.head()"
   ]
  },
  {
   "cell_type": "markdown",
   "metadata": {},
   "source": [
    "### Prepare data for NLP"
   ]
  },
  {
   "cell_type": "code",
   "execution_count": 4,
   "metadata": {},
   "outputs": [
    {
     "name": "stderr",
     "output_type": "stream",
     "text": [
      "C:\\Users\\maart\\anaconda3\\lib\\site-packages\\ipykernel\\ipkernel.py:287: DeprecationWarning: `should_run_async` will not call `transform_cell` automatically in the future. Please pass the result to `transformed_cell` argument and any exception that happen during thetransform in `preprocessing_exc_tuple` in IPython 7.17 and above.\n",
      "  and should_run_async(code)\n"
     ]
    },
    {
     "data": {
      "text/html": [
       "<div>\n",
       "<style scoped>\n",
       "    .dataframe tbody tr th:only-of-type {\n",
       "        vertical-align: middle;\n",
       "    }\n",
       "\n",
       "    .dataframe tbody tr th {\n",
       "        vertical-align: top;\n",
       "    }\n",
       "\n",
       "    .dataframe thead th {\n",
       "        text-align: right;\n",
       "    }\n",
       "</style>\n",
       "<table border=\"1\" class=\"dataframe\">\n",
       "  <thead>\n",
       "    <tr style=\"text-align: right;\">\n",
       "      <th></th>\n",
       "      <th>Title</th>\n",
       "      <th>Company</th>\n",
       "      <th>Location</th>\n",
       "      <th>Description</th>\n",
       "      <th>Language</th>\n",
       "    </tr>\n",
       "  </thead>\n",
       "  <tbody>\n",
       "    <tr>\n",
       "      <th>0</th>\n",
       "      <td>Senior Consultant in Data science ...</td>\n",
       "      <td>Sia Partners</td>\n",
       "      <td>Antwerpen</td>\n",
       "      <td>as a senior consultant in data science, you w...</td>\n",
       "      <td>en</td>\n",
       "    </tr>\n",
       "    <tr>\n",
       "      <th>1</th>\n",
       "      <td>Stage - Data Science</td>\n",
       "      <td>Argenta</td>\n",
       "      <td>Antwerpen</td>\n",
       "      <td>functieklaar voor een eerste leerri...</td>\n",
       "      <td>nl</td>\n",
       "    </tr>\n",
       "    <tr>\n",
       "      <th>2</th>\n",
       "      <td>Data Science Engineer Healthcare  ...</td>\n",
       "      <td>Robovision</td>\n",
       "      <td>Gent</td>\n",
       "      <td>geplaatst door                  willem r...</td>\n",
       "      <td>en</td>\n",
       "    </tr>\n",
       "    <tr>\n",
       "      <th>3</th>\n",
       "      <td>Data Science Software Engineer    ...</td>\n",
       "      <td>OMP</td>\n",
       "      <td>Gent</td>\n",
       "      <td>we are omp, a game changer that opt...</td>\n",
       "      <td>en</td>\n",
       "    </tr>\n",
       "    <tr>\n",
       "      <th>4</th>\n",
       "      <td>Junior Market Analyst (FMCG)      ...</td>\n",
       "      <td>GfK</td>\n",
       "      <td>Leuven</td>\n",
       "      <td>for over 80 years, gfk has been a r...</td>\n",
       "      <td>en</td>\n",
       "    </tr>\n",
       "    <tr>\n",
       "      <th>...</th>\n",
       "      <td>...</td>\n",
       "      <td>...</td>\n",
       "      <td>...</td>\n",
       "      <td>...</td>\n",
       "      <td>...</td>\n",
       "    </tr>\n",
       "    <tr>\n",
       "      <th>995</th>\n",
       "      <td>Finance Enterprise Partner</td>\n",
       "      <td>Roche</td>\n",
       "      <td>Brussel</td>\n",
       "      <td>a finance enterprise partner (fep) leverages ...</td>\n",
       "      <td>en</td>\n",
       "    </tr>\n",
       "    <tr>\n",
       "      <th>996</th>\n",
       "      <td>(Senior) Clinical Data Manager (CD...</td>\n",
       "      <td>SGS</td>\n",
       "      <td>Mechelen</td>\n",
       "      <td>company descriptionat sgs, you can choose. fi...</td>\n",
       "      <td>en</td>\n",
       "    </tr>\n",
       "    <tr>\n",
       "      <th>997</th>\n",
       "      <td>Senior Clinical Project Management...</td>\n",
       "      <td>IQVIA</td>\n",
       "      <td>Antwerpen</td>\n",
       "      <td>job overviewsenior clinical project managemen...</td>\n",
       "      <td>en</td>\n",
       "    </tr>\n",
       "    <tr>\n",
       "      <th>998</th>\n",
       "      <td>Sales Manager Hospital Belux      ...</td>\n",
       "      <td>IQVIA</td>\n",
       "      <td>Zaventem</td>\n",
       "      <td>hospital channelbuild relationship ...</td>\n",
       "      <td>en</td>\n",
       "    </tr>\n",
       "    <tr>\n",
       "      <th>999</th>\n",
       "      <td>Associate Director, Project Delive...</td>\n",
       "      <td>IQVIA</td>\n",
       "      <td>Zaventem</td>\n",
       "      <td>associate director, provider &amp; site...</td>\n",
       "      <td>en</td>\n",
       "    </tr>\n",
       "  </tbody>\n",
       "</table>\n",
       "<p>899 rows × 5 columns</p>\n",
       "</div>"
      ],
      "text/plain": [
       "                                                 Title  \\\n",
       "0                Senior Consultant in Data science ...   \n",
       "1                       Stage - Data Science             \n",
       "2                Data Science Engineer Healthcare  ...   \n",
       "3                Data Science Software Engineer    ...   \n",
       "4                Junior Market Analyst (FMCG)      ...   \n",
       "..                                                 ...   \n",
       "995               Finance Enterprise Partner             \n",
       "996              (Senior) Clinical Data Manager (CD...   \n",
       "997              Senior Clinical Project Management...   \n",
       "998              Sales Manager Hospital Belux      ...   \n",
       "999              Associate Director, Project Delive...   \n",
       "\n",
       "                                    Company   Location  \\\n",
       "0                  Sia Partners              Antwerpen   \n",
       "1                       Argenta              Antwerpen   \n",
       "2                    Robovision                   Gent   \n",
       "3                           OMP                   Gent   \n",
       "4                           GfK                 Leuven   \n",
       "..                                      ...        ...   \n",
       "995                       Roche                Brussel   \n",
       "996                         SGS               Mechelen   \n",
       "997                       IQVIA              Antwerpen   \n",
       "998                       IQVIA               Zaventem   \n",
       "999                       IQVIA               Zaventem   \n",
       "\n",
       "                                           Description Language  \n",
       "0     as a senior consultant in data science, you w...       en  \n",
       "1               functieklaar voor een eerste leerri...       nl  \n",
       "2          geplaatst door                  willem r...       en  \n",
       "3               we are omp, a game changer that opt...       en  \n",
       "4               for over 80 years, gfk has been a r...       en  \n",
       "..                                                 ...      ...  \n",
       "995   a finance enterprise partner (fep) leverages ...       en  \n",
       "996   company descriptionat sgs, you can choose. fi...       en  \n",
       "997   job overviewsenior clinical project managemen...       en  \n",
       "998             hospital channelbuild relationship ...       en  \n",
       "999             associate director, provider & site...       en  \n",
       "\n",
       "[899 rows x 5 columns]"
      ]
     },
     "execution_count": 4,
     "metadata": {},
     "output_type": "execute_result"
    }
   ],
   "source": [
    "# Add language and set description to lowercase\n",
    "cards_df[\"Language\"] = [detect(a) for a in cards_df[\"Description\"]]\n",
    "cards_df[\"Description\"] = [a.lower() for a in cards_df[\"Description\"]]\n",
    "cards_df"
   ]
  },
  {
   "cell_type": "code",
   "execution_count": 5,
   "metadata": {},
   "outputs": [
    {
     "name": "stderr",
     "output_type": "stream",
     "text": [
      "C:\\Users\\maart\\anaconda3\\lib\\site-packages\\ipykernel\\ipkernel.py:287: DeprecationWarning: `should_run_async` will not call `transform_cell` automatically in the future. Please pass the result to `transformed_cell` argument and any exception that happen during thetransform in `preprocessing_exc_tuple` in IPython 7.17 and above.\n",
      "  and should_run_async(code)\n"
     ]
    }
   ],
   "source": [
    "# Create stopword lists\n",
    "# Dutch Stop words\n",
    "sw_nl = [\"aan\",\"aangaande\",\"aangezien\",\"achte\",\"achter\",\"achterna\",\"af\",\"afgelopen\",\"al\",\"aldaar\",\"aldus\",\"alhoewel\",\"alias\",\"alle\",\"allebei\",\"alleen\",\"alles\",\"als\",\"alsnog\",\"altijd\",\"altoos\",\"ander\",\"andere\",\"anders\",\"anderszins\",\"beetje\",\"behalve\",\"behoudens\",\"beide\",\"beiden\",\"ben\",\"beneden\",\"bent\",\"bepaald\",\"betreffende\",\"bij\",\"bijna\",\"bijv\",\"binnen\",\"binnenin\",\"blijkbaar\",\"blijken\",\"boven\",\"bovenal\",\"bovendien\",\"bovengenoemd\",\"bovenstaand\",\"bovenvermeld\",\"buiten\",\"bv\",\"daar\",\"daardoor\",\"daarheen\",\"daarin\",\"daarna\",\"daarnet\",\"daarom\",\"daarop\",\"daaruit\",\"daarvanlangs\",\"dan\",\"dat\",\"de\",\"deden\",\"deed\",\"der\",\"derde\",\"derhalve\",\"dertig\",\"deze\",\"dhr\",\"die\",\"dikwijls\",\"dit\",\"doch\",\"doe\",\"doen\",\"doet\",\"door\",\"doorgaand\",\"drie\",\"duizend\",\"dus\",\"echter\",\"een\",\"eens\",\"eer\",\"eerdat\",\"eerder\",\"eerlang\",\"eerst\",\"eerste\",\"eigen\",\"eigenlijk\",\"elk\",\"elke\",\"en\",\"enig\",\"enige\",\"enigszins\",\"enkel\",\"er\",\"erdoor\",\"erg\",\"ergens\",\"etc\",\"etcetera\",\"even\",\"eveneens\",\"evenwel\",\"gauw\",\"ge\",\"gedurende\",\"geen\",\"gehad\",\"gekund\",\"geleden\",\"gelijk\",\"gemoeten\",\"gemogen\",\"genoeg\",\"geweest\",\"gewoon\",\"gewoonweg\",\"haar\",\"haarzelf\",\"had\",\"hadden\",\"hare\",\"heb\",\"hebben\",\"hebt\",\"hedden\",\"heeft\",\"heel\",\"hem\",\"hemzelf\",\"hen\",\"het\",\"hetzelfde\",\"hier\",\"hierbeneden\",\"hierboven\",\"hierin\",\"hierna\",\"hierom\",\"hij\",\"hijzelf\",\"hoe\",\"hoewel\",\"honderd\",\"hun\",\"hunne\",\"ieder\",\"iedere\",\"iedereen\",\"iemand\",\"iets\",\"ik\",\"ikzelf\",\"in\",\"inderdaad\",\"inmiddels\",\"intussen\",\"inzake\",\"is\",\"ja\",\"je\",\"jezelf\",\"jij\",\"jijzelf\",\"jou\",\"jouw\",\"jouwe\",\"juist\",\"jullie\",\"kan\",\"klaar\",\"kon\",\"konden\",\"krachtens\",\"kun\",\"kunnen\",\"kunt\",\"laatst\",\"later\",\"liever\",\"lijken\",\"lijkt\",\"maak\",\"maakt\",\"maakte\",\"maakten\",\"maar\",\"mag\",\"maken\",\"me\",\"meer\",\"meest\",\"meestal\",\"men\",\"met\",\"mevr\",\"mezelf\",\"mij\",\"mijn\",\"mijnent\",\"mijner\",\"mijzelf\",\"minder\",\"miss\",\"misschien\",\"missen\",\"mits\",\"mocht\",\"mochten\",\"moest\",\"moesten\",\"moet\",\"moeten\",\"mogen\",\"mr\",\"mrs\",\"mw\",\"na\",\"naar\",\"nadat\",\"nam\",\"namelijk\",\"nee\",\"neem\",\"negen\",\"nemen\",\"nergens\",\"net\",\"niemand\",\"niet\",\"niets\",\"niks\",\"noch\",\"nochtans\",\"nog\",\"nogal\",\"nooit\",\"nu\",\"nv\",\"of\",\"ofschoon\",\"om\",\"omdat\",\"omhoog\",\"omlaag\",\"omstreeks\",\"omtrent\",\"omver\",\"ondanks\",\"onder\",\"ondertussen\",\"ongeveer\",\"ons\",\"onszelf\",\"onze\",\"onzeker\",\"ooit\",\"ook\",\"op\",\"opnieuw\",\"opzij\",\"over\",\"overal\",\"overeind\",\"overige\",\"overigens\",\"paar\",\"pas\",\"per\",\"precies\",\"recent\",\"redelijk\",\"reeds\",\"rond\",\"rondom\",\"samen\",\"sedert\",\"sinds\",\"sindsdien\",\"slechts\",\"sommige\",\"spoedig\",\"steeds\",\"tamelijk\",\"te\",\"tegen\",\"tegenover\",\"tenzij\",\"terwijl\",\"thans\",\"tien\",\"tiende\",\"tijdens\",\"tja\",\"toch\",\"toe\",\"toen\",\"toenmaals\",\"toenmalig\",\"tot\",\"totdat\",\"tussen\",\"twee\",\"tweede\",\"u\",\"uit\",\"uitgezonderd\",\"uw\",\"vaak\",\"vaakwat\",\"van\",\"vanaf\",\"vandaan\",\"vanuit\",\"vanwege\",\"veel\",\"veeleer\",\"veertig\",\"verder\",\"verscheidene\",\"verschillende\",\"vervolgens\",\"via\",\"vier\",\"vierde\",\"vijf\",\"vijfde\",\"vijftig\",\"vol\",\"volgend\",\"volgens\",\"voor\",\"vooraf\",\"vooral\",\"vooralsnog\",\"voorbij\",\"voordat\",\"voordezen\",\"voordien\",\"voorheen\",\"voorop\",\"voorts\",\"vooruit\",\"vrij\",\"vroeg\",\"waar\",\"waarom\",\"waarschijnlijk\",\"wanneer\",\"want\",\"waren\",\"was\",\"wat\",\"we\",\"wederom\",\"weer\",\"weg\",\"wegens\",\"weinig\",\"wel\",\"weldra\",\"welk\",\"welke\",\"werd\",\"werden\",\"werder\",\"wezen\",\"whatever\",\"wie\",\"wiens\",\"wier\",\"wij\",\"wijzelf\",\"wil\",\"wilden\",\"willen\",\"word\",\"worden\",\"wordt\",\"zal\",\"ze\",\"zei\",\"zeker\",\"zelf\",\"zelfde\",\"zelfs\",\"zes\",\"zeven\",\"zich\",\"zichzelf\",\"zij\",\"zijn\",\"zijne\",\"zijzelf\",\"zo\",\"zoals\",\"zodat\",\"zodra\",\"zonder\",\"zou\",\"zouden\",\"zowat\",\"zulk\",\"zulke\",\"zullen\",\"zult\"]\n",
    "\n",
    "# English stop words\n",
    "sw_en = list(STOPWORDS) + [\"science\", \"data\", \"apply\", \"job\", \"datum\", \"year\", \"join\"]\n",
    "\n",
    "# French stop words\n",
    "sw_fr = [\"a\",\"abord\",\"absolument\",\"afin\",\"ah\",\"ai\",\"aie\",\"aient\",\"aies\",\"ailleurs\",\"ainsi\",\"ait\",\"allaient\",\"allo\",\"allons\",\"allô\",\"alors\",\"anterieur\",\"anterieure\",\"anterieures\",\"apres\",\"après\",\"as\",\"assez\",\"attendu\",\"au\",\"aucun\",\"aucune\",\"aucuns\",\"aujourd\",\"aujourd'hui\",\"aupres\",\"auquel\",\"aura\",\"aurai\",\"auraient\",\"aurais\",\"aurait\",\"auras\",\"aurez\",\"auriez\",\"aurions\",\"aurons\",\"auront\",\"aussi\",\"autant\",\"autre\",\"autrefois\",\"autrement\",\"autres\",\"autrui\",\"aux\",\"auxquelles\",\"auxquels\",\"avaient\",\"avais\",\"avait\",\"avant\",\"avec\",\"avez\",\"aviez\",\"avions\",\"avoir\",\"avons\",\"ayant\",\"ayez\",\"ayons\",\"b\",\"bah\",\"bas\",\"basee\",\"bat\",\"beau\",\"beaucoup\",\"bien\",\"bigre\",\"bon\",\"boum\",\"bravo\",\"brrr\",\"c\",\"car\",\"ce\",\"ceci\",\"cela\",\"celle\",\"celle-ci\",\"celle-là\",\"celles\",\"celles-ci\",\"celles-là\",\"celui\",\"celui-ci\",\"celui-là\",\"celà\",\"cent\",\"cependant\",\"certain\",\"certaine\",\"certaines\",\"certains\",\"certes\",\"ces\",\"cet\",\"cette\",\"ceux\",\"ceux-ci\",\"ceux-là\",\"chacun\",\"chacune\",\"chaque\",\"cher\",\"chers\",\"chez\",\"chiche\",\"chut\",\"chère\",\"chères\",\"ci\",\"cinq\",\"cinquantaine\",\"cinquante\",\"cinquantième\",\"cinquième\",\"clac\",\"clic\",\"combien\",\"comme\",\"comment\",\"comparable\",\"comparables\",\"compris\",\"concernant\",\"contre\",\"couic\",\"crac\",\"d\",\"da\",\"dans\",\"de\",\"debout\",\"dedans\",\"dehors\",\"deja\",\"delà\",\"depuis\",\"dernier\",\"derniere\",\"derriere\",\"derrière\",\"des\",\"desormais\",\"desquelles\",\"desquels\",\"dessous\",\"dessus\",\"deux\",\"deuxième\",\"deuxièmement\",\"devant\",\"devers\",\"devra\",\"devrait\",\"different\",\"differentes\",\"differents\",\"différent\",\"différente\",\"différentes\",\"différents\",\"dire\",\"directe\",\"directement\",\"dit\",\"dite\",\"dits\",\"divers\",\"diverse\",\"diverses\",\"dix\",\"dix-huit\",\"dix-neuf\",\"dix-sept\",\"dixième\",\"doit\",\"doivent\",\"donc\",\"dont\",\"dos\",\"douze\",\"douzième\",\"dring\",\"droite\",\"du\",\"duquel\",\"durant\",\"dès\",\"début\",\"désormais\",\"e\",\"effet\",\"egale\",\"egalement\",\"egales\",\"eh\",\"elle\",\"elle-même\",\"elles\",\"elles-mêmes\",\"en\",\"encore\",\"enfin\",\"entre\",\"envers\",\"environ\",\"es\",\"essai\",\"est\",\"et\",\"etant\",\"etc\",\"etre\",\"eu\",\"eue\",\"eues\",\"euh\",\"eurent\",\"eus\",\"eusse\",\"eussent\",\"eusses\",\"eussiez\",\"eussions\",\"eut\",\"eux\",\"eux-mêmes\",\"exactement\",\"excepté\",\"extenso\",\"exterieur\",\"eûmes\",\"eût\",\"eûtes\",\"f\",\"fais\",\"faisaient\",\"faisant\",\"fait\",\"faites\",\"façon\",\"feront\",\"fi\",\"flac\",\"floc\",\"fois\",\"font\",\"force\",\"furent\",\"fus\",\"fusse\",\"fussent\",\"fusses\",\"fussiez\",\"fussions\",\"fut\",\"fûmes\",\"fût\",\"fûtes\",\"g\",\"gens\",\"h\",\"ha\",\"haut\",\"hein\",\"hem\",\"hep\",\"hi\",\"ho\",\"holà\",\"hop\",\"hormis\",\"hors\",\"hou\",\"houp\",\"hue\",\"hui\",\"huit\",\"huitième\",\"hum\",\"hurrah\",\"hé\",\"hélas\",\"i\",\"ici\",\"il\",\"ils\",\"importe\",\"j\",\"je\",\"jusqu\",\"jusque\",\"juste\",\"k\",\"l\",\"la\",\"laisser\",\"laquelle\",\"las\",\"le\",\"lequel\",\"les\",\"lesquelles\",\"lesquels\",\"leur\",\"leurs\",\"longtemps\",\"lors\",\"lorsque\",\"lui\",\"lui-meme\",\"lui-même\",\"là\",\"lès\",\"m\",\"ma\",\"maint\",\"maintenant\",\"mais\",\"malgre\",\"malgré\",\"maximale\",\"me\",\"meme\",\"memes\",\"merci\",\"mes\",\"mien\",\"mienne\",\"miennes\",\"miens\",\"mille\",\"mince\",\"mine\",\"minimale\",\"moi\",\"moi-meme\",\"moi-même\",\"moindres\",\"moins\",\"mon\",\"mot\",\"moyennant\",\"multiple\",\"multiples\",\"même\",\"mêmes\",\"n\",\"na\",\"naturel\",\"naturelle\",\"naturelles\",\"ne\",\"neanmoins\",\"necessaire\",\"necessairement\",\"neuf\",\"neuvième\",\"ni\",\"nombreuses\",\"nombreux\",\"nommés\",\"non\",\"nos\",\"notamment\",\"notre\",\"nous\",\"nous-mêmes\",\"nouveau\",\"nouveaux\",\"nul\",\"néanmoins\",\"nôtre\",\"nôtres\",\"o\",\"oh\",\"ohé\",\"ollé\",\"olé\",\"on\",\"ont\",\"onze\",\"onzième\",\"ore\",\"ou\",\"ouf\",\"ouias\",\"oust\",\"ouste\",\"outre\",\"ouvert\",\"ouverte\",\"ouverts\",\"o|\",\"où\",\"p\",\"paf\",\"pan\",\"par\",\"parce\",\"parfois\",\"parle\",\"parlent\",\"parler\",\"parmi\",\"parole\",\"parseme\",\"partant\",\"particulier\",\"particulière\",\"particulièrement\",\"pas\",\"passé\",\"pendant\",\"pense\",\"permet\",\"personne\",\"personnes\",\"peu\",\"peut\",\"peuvent\",\"peux\",\"pff\",\"pfft\",\"pfut\",\"pif\",\"pire\",\"pièce\",\"plein\",\"plouf\",\"plupart\",\"plus\",\"plusieurs\",\"plutôt\",\"possessif\",\"possessifs\",\"possible\",\"possibles\",\"pouah\",\"pour\",\"pourquoi\",\"pourrais\",\"pourrait\",\"pouvait\",\"prealable\",\"precisement\",\"premier\",\"première\",\"premièrement\",\"pres\",\"probable\",\"probante\",\"procedant\",\"proche\",\"près\",\"psitt\",\"pu\",\"puis\",\"puisque\",\"pur\",\"pure\",\"q\",\"qu\",\"quand\",\"quant\",\"quant-à-soi\",\"quanta\",\"quarante\",\"quatorze\",\"quatre\",\"quatre-vingt\",\"quatrième\",\"quatrièmement\",\"que\",\"quel\",\"quelconque\",\"quelle\",\"quelles\",\"quelqu'un\",\"quelque\",\"quelques\",\"quels\",\"qui\",\"quiconque\",\"quinze\",\"quoi\",\"quoique\",\"r\",\"rare\",\"rarement\",\"rares\",\"relative\",\"relativement\",\"remarquable\",\"rend\",\"rendre\",\"restant\",\"reste\",\"restent\",\"restrictif\",\"retour\",\"revoici\",\"revoilà\",\"rien\",\"s\",\"sa\",\"sacrebleu\",\"sait\",\"sans\",\"sapristi\",\"sauf\",\"se\",\"sein\",\"seize\",\"selon\",\"semblable\",\"semblaient\",\"semble\",\"semblent\",\"sent\",\"sept\",\"septième\",\"sera\",\"serai\",\"seraient\",\"serais\",\"serait\",\"seras\",\"serez\",\"seriez\",\"serions\",\"serons\",\"seront\",\"ses\",\"seul\",\"seule\",\"seulement\",\"si\",\"sien\",\"sienne\",\"siennes\",\"siens\",\"sinon\",\"six\",\"sixième\",\"soi\",\"soi-même\",\"soient\",\"sois\",\"soit\",\"soixante\",\"sommes\",\"son\",\"sont\",\"sous\",\"souvent\",\"soyez\",\"soyons\",\"specifique\",\"specifiques\",\"speculatif\",\"stop\",\"strictement\",\"subtiles\",\"suffisant\",\"suffisante\",\"suffit\",\"suis\",\"suit\",\"suivant\",\"suivante\",\"suivantes\",\"suivants\",\"suivre\",\"sujet\",\"superpose\",\"sur\",\"surtout\",\"t\",\"ta\",\"tac\",\"tandis\",\"tant\",\"tardive\",\"te\",\"tel\",\"telle\",\"tellement\",\"telles\",\"tels\",\"tenant\",\"tend\",\"tenir\",\"tente\",\"tes\",\"tic\",\"tien\",\"tienne\",\"tiennes\",\"tiens\",\"toc\",\"toi\",\"toi-même\",\"ton\",\"touchant\",\"toujours\",\"tous\",\"tout\",\"toute\",\"toutefois\",\"toutes\",\"treize\",\"trente\",\"tres\",\"trois\",\"troisième\",\"troisièmement\",\"trop\",\"très\",\"tsoin\",\"tsouin\",\"tu\",\"té\",\"u\",\"un\",\"une\",\"unes\",\"uniformement\",\"unique\",\"uniques\",\"uns\",\"v\",\"va\",\"vais\",\"valeur\",\"vas\",\"vers\",\"via\",\"vif\",\"vifs\",\"vingt\",\"vivat\",\"vive\",\"vives\",\"vlan\",\"voici\",\"voie\",\"voient\",\"voilà\",\"voire\",\"vont\",\"vos\",\"votre\",\"vous\",\"vous-mêmes\",\"vu\",\"vé\",\"vôtre\",\"vôtres\",\"w\",\"x\",\"y\",\"z\",\"zut\",\"à\",\"â\",\"ça\",\"ès\",\"étaient\",\"étais\",\"était\",\"étant\",\"état\",\"étiez\",\"étions\",\"été\",\"étée\",\"étées\",\"étés\",\"êtes\",\"être\",\"ô\"]"
   ]
  },
  {
   "cell_type": "code",
   "execution_count": 6,
   "metadata": {},
   "outputs": [
    {
     "name": "stderr",
     "output_type": "stream",
     "text": [
      "C:\\Users\\maart\\anaconda3\\lib\\site-packages\\ipykernel\\ipkernel.py:287: DeprecationWarning: `should_run_async` will not call `transform_cell` automatically in the future. Please pass the result to `transformed_cell` argument and any exception that happen during thetransform in `preprocessing_exc_tuple` in IPython 7.17 and above.\n",
      "  and should_run_async(code)\n"
     ]
    }
   ],
   "source": [
    "# Create functions for nlp Data Cleaning\n",
    "\n",
    "# Remove punctuations\n",
    "def remove_punc(text):\n",
    "    cleaned_list = [word for word in text if word not in string.punctuation]\n",
    "    return \"\".join(cleaned_list)\n",
    "   \n",
    "# Remove stopwords\n",
    "def remove_stopwords(word_list, lang):\n",
    "    stopwords = sw_en\n",
    "    if lang == \"nl\":\n",
    "        stopwords = sw_nl\n",
    "    if lang == \"fr\":\n",
    "        stopwords = sw_fr\n",
    "    return [word for word in word_list if word not in stopwords]\n",
    "\n",
    "# Lemmatize\n",
    "def lemmatize(word_list, lang):\n",
    "    langdata = simplemma.load_data(lang)\n",
    "    return [simplemma.lemmatize(word, langdata) for word in word_list]"
   ]
  },
  {
   "cell_type": "code",
   "execution_count": 7,
   "metadata": {},
   "outputs": [
    {
     "name": "stderr",
     "output_type": "stream",
     "text": [
      "C:\\Users\\maart\\anaconda3\\lib\\site-packages\\ipykernel\\ipkernel.py:287: DeprecationWarning: `should_run_async` will not call `transform_cell` automatically in the future. Please pass the result to `transformed_cell` argument and any exception that happen during thetransform in `preprocessing_exc_tuple` in IPython 7.17 and above.\n",
      "  and should_run_async(code)\n"
     ]
    }
   ],
   "source": [
    "# Clean descriptions\n",
    "cards_df[\"Description\"] = [remove_punc(desc) for desc in cards_df[\"Description\"]]\n",
    "cards_df[\"nlp_desc\"] = [remove_stopwords(desc.split(), lang) for (desc, lang) \n",
    "                        in zip(cards_df[\"Description\"], cards_df[\"Language\"])]\n",
    "cards_df[\"nlp_desc\"] = [lemmatize(nlp_desc, lang) for (nlp_desc, lang) \n",
    "                        in zip(cards_df[\"nlp_desc\"], cards_df[\"Language\"])]"
   ]
  },
  {
   "cell_type": "code",
   "execution_count": 8,
   "metadata": {},
   "outputs": [
    {
     "name": "stderr",
     "output_type": "stream",
     "text": [
      "C:\\Users\\maart\\anaconda3\\lib\\site-packages\\ipykernel\\ipkernel.py:287: DeprecationWarning: `should_run_async` will not call `transform_cell` automatically in the future. Please pass the result to `transformed_cell` argument and any exception that happen during thetransform in `preprocessing_exc_tuple` in IPython 7.17 and above.\n",
      "  and should_run_async(code)\n"
     ]
    },
    {
     "data": {
      "text/html": [
       "<div>\n",
       "<style scoped>\n",
       "    .dataframe tbody tr th:only-of-type {\n",
       "        vertical-align: middle;\n",
       "    }\n",
       "\n",
       "    .dataframe tbody tr th {\n",
       "        vertical-align: top;\n",
       "    }\n",
       "\n",
       "    .dataframe thead th {\n",
       "        text-align: right;\n",
       "    }\n",
       "</style>\n",
       "<table border=\"1\" class=\"dataframe\">\n",
       "  <thead>\n",
       "    <tr style=\"text-align: right;\">\n",
       "      <th></th>\n",
       "      <th>Title</th>\n",
       "      <th>Company</th>\n",
       "      <th>Location</th>\n",
       "      <th>Description</th>\n",
       "      <th>Language</th>\n",
       "      <th>nlp_desc</th>\n",
       "    </tr>\n",
       "  </thead>\n",
       "  <tbody>\n",
       "    <tr>\n",
       "      <th>0</th>\n",
       "      <td>Senior Consultant in Data science ...</td>\n",
       "      <td>Sia Partners</td>\n",
       "      <td>Antwerpen</td>\n",
       "      <td>as a senior consultant in data science you wi...</td>\n",
       "      <td>en</td>\n",
       "      <td>[senior, consultant, involve, transformation, ...</td>\n",
       "    </tr>\n",
       "    <tr>\n",
       "      <th>1</th>\n",
       "      <td>Stage - Data Science</td>\n",
       "      <td>Argenta</td>\n",
       "      <td>Antwerpen</td>\n",
       "      <td>functieklaar voor een eerste leerri...</td>\n",
       "      <td>nl</td>\n",
       "      <td>[functieklaar, leerrijk, werkervaring, dynamis...</td>\n",
       "    </tr>\n",
       "    <tr>\n",
       "      <th>2</th>\n",
       "      <td>Data Science Engineer Healthcare  ...</td>\n",
       "      <td>Robovision</td>\n",
       "      <td>Gent</td>\n",
       "      <td>geplaatst door                  willem r...</td>\n",
       "      <td>en</td>\n",
       "      <td>[geplaatst, door, willem, r, market, robovisio...</td>\n",
       "    </tr>\n",
       "    <tr>\n",
       "      <th>3</th>\n",
       "      <td>Data Science Software Engineer    ...</td>\n",
       "      <td>OMP</td>\n",
       "      <td>Gent</td>\n",
       "      <td>we are omp a game changer that opti...</td>\n",
       "      <td>en</td>\n",
       "      <td>[omp, game, changer, optimize, supply, chain, ...</td>\n",
       "    </tr>\n",
       "    <tr>\n",
       "      <th>4</th>\n",
       "      <td>Junior Market Analyst (FMCG)      ...</td>\n",
       "      <td>GfK</td>\n",
       "      <td>Leuven</td>\n",
       "      <td>for over 80 years gfk has been a re...</td>\n",
       "      <td>en</td>\n",
       "      <td>[80, year, gfk, reliable, trust, insight, part...</td>\n",
       "    </tr>\n",
       "  </tbody>\n",
       "</table>\n",
       "</div>"
      ],
      "text/plain": [
       "                                               Title  \\\n",
       "0              Senior Consultant in Data science ...   \n",
       "1                     Stage - Data Science             \n",
       "2              Data Science Engineer Healthcare  ...   \n",
       "3              Data Science Software Engineer    ...   \n",
       "4              Junior Market Analyst (FMCG)      ...   \n",
       "\n",
       "                                  Company   Location  \\\n",
       "0                Sia Partners              Antwerpen   \n",
       "1                     Argenta              Antwerpen   \n",
       "2                  Robovision                   Gent   \n",
       "3                         OMP                   Gent   \n",
       "4                         GfK                 Leuven   \n",
       "\n",
       "                                         Description Language  \\\n",
       "0   as a senior consultant in data science you wi...       en   \n",
       "1             functieklaar voor een eerste leerri...       nl   \n",
       "2        geplaatst door                  willem r...       en   \n",
       "3             we are omp a game changer that opti...       en   \n",
       "4             for over 80 years gfk has been a re...       en   \n",
       "\n",
       "                                            nlp_desc  \n",
       "0  [senior, consultant, involve, transformation, ...  \n",
       "1  [functieklaar, leerrijk, werkervaring, dynamis...  \n",
       "2  [geplaatst, door, willem, r, market, robovisio...  \n",
       "3  [omp, game, changer, optimize, supply, chain, ...  \n",
       "4  [80, year, gfk, reliable, trust, insight, part...  "
      ]
     },
     "execution_count": 8,
     "metadata": {},
     "output_type": "execute_result"
    }
   ],
   "source": [
    "cards_df.head()"
   ]
  },
  {
   "cell_type": "code",
   "execution_count": 9,
   "metadata": {},
   "outputs": [
    {
     "name": "stderr",
     "output_type": "stream",
     "text": [
      "C:\\Users\\maart\\anaconda3\\lib\\site-packages\\ipykernel\\ipkernel.py:287: DeprecationWarning: `should_run_async` will not call `transform_cell` automatically in the future. Please pass the result to `transformed_cell` argument and any exception that happen during thetransform in `preprocessing_exc_tuple` in IPython 7.17 and above.\n",
      "  and should_run_async(code)\n"
     ]
    }
   ],
   "source": [
    "# Create bigrams (ex: \"machine\", \"learning\" -> \"machine_learning\")\n",
    "bigram_phrases = gensim.models.Phrases(cards_df[\"nlp_desc\"], min_count = 1, threshold = 10)"
   ]
  },
  {
   "cell_type": "code",
   "execution_count": 10,
   "metadata": {},
   "outputs": [
    {
     "name": "stderr",
     "output_type": "stream",
     "text": [
      "C:\\Users\\maart\\anaconda3\\lib\\site-packages\\ipykernel\\ipkernel.py:287: DeprecationWarning: `should_run_async` will not call `transform_cell` automatically in the future. Please pass the result to `transformed_cell` argument and any exception that happen during thetransform in `preprocessing_exc_tuple` in IPython 7.17 and above.\n",
      "  and should_run_async(code)\n"
     ]
    }
   ],
   "source": [
    "cards_df[\"nlp_desc_bi\"] = [bigram_phrases[doc] for doc in cards_df[\"nlp_desc\"]]"
   ]
  },
  {
   "cell_type": "code",
   "execution_count": 11,
   "metadata": {},
   "outputs": [
    {
     "name": "stderr",
     "output_type": "stream",
     "text": [
      "C:\\Users\\maart\\anaconda3\\lib\\site-packages\\ipykernel\\ipkernel.py:287: DeprecationWarning: `should_run_async` will not call `transform_cell` automatically in the future. Please pass the result to `transformed_cell` argument and any exception that happen during thetransform in `preprocessing_exc_tuple` in IPython 7.17 and above.\n",
      "  and should_run_async(code)\n"
     ]
    }
   ],
   "source": [
    "# Add column with all unique word tokens for each description with bigrams\n",
    "cards_df[\"nlp_desc_unique\"] = [set(nlp_desc) for nlp_desc in cards_df[\"nlp_desc_bi\"]]"
   ]
  },
  {
   "cell_type": "code",
   "execution_count": 12,
   "metadata": {},
   "outputs": [
    {
     "name": "stderr",
     "output_type": "stream",
     "text": [
      "C:\\Users\\maart\\anaconda3\\lib\\site-packages\\ipykernel\\ipkernel.py:287: DeprecationWarning: `should_run_async` will not call `transform_cell` automatically in the future. Please pass the result to `transformed_cell` argument and any exception that happen during thetransform in `preprocessing_exc_tuple` in IPython 7.17 and above.\n",
      "  and should_run_async(code)\n"
     ]
    },
    {
     "data": {
      "text/plain": [
       "['project_assignment',\n",
       " 'commercial_initiativesas',\n",
       " 'followup_train',\n",
       " 'importance_diversity',\n",
       " 'including',\n",
       " 'learn_algorithm',\n",
       " 'consultant_outstand',\n",
       " 'employment',\n",
       " 'business_perspectivesmachine',\n",
       " 'come_great',\n",
       " 'explore_option',\n",
       " 'work_atmosphere',\n",
       " 'similar2_6',\n",
       " 'need',\n",
       " 'remuneration_discipline',\n",
       " 'performance_competence',\n",
       " 'execute',\n",
       " 'assistance',\n",
       " 'businessit_analysis',\n",
       " 'relate']"
      ]
     },
     "execution_count": 12,
     "metadata": {},
     "output_type": "execute_result"
    }
   ],
   "source": [
    "list(cards_df[\"nlp_desc_unique\"][0])[0:20]"
   ]
  },
  {
   "cell_type": "markdown",
   "metadata": {},
   "source": [
    "### Add Experience Level"
   ]
  },
  {
   "cell_type": "code",
   "execution_count": 126,
   "metadata": {},
   "outputs": [
    {
     "name": "stderr",
     "output_type": "stream",
     "text": [
      "C:\\Users\\maart\\anaconda3\\lib\\site-packages\\ipykernel\\ipkernel.py:287: DeprecationWarning: `should_run_async` will not call `transform_cell` automatically in the future. Please pass the result to `transformed_cell` argument and any exception that happen during thetransform in `preprocessing_exc_tuple` in IPython 7.17 and above.\n",
      "  and should_run_async(code)\n"
     ]
    }
   ],
   "source": [
    "# Create function to detect level\n",
    "def returnLevel(title):\n",
    "    if \"junior\" in title:\n",
    "        return \"junior\"\n",
    "    if \"senior\" in title:\n",
    "        return \"senior\"\n",
    "    if \"stage\" in title or \"internship\" in title:\n",
    "        return \"intern\"\n",
    "    return \"medior\""
   ]
  },
  {
   "cell_type": "code",
   "execution_count": 129,
   "metadata": {},
   "outputs": [
    {
     "name": "stderr",
     "output_type": "stream",
     "text": [
      "C:\\Users\\maart\\anaconda3\\lib\\site-packages\\ipykernel\\ipkernel.py:287: DeprecationWarning: `should_run_async` will not call `transform_cell` automatically in the future. Please pass the result to `transformed_cell` argument and any exception that happen during thetransform in `preprocessing_exc_tuple` in IPython 7.17 and above.\n",
      "  and should_run_async(code)\n"
     ]
    },
    {
     "data": {
      "text/html": [
       "<div>\n",
       "<style scoped>\n",
       "    .dataframe tbody tr th:only-of-type {\n",
       "        vertical-align: middle;\n",
       "    }\n",
       "\n",
       "    .dataframe tbody tr th {\n",
       "        vertical-align: top;\n",
       "    }\n",
       "\n",
       "    .dataframe thead th {\n",
       "        text-align: right;\n",
       "    }\n",
       "</style>\n",
       "<table border=\"1\" class=\"dataframe\">\n",
       "  <thead>\n",
       "    <tr style=\"text-align: right;\">\n",
       "      <th></th>\n",
       "      <th>Title</th>\n",
       "      <th>Experience</th>\n",
       "    </tr>\n",
       "  </thead>\n",
       "  <tbody>\n",
       "    <tr>\n",
       "      <th>0</th>\n",
       "      <td>senior consultant in data science ...</td>\n",
       "      <td>senior</td>\n",
       "    </tr>\n",
       "    <tr>\n",
       "      <th>1</th>\n",
       "      <td>stage - data science</td>\n",
       "      <td>intern</td>\n",
       "    </tr>\n",
       "    <tr>\n",
       "      <th>2</th>\n",
       "      <td>data science engineer healthcare  ...</td>\n",
       "      <td>medior</td>\n",
       "    </tr>\n",
       "    <tr>\n",
       "      <th>3</th>\n",
       "      <td>data science software engineer    ...</td>\n",
       "      <td>medior</td>\n",
       "    </tr>\n",
       "    <tr>\n",
       "      <th>4</th>\n",
       "      <td>junior market analyst (fmcg)      ...</td>\n",
       "      <td>junior</td>\n",
       "    </tr>\n",
       "  </tbody>\n",
       "</table>\n",
       "</div>"
      ],
      "text/plain": [
       "                                               Title Experience\n",
       "0              senior consultant in data science ...     senior\n",
       "1                     stage - data science               intern\n",
       "2              data science engineer healthcare  ...     medior\n",
       "3              data science software engineer    ...     medior\n",
       "4              junior market analyst (fmcg)      ...     junior"
      ]
     },
     "execution_count": 129,
     "metadata": {},
     "output_type": "execute_result"
    }
   ],
   "source": [
    "# Titles to lowercase\n",
    "cards_df[\"Title\"] = [title.lower() for title in cards_df[\"Title\"]]\n",
    "cards_df[\"Experience\"] = [returnLevel(title) for title in cards_df[\"Title\"]]\n",
    "cards_df[[\"Title\", \"Experience\"]].head()"
   ]
  },
  {
   "cell_type": "markdown",
   "metadata": {},
   "source": [
    "### Split dataframe in Data Engineers, Scientists and Analysits"
   ]
  },
  {
   "cell_type": "code",
   "execution_count": 131,
   "metadata": {
    "execution": {
     "iopub.execute_input": "2021-08-24T14:56:42.676001Z",
     "iopub.status.busy": "2021-08-24T14:56:42.675543Z",
     "iopub.status.idle": "2021-08-24T14:56:42.686516Z",
     "shell.execute_reply": "2021-08-24T14:56:42.685633Z",
     "shell.execute_reply.started": "2021-08-24T14:56:42.675962Z"
    }
   },
   "outputs": [
    {
     "name": "stdout",
     "output_type": "stream",
     "text": [
      "Data Scientist jobs: 139, Data Engineer jobs:  205, Data Analyst jobs:  49\n"
     ]
    },
    {
     "name": "stderr",
     "output_type": "stream",
     "text": [
      "C:\\Users\\maart\\anaconda3\\lib\\site-packages\\ipykernel\\ipkernel.py:287: DeprecationWarning: `should_run_async` will not call `transform_cell` automatically in the future. Please pass the result to `transformed_cell` argument and any exception that happen during thetransform in `preprocessing_exc_tuple` in IPython 7.17 and above.\n",
      "  and should_run_async(code)\n"
     ]
    }
   ],
   "source": [
    "# Data Scientist\n",
    "dc_titles = [(\"scientist\" in a) | (\"science\" in a)  for a in cards_df[\"Title\"]]\n",
    "dc_cards = cards_df[dc_titles]\n",
    "\n",
    "# Data Analyst\n",
    "da_titles = [(\"analyst\" in a) for a in cards_df[\"Title\"]]\n",
    "da_cards = cards_df[da_titles]\n",
    "\n",
    "# Data engineers\n",
    "de_titles = [(\"engineer\" in a) for a in cards_df[\"Title\"]]\n",
    "de_cards = cards_df[de_titles]\n",
    "\n",
    "# Print amounts\n",
    "print(\"Data Scientist jobs: \" + str(dc_cards[\"Title\"].count()) + \", Data Engineer jobs:  \" + str(de_cards[\"Title\"].count()) + \", Data Analyst jobs:  \" + str(da_cards[\"Title\"].count()))"
   ]
  },
  {
   "cell_type": "markdown",
   "metadata": {},
   "source": [
    "## Exploratory Analysis\n",
    "### Location analysis"
   ]
  },
  {
   "cell_type": "code",
   "execution_count": 200,
   "metadata": {
    "execution": {
     "iopub.execute_input": "2021-08-24T14:56:47.944329Z",
     "iopub.status.busy": "2021-08-24T14:56:47.943828Z",
     "iopub.status.idle": "2021-08-24T14:56:48.150021Z",
     "shell.execute_reply": "2021-08-24T14:56:48.149135Z",
     "shell.execute_reply.started": "2021-08-24T14:56:47.944293Z"
    }
   },
   "outputs": [
    {
     "name": "stderr",
     "output_type": "stream",
     "text": [
      "C:\\Users\\maart\\anaconda3\\lib\\site-packages\\ipykernel\\ipkernel.py:287: DeprecationWarning: `should_run_async` will not call `transform_cell` automatically in the future. Please pass the result to `transformed_cell` argument and any exception that happen during thetransform in `preprocessing_exc_tuple` in IPython 7.17 and above.\n",
      "  and should_run_async(code)\n"
     ]
    },
    {
     "data": {
      "text/plain": [
       "<AxesSubplot:xlabel='Location'>"
      ]
     },
     "execution_count": 200,
     "metadata": {},
     "output_type": "execute_result"
    },
    {
     "data": {
      "image/png": "[encoded data removed]",
      "text/plain": [
       "<Figure size 576x360 with 1 Axes>"
      ]
     },
     "metadata": {
      "needs_background": "light"
     },
     "output_type": "display_data"
    }
   ],
   "source": [
    "# Data Scientist \n",
    "dc = pd.DataFrame(dc_cards.groupby([\"Location\", \"Experience\"])[\"Experience\"].count().sort_values(ascending=False))\n",
    "dc = dc.rename(columns={\"Experience\" : \"Count\"})\n",
    "dc = dc.reset_index()\n",
    "\n",
    "dc_new = dc.pivot_table(values=\"Count\", columns=\"Experience\", aggfunc=\"first\", index=\"Location\")\n",
    "dc_new.sort_values(\"medior\", ascending=False).plot(kind=\"bar\", stacked=True, figsize=(8, 5))"
   ]
  },
  {
   "cell_type": "code",
   "execution_count": 199,
   "metadata": {
    "execution": {
     "iopub.execute_input": "2021-08-24T15:02:30.526500Z",
     "iopub.status.busy": "2021-08-24T15:02:30.526152Z",
     "iopub.status.idle": "2021-08-24T15:02:30.809758Z",
     "shell.execute_reply": "2021-08-24T15:02:30.808779Z",
     "shell.execute_reply.started": "2021-08-24T15:02:30.526472Z"
    }
   },
   "outputs": [
    {
     "name": "stderr",
     "output_type": "stream",
     "text": [
      "C:\\Users\\maart\\anaconda3\\lib\\site-packages\\ipykernel\\ipkernel.py:287: DeprecationWarning: `should_run_async` will not call `transform_cell` automatically in the future. Please pass the result to `transformed_cell` argument and any exception that happen during thetransform in `preprocessing_exc_tuple` in IPython 7.17 and above.\n",
      "  and should_run_async(code)\n"
     ]
    },
    {
     "data": {
      "text/plain": [
       "<AxesSubplot:xlabel='Location'>"
      ]
     },
     "execution_count": 199,
     "metadata": {},
     "output_type": "execute_result"
    },
    {
     "data": {
      "image/png": "[encoded data removed]",
      "text/plain": [
       "<Figure size 720x360 with 1 Axes>"
      ]
     },
     "metadata": {
      "needs_background": "light"
     },
     "output_type": "display_data"
    }
   ],
   "source": [
    "# Data Engineer\n",
    "de = pd.DataFrame(de_cards.groupby([\"Location\", \"Experience\"])[\"Experience\"].count().sort_values(ascending=False))\n",
    "de = de.rename(columns={\"Experience\" : \"Count\"})\n",
    "de = de.reset_index()\n",
    "\n",
    "de_new = de.pivot_table(values=\"Count\", columns=\"Experience\", aggfunc=\"first\", index=\"Location\")\n",
    "de_new.sort_values(\"medior\", ascending=False).plot(kind=\"bar\", stacked=True, figsize=(10, 5))"
   ]
  },
  {
   "cell_type": "code",
   "execution_count": 202,
   "metadata": {
    "execution": {
     "iopub.execute_input": "2021-08-24T15:02:26.036358Z",
     "iopub.status.busy": "2021-08-24T15:02:26.035961Z",
     "iopub.status.idle": "2021-08-24T15:02:26.228749Z",
     "shell.execute_reply": "2021-08-24T15:02:26.227799Z",
     "shell.execute_reply.started": "2021-08-24T15:02:26.036309Z"
    }
   },
   "outputs": [
    {
     "name": "stderr",
     "output_type": "stream",
     "text": [
      "C:\\Users\\maart\\anaconda3\\lib\\site-packages\\ipykernel\\ipkernel.py:287: DeprecationWarning: `should_run_async` will not call `transform_cell` automatically in the future. Please pass the result to `transformed_cell` argument and any exception that happen during thetransform in `preprocessing_exc_tuple` in IPython 7.17 and above.\n",
      "  and should_run_async(code)\n"
     ]
    },
    {
     "data": {
      "text/plain": [
       "<AxesSubplot:xlabel='Location'>"
      ]
     },
     "execution_count": 202,
     "metadata": {},
     "output_type": "execute_result"
    },
    {
     "data": {
      "image/png": "[encoded data removed]",
      "text/plain": [
       "<Figure size 576x360 with 1 Axes>"
      ]
     },
     "metadata": {
      "needs_background": "light"
     },
     "output_type": "display_data"
    }
   ],
   "source": [
    "# Data Analyst \n",
    "da = pd.DataFrame(da_cards.groupby([\"Location\", \"Experience\"])[\"Experience\"].count().sort_values(ascending=False))\n",
    "da = da.rename(columns={\"Experience\" : \"Count\"})\n",
    "da = da.reset_index()\n",
    "\n",
    "da_new = da.pivot_table(values=\"Count\", columns=\"Experience\", aggfunc=\"first\", index=\"Location\")\n",
    "da_new.sort_values(\"medior\", ascending=False).plot(kind=\"bar\", stacked=True, figsize=(8, 5))"
   ]
  },
  {
   "cell_type": "markdown",
   "metadata": {},
   "source": [
    "### Create dataframe for Streamlit map"
   ]
  },
  {
   "cell_type": "code",
   "execution_count": 17,
   "metadata": {},
   "outputs": [
    {
     "name": "stderr",
     "output_type": "stream",
     "text": [
      "C:\\Users\\maart\\anaconda3\\lib\\site-packages\\ipykernel\\ipkernel.py:287: DeprecationWarning: `should_run_async` will not call `transform_cell` automatically in the future. Please pass the result to `transformed_cell` argument and any exception that happen during thetransform in `preprocessing_exc_tuple` in IPython 7.17 and above.\n",
      "  and should_run_async(code)\n"
     ]
    },
    {
     "data": {
      "text/html": [
       "<div>\n",
       "<style scoped>\n",
       "    .dataframe tbody tr th:only-of-type {\n",
       "        vertical-align: middle;\n",
       "    }\n",
       "\n",
       "    .dataframe tbody tr th {\n",
       "        vertical-align: top;\n",
       "    }\n",
       "\n",
       "    .dataframe thead th {\n",
       "        text-align: right;\n",
       "    }\n",
       "</style>\n",
       "<table border=\"1\" class=\"dataframe\">\n",
       "  <thead>\n",
       "    <tr style=\"text-align: right;\">\n",
       "      <th></th>\n",
       "      <th>Title</th>\n",
       "      <th>Company</th>\n",
       "      <th>Location</th>\n",
       "      <th>Description</th>\n",
       "      <th>Language</th>\n",
       "      <th>nlp_desc</th>\n",
       "      <th>nlp_desc_bi</th>\n",
       "      <th>nlp_desc_unique</th>\n",
       "    </tr>\n",
       "  </thead>\n",
       "  <tbody>\n",
       "    <tr>\n",
       "      <th>0</th>\n",
       "      <td>senior consultant in data science ...</td>\n",
       "      <td>Sia Partners</td>\n",
       "      <td>Antwerpen</td>\n",
       "      <td>as a senior consultant in data science you wi...</td>\n",
       "      <td>en</td>\n",
       "      <td>[senior, consultant, involve, transformation, ...</td>\n",
       "      <td>[senior_consultant, involve, transformation, p...</td>\n",
       "      <td>{project_assignment, commercial_initiativesas,...</td>\n",
       "    </tr>\n",
       "  </tbody>\n",
       "</table>\n",
       "</div>"
      ],
      "text/plain": [
       "                                               Title  \\\n",
       "0              senior consultant in data science ...   \n",
       "\n",
       "                                  Company   Location  \\\n",
       "0                Sia Partners              Antwerpen   \n",
       "\n",
       "                                         Description Language  \\\n",
       "0   as a senior consultant in data science you wi...       en   \n",
       "\n",
       "                                            nlp_desc  \\\n",
       "0  [senior, consultant, involve, transformation, ...   \n",
       "\n",
       "                                         nlp_desc_bi  \\\n",
       "0  [senior_consultant, involve, transformation, p...   \n",
       "\n",
       "                                     nlp_desc_unique  \n",
       "0  {project_assignment, commercial_initiativesas,...  "
      ]
     },
     "execution_count": 17,
     "metadata": {},
     "output_type": "execute_result"
    }
   ],
   "source": [
    "dc_cards.head(1)"
   ]
  },
  {
   "cell_type": "code",
   "execution_count": 18,
   "metadata": {},
   "outputs": [
    {
     "name": "stderr",
     "output_type": "stream",
     "text": [
      "C:\\Users\\maart\\anaconda3\\lib\\site-packages\\ipykernel\\ipkernel.py:287: DeprecationWarning: `should_run_async` will not call `transform_cell` automatically in the future. Please pass the result to `transformed_cell` argument and any exception that happen during thetransform in `preprocessing_exc_tuple` in IPython 7.17 and above.\n",
      "  and should_run_async(code)\n"
     ]
    },
    {
     "data": {
      "text/html": [
       "<div>\n",
       "<style scoped>\n",
       "    .dataframe tbody tr th:only-of-type {\n",
       "        vertical-align: middle;\n",
       "    }\n",
       "\n",
       "    .dataframe tbody tr th {\n",
       "        vertical-align: top;\n",
       "    }\n",
       "\n",
       "    .dataframe thead th {\n",
       "        text-align: right;\n",
       "    }\n",
       "</style>\n",
       "<table border=\"1\" class=\"dataframe\">\n",
       "  <thead>\n",
       "    <tr style=\"text-align: right;\">\n",
       "      <th></th>\n",
       "      <th>Title</th>\n",
       "      <th>city</th>\n",
       "      <th>lat</th>\n",
       "      <th>lng</th>\n",
       "      <th>country</th>\n",
       "      <th>iso2</th>\n",
       "      <th>admin_name</th>\n",
       "      <th>capital</th>\n",
       "      <th>population</th>\n",
       "      <th>population_proper</th>\n",
       "    </tr>\n",
       "  </thead>\n",
       "  <tbody>\n",
       "    <tr>\n",
       "      <th>0</th>\n",
       "      <td>23</td>\n",
       "      <td>Antwerpen</td>\n",
       "      <td>51.2206</td>\n",
       "      <td>4.4003</td>\n",
       "      <td>Belgium</td>\n",
       "      <td>BE</td>\n",
       "      <td>Flanders</td>\n",
       "      <td>minor</td>\n",
       "      <td>920000.0</td>\n",
       "      <td>459805.0</td>\n",
       "    </tr>\n",
       "    <tr>\n",
       "      <th>1</th>\n",
       "      <td>14</td>\n",
       "      <td>Gent</td>\n",
       "      <td>51.0536</td>\n",
       "      <td>3.7253</td>\n",
       "      <td>Belgium</td>\n",
       "      <td>BE</td>\n",
       "      <td>Flanders</td>\n",
       "      <td>minor</td>\n",
       "      <td>262219.0</td>\n",
       "      <td>262219.0</td>\n",
       "    </tr>\n",
       "    <tr>\n",
       "      <th>2</th>\n",
       "      <td>7</td>\n",
       "      <td>Mechelen</td>\n",
       "      <td>51.0281</td>\n",
       "      <td>4.4803</td>\n",
       "      <td>Belgium</td>\n",
       "      <td>BE</td>\n",
       "      <td>Flanders</td>\n",
       "      <td>minor</td>\n",
       "      <td>86921.0</td>\n",
       "      <td>86921.0</td>\n",
       "    </tr>\n",
       "    <tr>\n",
       "      <th>3</th>\n",
       "      <td>6</td>\n",
       "      <td>Leuven</td>\n",
       "      <td>50.8791</td>\n",
       "      <td>4.7009</td>\n",
       "      <td>Belgium</td>\n",
       "      <td>BE</td>\n",
       "      <td>Flanders</td>\n",
       "      <td>minor</td>\n",
       "      <td>NaN</td>\n",
       "      <td>NaN</td>\n",
       "    </tr>\n",
       "    <tr>\n",
       "      <th>4</th>\n",
       "      <td>4</td>\n",
       "      <td>Brussels</td>\n",
       "      <td>50.8333</td>\n",
       "      <td>4.3333</td>\n",
       "      <td>Belgium</td>\n",
       "      <td>BE</td>\n",
       "      <td>Brussels-Capital Region</td>\n",
       "      <td>primary</td>\n",
       "      <td>1743000.0</td>\n",
       "      <td>1019022.0</td>\n",
       "    </tr>\n",
       "  </tbody>\n",
       "</table>\n",
       "</div>"
      ],
      "text/plain": [
       "   Title       city      lat     lng  country iso2               admin_name  \\\n",
       "0     23  Antwerpen  51.2206  4.4003  Belgium   BE                 Flanders   \n",
       "1     14       Gent  51.0536  3.7253  Belgium   BE                 Flanders   \n",
       "2      7   Mechelen  51.0281  4.4803  Belgium   BE                 Flanders   \n",
       "3      6     Leuven  50.8791  4.7009  Belgium   BE                 Flanders   \n",
       "4      4   Brussels  50.8333  4.3333  Belgium   BE  Brussels-Capital Region   \n",
       "\n",
       "   capital  population  population_proper  \n",
       "0    minor    920000.0           459805.0  \n",
       "1    minor    262219.0           262219.0  \n",
       "2    minor     86921.0            86921.0  \n",
       "3    minor         NaN                NaN  \n",
       "4  primary   1743000.0          1019022.0  "
      ]
     },
     "execution_count": 18,
     "metadata": {},
     "output_type": "execute_result"
    }
   ],
   "source": [
    "cities = pd.read_csv(\"E:/Projects/Job analysis/data/cities_be.csv\")\n",
    "dc_counts = pd.DataFrame(dc_cards.groupby([\"Location\"])[\"Title\"].count().sort_values(ascending=False))\n",
    "dc_counts.reset_index()\n",
    "dc_counts_cities = dc_counts.merge(cities, left_on=\"Location\", right_on=\"city\")\n",
    "dc_counts_cities.head()"
   ]
  },
  {
   "cell_type": "markdown",
   "metadata": {},
   "source": [
    "### Most frequent unique word counts in each job type"
   ]
  },
  {
   "cell_type": "code",
   "execution_count": 110,
   "metadata": {},
   "outputs": [
    {
     "name": "stderr",
     "output_type": "stream",
     "text": [
      "C:\\Users\\maart\\anaconda3\\lib\\site-packages\\ipykernel\\ipkernel.py:287: DeprecationWarning: `should_run_async` will not call `transform_cell` automatically in the future. Please pass the result to `transformed_cell` argument and any exception that happen during thetransform in `preprocessing_exc_tuple` in IPython 7.17 and above.\n",
      "  and should_run_async(code)\n"
     ]
    },
    {
     "data": {
      "text/html": [
       "<div>\n",
       "<style scoped>\n",
       "    .dataframe tbody tr th:only-of-type {\n",
       "        vertical-align: middle;\n",
       "    }\n",
       "\n",
       "    .dataframe tbody tr th {\n",
       "        vertical-align: top;\n",
       "    }\n",
       "\n",
       "    .dataframe thead th {\n",
       "        text-align: right;\n",
       "    }\n",
       "</style>\n",
       "<table border=\"1\" class=\"dataframe\">\n",
       "  <thead>\n",
       "    <tr style=\"text-align: right;\">\n",
       "      <th></th>\n",
       "      <th>word</th>\n",
       "      <th>counts</th>\n",
       "    </tr>\n",
       "  </thead>\n",
       "  <tbody>\n",
       "    <tr>\n",
       "      <th>0</th>\n",
       "      <td>team</td>\n",
       "      <td>228</td>\n",
       "    </tr>\n",
       "    <tr>\n",
       "      <th>1</th>\n",
       "      <td>work</td>\n",
       "      <td>217</td>\n",
       "    </tr>\n",
       "    <tr>\n",
       "      <th>2</th>\n",
       "      <td>business</td>\n",
       "      <td>216</td>\n",
       "    </tr>\n",
       "    <tr>\n",
       "      <th>3</th>\n",
       "      <td>experience</td>\n",
       "      <td>213</td>\n",
       "    </tr>\n",
       "    <tr>\n",
       "      <th>4</th>\n",
       "      <td>project</td>\n",
       "      <td>191</td>\n",
       "    </tr>\n",
       "    <tr>\n",
       "      <th>5</th>\n",
       "      <td>development</td>\n",
       "      <td>129</td>\n",
       "    </tr>\n",
       "    <tr>\n",
       "      <th>6</th>\n",
       "      <td>skill</td>\n",
       "      <td>116</td>\n",
       "    </tr>\n",
       "    <tr>\n",
       "      <th>7</th>\n",
       "      <td>knowledge</td>\n",
       "      <td>115</td>\n",
       "    </tr>\n",
       "    <tr>\n",
       "      <th>8</th>\n",
       "      <td>analytics</td>\n",
       "      <td>113</td>\n",
       "    </tr>\n",
       "    <tr>\n",
       "      <th>9</th>\n",
       "      <td>develop</td>\n",
       "      <td>112</td>\n",
       "    </tr>\n",
       "    <tr>\n",
       "      <th>10</th>\n",
       "      <td>support</td>\n",
       "      <td>109</td>\n",
       "    </tr>\n",
       "    <tr>\n",
       "      <th>11</th>\n",
       "      <td>scientist</td>\n",
       "      <td>108</td>\n",
       "    </tr>\n",
       "    <tr>\n",
       "      <th>12</th>\n",
       "      <td>machine_learn</td>\n",
       "      <td>102</td>\n",
       "    </tr>\n",
       "    <tr>\n",
       "      <th>13</th>\n",
       "      <td>solution</td>\n",
       "      <td>102</td>\n",
       "    </tr>\n",
       "    <tr>\n",
       "      <th>15</th>\n",
       "      <td>product</td>\n",
       "      <td>100</td>\n",
       "    </tr>\n",
       "    <tr>\n",
       "      <th>14</th>\n",
       "      <td>process</td>\n",
       "      <td>100</td>\n",
       "    </tr>\n",
       "    <tr>\n",
       "      <th>16</th>\n",
       "      <td>lead</td>\n",
       "      <td>93</td>\n",
       "    </tr>\n",
       "    <tr>\n",
       "      <th>17</th>\n",
       "      <td>technology</td>\n",
       "      <td>91</td>\n",
       "    </tr>\n",
       "    <tr>\n",
       "      <th>18</th>\n",
       "      <td>research</td>\n",
       "      <td>84</td>\n",
       "    </tr>\n",
       "    <tr>\n",
       "      <th>19</th>\n",
       "      <td>provide</td>\n",
       "      <td>79</td>\n",
       "    </tr>\n",
       "  </tbody>\n",
       "</table>\n",
       "</div>"
      ],
      "text/plain": [
       "             word  counts\n",
       "0            team     228\n",
       "1            work     217\n",
       "2        business     216\n",
       "3      experience     213\n",
       "4         project     191\n",
       "5     development     129\n",
       "6           skill     116\n",
       "7       knowledge     115\n",
       "8       analytics     113\n",
       "9         develop     112\n",
       "10        support     109\n",
       "11      scientist     108\n",
       "12  machine_learn     102\n",
       "13       solution     102\n",
       "15        product     100\n",
       "14        process     100\n",
       "16           lead      93\n",
       "17     technology      91\n",
       "18       research      84\n",
       "19        provide      79"
      ]
     },
     "execution_count": 110,
     "metadata": {},
     "output_type": "execute_result"
    }
   ],
   "source": [
    "# Data Science\n",
    "\n",
    "# Create 1 list of all unique words in english\n",
    "dc_cards_en = dc_cards[dc_cards[\"Language\"] == \"en\"]\n",
    "dc_desc_list = [] \n",
    "dc_desc_list = [word for unique in dc_cards_en[\"nlp_desc_unique\"] for word in list(unique)]\n",
    "\n",
    "# Create df with word counts for all english job descriptions\n",
    "dc_words = pd.DataFrame([word for l in dc_cards_en[\"nlp_desc_bi\"] for word in l])\n",
    "dc_freq = pd.DataFrame(dc_words.value_counts())\n",
    "dc_freq.rename(columns={0:\"counts\"}, inplace=True)\n",
    "dc_freq = dc_freq.reset_index()\n",
    "dc_freq.rename(columns={0:\"word\"}, inplace=True)\n",
    "dc_freq.sort_values(ascending=False, by=[\"counts\"]).head(20)"
   ]
  },
  {
   "cell_type": "code",
   "execution_count": 111,
   "metadata": {
    "scrolled": true
   },
   "outputs": [
    {
     "name": "stderr",
     "output_type": "stream",
     "text": [
      "C:\\Users\\maart\\anaconda3\\lib\\site-packages\\ipykernel\\ipkernel.py:287: DeprecationWarning: `should_run_async` will not call `transform_cell` automatically in the future. Please pass the result to `transformed_cell` argument and any exception that happen during thetransform in `preprocessing_exc_tuple` in IPython 7.17 and above.\n",
      "  and should_run_async(code)\n"
     ]
    },
    {
     "data": {
      "text/plain": [
       "<AxesSubplot:ylabel='word'>"
      ]
     },
     "execution_count": 111,
     "metadata": {},
     "output_type": "execute_result"
    },
    {
     "data": {
      "image/png": "[encoded data removed]",
      "text/plain": [
       "<Figure size 720x720 with 1 Axes>"
      ]
     },
     "metadata": {
      "needs_background": "light"
     },
     "output_type": "display_data"
    }
   ],
   "source": [
    "dc_freq[0:40].plot(kind=\"barh\", x=\"word\", y=\"counts\", figsize=(10, 10))\n",
    "# Clearly some words need to be put together as 1 word and simplified \n",
    "# (ex: \"machine learning\", \"project and projects\")"
   ]
  },
  {
   "cell_type": "markdown",
   "metadata": {},
   "source": [
    "### Remove words with too low and high counts"
   ]
  },
  {
   "cell_type": "code",
   "execution_count": 101,
   "metadata": {},
   "outputs": [
    {
     "name": "stderr",
     "output_type": "stream",
     "text": [
      "C:\\Users\\maart\\anaconda3\\lib\\site-packages\\ipykernel\\ipkernel.py:287: DeprecationWarning: `should_run_async` will not call `transform_cell` automatically in the future. Please pass the result to `transformed_cell` argument and any exception that happen during thetransform in `preprocessing_exc_tuple` in IPython 7.17 and above.\n",
      "  and should_run_async(code)\n"
     ]
    }
   ],
   "source": [
    "dc_freq = dc_freq[(dc_freq[\"counts\"] > 20) & (dc_freq[\"counts\"] <130) ]"
   ]
  },
  {
   "cell_type": "markdown",
   "metadata": {},
   "source": [
    "### Create LDA model for the english version"
   ]
  },
  {
   "cell_type": "code",
   "execution_count": 112,
   "metadata": {},
   "outputs": [
    {
     "name": "stderr",
     "output_type": "stream",
     "text": [
      "C:\\Users\\maart\\anaconda3\\lib\\site-packages\\ipykernel\\ipkernel.py:287: DeprecationWarning: `should_run_async` will not call `transform_cell` automatically in the future. Please pass the result to `transformed_cell` argument and any exception that happen during thetransform in `preprocessing_exc_tuple` in IPython 7.17 and above.\n",
      "  and should_run_async(code)\n"
     ]
    },
    {
     "data": {
      "text/plain": [
       "['senior_consultant', 'involve', 'transformation', 'project', 'client']"
      ]
     },
     "execution_count": 112,
     "metadata": {},
     "output_type": "execute_result"
    }
   ],
   "source": [
    "# Filter too frequent words\n",
    "desc_list_en = []\n",
    "for word_l in dc_cards_en[\"nlp_desc_bi\"]:\n",
    "    filtered_l = [word for word in word_l if word in list(dc_freq[\"word\"])]\n",
    "    desc_list_en.append(filtered_l)\n",
    "desc_list_en[0][0:5]"
   ]
  },
  {
   "cell_type": "code",
   "execution_count": 113,
   "metadata": {},
   "outputs": [
    {
     "name": "stderr",
     "output_type": "stream",
     "text": [
      "C:\\Users\\maart\\anaconda3\\lib\\site-packages\\ipykernel\\ipkernel.py:287: DeprecationWarning: `should_run_async` will not call `transform_cell` automatically in the future. Please pass the result to `transformed_cell` argument and any exception that happen during thetransform in `preprocessing_exc_tuple` in IPython 7.17 and above.\n",
      "  and should_run_async(code)\n"
     ]
    }
   ],
   "source": [
    "# Create Variables for LDA \n",
    "id2word = gensim.corpora.Dictionary(desc_list_en)\n",
    "\n",
    "corpus = []\n",
    "for text in desc_list_en:\n",
    "    new = id2word.doc2bow(text)\n",
    "    corpus.append(new)"
   ]
  },
  {
   "cell_type": "code",
   "execution_count": 217,
   "metadata": {},
   "outputs": [
    {
     "name": "stderr",
     "output_type": "stream",
     "text": [
      "C:\\Users\\maart\\anaconda3\\lib\\site-packages\\ipykernel\\ipkernel.py:287: DeprecationWarning: `should_run_async` will not call `transform_cell` automatically in the future. Please pass the result to `transformed_cell` argument and any exception that happen during thetransform in `preprocessing_exc_tuple` in IPython 7.17 and above.\n",
      "  and should_run_async(code)\n"
     ]
    }
   ],
   "source": [
    "# Create LDA\n",
    "lda_model = gensim.models.ldamodel.LdaModel(corpus=corpus,\n",
    "                                           id2word=id2word,\n",
    "                                           num_topics=12,\n",
    "                                           random_state=100,\n",
    "                                           update_every=1,\n",
    "                                           chunksize=100,\n",
    "                                           passes=80,\n",
    "                                            alpha=1e-15,\n",
    "                                           minimum_probability=0.0)"
   ]
  },
  {
   "cell_type": "code",
   "execution_count": 218,
   "metadata": {},
   "outputs": [
    {
     "name": "stderr",
     "output_type": "stream",
     "text": [
      "C:\\Users\\maart\\anaconda3\\lib\\site-packages\\ipykernel\\ipkernel.py:287: DeprecationWarning: `should_run_async` will not call `transform_cell` automatically in the future. Please pass the result to `transformed_cell` argument and any exception that happen during thetransform in `preprocessing_exc_tuple` in IPython 7.17 and above.\n",
      "  and should_run_async(code)\n"
     ]
    },
    {
     "data": {
      "text/plain": [
       "[(3, 0.0015654868), (8, 0.00152094), (11, 0.0010213372)]"
      ]
     },
     "execution_count": 218,
     "metadata": {},
     "output_type": "execute_result"
    }
   ],
   "source": [
    "t = lda_model.get_term_topics(\"python\")\n",
    "t"
   ]
  },
  {
   "cell_type": "code",
   "execution_count": 219,
   "metadata": {},
   "outputs": [
    {
     "name": "stderr",
     "output_type": "stream",
     "text": [
      "C:\\Users\\maart\\anaconda3\\lib\\site-packages\\ipykernel\\ipkernel.py:287: DeprecationWarning: `should_run_async` will not call `transform_cell` automatically in the future. Please pass the result to `transformed_cell` argument and any exception that happen during thetransform in `preprocessing_exc_tuple` in IPython 7.17 and above.\n",
      "  and should_run_async(code)\n"
     ]
    },
    {
     "data": {
      "text/html": [
       "\n",
       "<link rel=\"stylesheet\" type=\"text/css\" href=\"https://cdn.jsdelivr.net/gh/bmabey/pyLDAvis@3.3.1/pyLDAvis/js/ldavis.v1.0.0.css\">\n",
       "\n",
       "\n",
       "<div id=\"ldavis_el1462826706956647689185367035\"></div>\n",
       "<script type=\"text/javascript\">\n",
       "\n",
       "var ldavis_el1462826706956647689185367035_data = {\"mdsDat\": {\"x\": [0.13540930957964062, -0.12350418502721267, -0.2610288548622889, -0.128446895905918, 0.1743729026705556, 0.27591835886317734, 0.0686523002312924, -0.08036600832340962, -0.09695620238003241, 0.0036550259452124076, 0.05053839818544169, -0.01824414897645839], \"y\": [-0.3174767736397084, -0.3175905102245905, -0.004289468859298725, 0.22519716472855036, -0.085732393070349, 0.0767631867957073, 0.20346304677098992, -0.08155329962500596, 0.08660891337723743, 0.10738647981408242, 0.06124869217653684, 0.04597496175584845], \"topics\": [1, 2, 3, 4, 5, 6, 7, 8, 9, 10, 11, 12], \"cluster\": [1, 1, 1, 1, 1, 1, 1, 1, 1, 1, 1, 1], \"Freq\": [35.02024919448811, 15.860862825251159, 10.416401219919448, 6.984632628857806, 6.060959317890933, 6.005719694000036, 5.610662009452729, 5.010798840496292, 3.342223870412127, 2.1083403910209957, 1.8002115230793072, 1.7789384851310546]}, \"tinfo\": {\"Term\": [\"product\", \"\\u00b7\", \"business\", \"knowledge\", \"project\", \"support\", \"analytics\", \"skill\", \"life_science\", \"model\", \"machine_learn\", \"technology\", \"provide\", \"drive\", \"experience\", \"sensory_consumer\", \"platform\", \"function\", \"commercial\", \"belgium\", \"professional\", \"define\", \"vision\", \"improve\", \"stakeholder\", \"diverse\", \"ps_mq\", \"work_environment\", \"line\", \"position\", \"innovative\", \"tool\", \"process\", \"new\", \"require\", \"team\", \"business\", \"insight\", \"strong\", \"analytics\", \"product\", \"project\", \"skill\", \"work\", \"lead\", \"knowledge\", \"support\", \"experience\", \"plan\", \"develop\", \"\\u00b7\", \"strategic\", \"medical\", \"assessment\", \"practice\", \"safety\", \"review\", \"assign\", \"patient_safety\", \"rwe\", \"consult\", \"strategy_operation\", \"term\", \"safety_input\", \"epidemiology\", \"clinical\", \"patient\", \"technology\", \"provide\", \"management\", \"digital\", \"experience\", \"business\", \"analysis\", \"team\", \"development\", \"lead\", \"global\", \"challenge\", \"work_remotely\", \"work_flexibly\", \"120_country\", \"3_developer\", \"500_brand\", \"advantageif_youre\", \"ambitionsthats_world\", \"attention_fulltime\", \"availability_strong\", \"choose_toptal\", \"define_career\", \"design_lifestyle\", \"developer_connect\", \"engagement_get\", \"filling_short\", \"project_management\", \"schedule\", \"software_engineer\", \"passionate\", \"work\", \"project\", \"supply_chain\", \"experience\", \"software\", \"scientist\", \"professional_experience\", \"vacancy_post\", \"write_authorization\", \"vaccine_protect\", \"solution_simple\", \"vaccine_rd\", \"transparency_respect\", \"heartflow\", \"patient_consumer\", \"personalize_vaccinology\", \"accept_referral\", \"agency_respect\", \"agreement_gsk\", \"agreement_verbal\", \"andor_employment\", \"arise_action\", \"rd_project\", \"high_dimensional\", \"international\", \"develop\", \"look\", \"scientist\", \"development\", \"opportunity\", \"complex\", \"project\", \"team\", \"analytics\", \"technology_center\", \"composite_material\", \"numerical\", \"critical_thinke\", \"composite\", \"finite_element\", \"postprocessing\", \"progressive_failure\", \"setup\", \"investigation\", \"graph\", \"polymer\", \"70\", \"spread\", \"guideline\", \"prototype\", \"material\", \"test\", \"industrial\", \"model\", \"knowledge\", \"project\", \"method\", \"experience\", \"work\", \"activity\", \"development\", \"life_science\", \"chemistry\", \"human\", \"johnson_johnson\", \"target_identification\", \"people_live\", \"molecular_biology\", \"practical_knowledge\", \"regard_race\", \"disease_area\", \"protect_veteran\", \"applicant_receive\", \"consideration_employment\", \"employer_qualify\", \"health\", \"change\", \"bioinformatics\", \"national_origin\", \"color_religion\", \"discovery\", \"broad\", \"initiative\", \"drive\", \"research\", \"analytics\", \"machine_learn\", \"including\", \"development\", \"solution\", \"develop\", \"work\", \"strategy\", \"support\", \"help\", \"biology\", \"pharmaceutical_biotech\", \"experimental_design\", \"global_leader\", \"identify_trend\", \"customer_segmentation\", \"improve_accuracy\", \"provide_computational\", \"status_quo\", \"write\", \"identification_validation\", \"microbiology_immunology\", \"scientist_computational\", \"cross_functional\", \"mentor_junior\", \"detail\", \"2_year\", \"scientist\", \"advance_analytics\", \"team\", \"program\", \"work\", \"experience\", \"clinical_trial\", \"individual_position\", \"support_account\", \"use_personal\", \"deep\", \"effectively\", \"provide_input\", \"fortune_500\", \"ability_flexibility\", \"account_manager\", \"activity_price\", \"agency_base\", \"antwerp_east\", \"apply_material\", \"attend_regular\", \"internally_externally\", \"identity\", \"offer_opportunity\", \"product\", \"sales\", \"email\", \"skill\", \"support\", \"manager\", \"life\", \"provide\", \"work\", \"business\", \"relevant\", \"experience\", \"medicinal_chemistry\", \"therapeutic_area\", \"molecule_design\", \"market_robovision\", \"advisory\", \"devops\", \"edge\", \"empower_people\", \"organisation_apply\", \"strong_handson\", \"willem_r\", \"enterprise\", \"able_select\", \"accord_requirementsa\", \"achieve_objective\", \"organic_chemistry\", \"endtoend\", \"be\", \"colleague\", \"machine_learn\", \"deep_learn\", \"master_level\", \"small_molecule\", \"solution\", \"customer\", \"impact\", \"focus\", \"regulation\", \"dedicate\", \"develop_maintain\", \"biostatistics_department\", \"mandatory\", \"carmeuse\", \"equipment\", \"producer\", \"advance_career\", \"alongside_group\", \"believe_push\", \"big_impact\", \"boldly_disrupt\", \"boundary_human\", \"camaraderie_professional\", \"interview\", \"statistical_program\", \"maintain\", \"vaccine\", \"profile\", \"robust\", \"feature_engineering\", \"solvay_group\", \"\\u2026\", \"advance_analytics\", \"large\", \"simulation\", \"deliver_high\", \"effort\", \"executive\", \"failure\", \"language_python\", \"efficiently\", \"build_relationship\", \"possibility\", \"o\", \"strength\", \"prospect\", \"electrical\", \"physical\", \"autonomy_attract\", \"phd\", \"algorithm\", \"sales\", \"apply\", \"collibras\", \"collibra\", \"disrupt\", \"participate_internal\", \"large_transformation\", \"strong_plusknowledge\", \"mlai\", \"academia\", \"access_linkedin\", \"account_income\", \"actively_encourage\", \"activitiescollaborate\", \"activitieswithin\", \"age_disability\", \"algorithmic\", \"current\", \"ml\", \"be\", \"innovation\", \"engineering\", \"industry\", \"create\", \"learn\"], \"Freq\": [81.0, 47.0, 147.0, 99.0, 144.0, 81.0, 66.0, 84.0, 25.0, 50.0, 45.0, 70.0, 64.0, 44.0, 140.0, 26.4345560669335, 24.340512780509954, 22.299832361859554, 18.881082413352505, 18.880611837910898, 18.504409042378644, 18.18294985655314, 18.1825083289783, 16.070818463494554, 15.44428212043721, 14.764025620845494, 14.441896397559928, 14.423880910591803, 14.423571066679635, 14.40568145380083, 31.05092826042386, 28.984228699249144, 77.07080709562784, 55.29301718570916, 28.922904779457724, 118.48986596520785, 102.81033098140811, 37.80720838543645, 35.621236346797076, 48.479568922377105, 56.568044249525414, 85.26765807715473, 53.74881322319687, 76.07403148408525, 51.02136183670142, 58.12321281347955, 50.713105874583185, 65.7682976292664, 37.84339815437768, 40.40429681893607, 46.363806175543, 16.933602558116853, 16.393363608327924, 15.5752151141729, 14.481348854936805, 12.575154288554666, 12.303610464096822, 11.493330975041943, 11.493330975041943, 11.493276597164524, 9.840323314175821, 9.584578894296001, 8.203808814356092, 7.675843477738302, 7.675789099860882, 18.15430346230919, 12.122509328663394, 35.82084438066448, 29.348392977910834, 25.751641949241765, 21.077926533526185, 38.25174950458209, 35.870037064353404, 22.936669385359373, 28.606566465901896, 22.524558747771753, 19.71983904497058, 17.94823586463983, 16.658864471891874, 11.007260143884684, 10.326584127616593, 9.645081553310517, 9.645081553310517, 9.645081553310517, 9.645081553310517, 9.645081553310517, 9.645081553310517, 9.645081553310517, 9.645081553310517, 9.645081553310517, 9.645081553310517, 9.645081553310517, 9.645081553310517, 9.645081553310517, 12.369409358528582, 10.324501316560598, 10.326595647589249, 12.32890743866866, 23.878760598591334, 21.977711671142593, 11.819775335203948, 17.16092195283595, 11.690774681414931, 10.217682370118496, 9.645081553310517, 7.161510738586763, 7.161510738586763, 6.572242475230677, 5.982984253885047, 5.982984253885047, 4.8043581215411235, 4.804281261538025, 4.214820655058606, 3.625738168895941, 3.6255790416533444, 3.6255790416533444, 3.6255790416533444, 3.6255790416533444, 3.6255790416533444, 3.6255790416533444, 6.5649604727260265, 5.982984253885047, 6.948655650205884, 10.247163321486449, 7.969948969975314, 8.174021161519672, 8.787594952488872, 6.860954138127225, 5.6242411549991465, 6.945244456500513, 7.073891879978772, 6.098938189916858, 9.48658175805282, 8.71217767296596, 6.2377249153657335, 6.221810436637261, 5.828860493533783, 5.828860493533783, 5.828860493533783, 5.828860493533783, 5.828860493533783, 6.2218399302378025, 4.157736329133143, 15.60478385722472, 3.354398351606112, 3.3520934937547153, 3.3419721614507574, 7.738237314652989, 13.366975684804453, 10.433054189934348, 9.186444824307465, 17.42282167870377, 17.685987713861437, 14.906780263103823, 6.442297891193384, 9.51663171514984, 8.730358466772394, 7.293510685490062, 6.967912730768281, 24.430696423534254, 6.136873661955429, 5.801503190866071, 5.465817889023379, 5.465817889023379, 5.1280642686872655, 5.126532955814246, 5.122036986680666, 4.437273124080511, 4.103027143424474, 3.766590631493131, 3.766518897903764, 3.766518897903764, 3.766518897903764, 3.762467942704221, 17.190043409587684, 10.19140557796816, 4.102177299650443, 4.438180089046075, 4.093739304101174, 4.943437950453696, 6.146373048947372, 9.71682146431389, 10.585588957739912, 11.159409850284705, 9.279288413767688, 8.056111159074426, 8.921077436463888, 8.184228013884171, 8.271652661725561, 8.50446402601685, 6.501019929579464, 6.785104869470675, 6.162288606988272, 8.91346188039997, 5.270159481937985, 5.2687478247082105, 4.228391815359195, 4.228391815359195, 4.2283471387347795, 4.227807296189767, 4.214030762644518, 4.1124218470257485, 5.685887882291348, 3.180230427419705, 3.180230427419705, 3.180230427419705, 2.14632119292288, 2.146139383881858, 4.048597255742806, 4.0226966032469855, 8.207667393490016, 4.358894096800905, 7.587964761827424, 5.072085047086201, 6.336308795782491, 4.840469946709327, 7.511345632197761, 7.511345632197761, 5.989784065822777, 5.989784065822777, 4.031101886177903, 3.9797594153150184, 7.017673654674136, 3.524149571863482, 3.0324853416407827, 3.0324853416407827, 3.0324853416407827, 3.0324853416407827, 3.0324853416407827, 3.0324853416407827, 3.0324853416407827, 3.5242883907149536, 3.541124540521591, 4.0161360502384005, 17.341339592579736, 6.256760702640032, 3.535627203169896, 12.79269747601468, 12.525138963772093, 5.989784065822777, 6.039217431123505, 6.95139139372412, 6.728720968459823, 6.353157510602729, 4.395365323275076, 4.4397674057314465, 2.911455599768482, 2.5043934446175866, 1.6902589694422812, 1.689625790230236, 1.283104129126517, 1.2827556587808338, 1.2827556587808338, 1.2827556587808338, 1.2827556587808338, 1.2827556587808338, 1.2827556587808338, 2.0327673395851353, 0.8761723615804371, 0.8761723615804371, 0.8761723615804371, 1.6604102804051177, 1.651029395861925, 5.907162846074183, 3.7183713514051817, 6.922993731563415, 4.363475623426206, 1.61581199026589, 1.61581199026589, 4.2886429335038905, 3.8814658228743344, 2.1222091705391257, 1.6864841050505652, 4.503078429049131, 2.4238935986512176, 2.423788438544232, 0.9320764070361645, 0.9317321883932878, 0.6364153852673577, 0.6364153852673577, 0.6364153852673577, 0.6363871715801177, 0.6363871715801177, 0.6363871715801177, 0.6363871715801177, 0.6363871715801177, 0.6363871715801177, 0.6363871715801177, 2.597595477807292, 0.9321643707841917, 2.774535868550776, 0.9051083774048935, 0.9140173154928659, 0.9234491394786543, 0.7818038965942018, 0.7236681950103384, 0.9321226914734961, 1.1391271559736469, 0.7366366979600502, 5.738795987133063, 2.366700606125649, 2.1099839509329366, 2.1099839509329366, 2.1099825572777813, 2.1099825572777813, 2.1095764063467137, 2.1034062967855855, 2.1034062967855855, 1.8402567284881128, 2.0555434004952575, 0.8110845043558804, 0.8110685768683875, 0.8110685768683875, 0.553772957505311, 1.9996010870805978, 1.5815980148360407, 1.2822097292608978, 1.2358874191983138, 1.1112416565199037, 0.5760133680313372, 0.5760133680313372, 0.5760011209095975, 0.575988873787858, 0.575988873787858, 0.5754667234087929, 0.30835121900465295, 0.30835121900465295, 0.30835121900465295, 0.30835121900465295, 0.30835121900465295, 0.30835121900465295, 0.30835121900465295, 0.30835121900465295, 0.8219758060781561, 0.5725375463482391, 1.2956271403874928, 1.9472925533314014, 0.9828371267158942, 1.0320138947264308, 0.9775995885409581, 0.8150561331100753], \"Total\": [81.0, 47.0, 147.0, 99.0, 144.0, 81.0, 66.0, 84.0, 25.0, 50.0, 45.0, 70.0, 64.0, 44.0, 140.0, 27.126261811696118, 25.032225102706843, 22.991542861210952, 19.572792180373163, 19.57233159363584, 19.196152088475042, 18.874661746924758, 18.874236589059805, 16.76254453765815, 16.135994152772298, 15.45574117905744, 15.13360258236661, 15.115596161849082, 15.115297914194796, 15.09740790571007, 33.485246804098374, 32.21922985352858, 96.86193009119508, 67.86698949208119, 32.86988599393682, 172.30181530421612, 147.56547392975025, 45.87818306878727, 43.675858157621526, 66.28812340626172, 81.53296164855114, 144.16877964075988, 84.39352055346313, 147.08304776403116, 80.78464727714939, 99.72922344210448, 81.20638605491828, 140.3070651960375, 50.60158388325809, 71.73514276124293, 47.06613186864623, 17.635941017866486, 17.095692291882326, 16.27760050400198, 15.183713906616395, 13.277485077180293, 13.005943124943359, 12.195655898237444, 12.195655898237444, 12.195601421056308, 10.542653640810185, 10.286903778149032, 8.906180142077266, 8.378168400933799, 8.378113927534939, 22.083335171810827, 15.620177132971445, 70.78476283823196, 64.95494327008208, 52.99839225985078, 40.004600982329904, 140.3070651960375, 147.56547392975025, 56.12457872949535, 172.30181530421612, 91.316040572882, 80.78464727714939, 53.998353835162916, 46.02475170320653, 11.646776395175573, 10.966091439193157, 10.284588836310084, 10.284588836310084, 10.284588836310084, 10.284588836310084, 10.284588836310084, 10.284588836310084, 10.284588836310084, 10.284588836310084, 10.284588836310084, 10.284588836310084, 10.284588836310084, 10.284588836310084, 10.284588836310084, 13.674126055335233, 11.231412829538819, 11.842952045203058, 18.10685140343702, 147.08304776403116, 144.16877964075988, 20.782059389815505, 140.3070651960375, 26.683601741379107, 69.27920549448032, 16.737724828629325, 7.815116182467073, 7.815116182467073, 7.2258473455246115, 6.636588425035786, 6.636588425035786, 5.457962183721565, 5.457885316032787, 4.868427123668131, 4.279342049459221, 4.279184597432995, 4.279184597432995, 4.279184597432995, 4.279184597432995, 4.279184597432995, 4.279184597432995, 7.762081287432808, 9.000919952358785, 12.502618139954906, 71.73514276124293, 39.587692682409035, 69.27920549448032, 91.316040572882, 47.80166063651243, 20.1568521606893, 144.16877964075988, 172.30181530421612, 66.28812340626172, 10.16782480649355, 9.393372642080081, 6.9189198878960205, 6.903041163468692, 6.510055475406438, 6.510055475406438, 6.510055475406438, 6.510055475406438, 6.510055475406438, 7.160133175841117, 4.838978438665822, 18.766975924605585, 4.035593339575759, 4.033324178549203, 4.023221082264989, 10.005507759157478, 19.070910844783572, 17.520958957783556, 15.933593142582898, 50.33629476872789, 99.72922344210448, 144.16877964075988, 10.35262468871001, 140.3070651960375, 147.08304776403116, 42.85466776150451, 91.316040572882, 25.123012687856658, 6.829182417430011, 6.49380534667663, 6.158118398514531, 6.158118398514531, 5.820369242127106, 5.818842453987892, 5.814398581243094, 5.1296194087267475, 4.795337240741444, 4.458903744776383, 4.458835360187809, 4.458835360187809, 4.458835360187809, 4.454871401071256, 21.311118835863162, 14.54123559289004, 5.051507212676389, 5.719075287616707, 5.061928541120157, 7.182721203574229, 13.648457901272502, 44.009239556202424, 56.60895619265042, 66.28812340626172, 45.79484508399432, 41.544572744896946, 91.316040572882, 61.33541972554413, 71.73514276124293, 147.08304776403116, 29.54518165563759, 81.20638605491828, 21.25151844113895, 9.578159311879178, 5.934845557836494, 5.933443352237077, 4.893091373067333, 4.893091373067333, 4.893046916780395, 4.892510847311192, 4.87870740945577, 4.77733458880596, 6.673146013604687, 3.844907079420018, 3.844907079420018, 3.844907079420018, 2.8109984655345253, 2.8108165754374, 7.74328215582573, 8.641517560592924, 69.27920549448032, 10.883642915279108, 172.30181530421612, 33.87387549852438, 147.08304776403116, 140.3070651960375, 8.179715422553109, 8.179715422553109, 6.658132617903273, 6.658132617903273, 4.699482638011924, 4.648278845388914, 8.202095123718985, 4.192519007439467, 3.700833893721278, 3.700833893721278, 3.700833893721278, 3.700833893721278, 3.700833893721278, 3.700833893721278, 3.700833893721278, 4.462252884372416, 4.504931443306273, 5.521300999346133, 81.53296164855114, 13.283843733152892, 4.9757602207278175, 84.39352055346313, 81.20638605491828, 16.572492840647218, 18.239876036477465, 64.95494327008208, 147.08304776403116, 147.56547392975025, 41.89179546023957, 140.3070651960375, 3.5929264076087084, 3.185864257646875, 2.371729823189727, 2.3710982157135745, 1.964574914429538, 1.964227514022942, 1.964227514022942, 1.964227514022942, 1.964227514022942, 1.964227514022942, 1.964227514022942, 3.4470092093323963, 1.5576428079569022, 1.5576428079569022, 1.5576428079569022, 3.0456309772610024, 3.0428317482934317, 14.144058005355923, 12.923917407002664, 45.79484508399432, 20.409841344030085, 3.7188060852566465, 3.7188060852566465, 61.33541972554413, 53.55627558262945, 23.276104249810867, 13.628208658000686, 5.201614879634688, 3.1224039906950485, 3.1222996351213794, 1.6305783926536688, 1.6302353139157482, 1.3349148300209417, 1.3349148300209417, 1.3349148300209417, 1.3348887877051483, 1.3348887877051483, 1.3348887877051483, 1.3348887877051483, 1.3348887877051483, 1.3348887877051483, 1.3348887877051483, 5.493623788655403, 2.0387396522100882, 8.942911347671561, 2.305798467380742, 2.4395668219399917, 2.7104687802110803, 2.331991714570584, 1.9988599283306263, 4.888040097512649, 10.883642915279108, 6.953793533077916, 6.443188367106338, 3.071099273499428, 2.8143754429962424, 2.8143754429962424, 2.8143740455770208, 2.8143740455770208, 2.813973771315599, 2.807806304830414, 2.807806304830414, 2.5446263463391943, 3.0791847839758035, 1.5154541604964944, 1.515438228759938, 1.515438228759938, 1.2581426583025115, 6.914152712907463, 17.278579191116005, 13.283843733152892, 21.363136689621673, 1.814034627733577, 1.2788064048357857, 1.2788064048357857, 1.278794100271761, 1.2787818119351009, 1.2787818119351009, 1.5476016782289566, 1.011144404464058, 1.011144404464058, 1.011144404464058, 1.011144404464058, 1.011144404464058, 1.011144404464058, 1.011144404464058, 1.011144404464058, 2.910393062671517, 2.241267242409813, 14.144058005355923, 34.074441781624095, 14.688952575381812, 26.03376800843543, 23.44853197619202, 38.349237953558486], \"Category\": [\"Default\", \"Default\", \"Default\", \"Default\", \"Default\", \"Default\", \"Default\", \"Default\", \"Default\", \"Default\", \"Default\", \"Default\", \"Default\", \"Default\", \"Default\", \"Topic1\", \"Topic1\", \"Topic1\", \"Topic1\", \"Topic1\", \"Topic1\", \"Topic1\", \"Topic1\", \"Topic1\", \"Topic1\", \"Topic1\", \"Topic1\", \"Topic1\", \"Topic1\", \"Topic1\", \"Topic1\", \"Topic1\", \"Topic1\", \"Topic1\", \"Topic1\", \"Topic1\", \"Topic1\", \"Topic1\", \"Topic1\", \"Topic1\", \"Topic1\", \"Topic1\", \"Topic1\", \"Topic1\", \"Topic1\", \"Topic1\", \"Topic1\", \"Topic1\", \"Topic1\", \"Topic1\", \"Topic2\", \"Topic2\", \"Topic2\", \"Topic2\", \"Topic2\", \"Topic2\", \"Topic2\", \"Topic2\", \"Topic2\", \"Topic2\", \"Topic2\", \"Topic2\", \"Topic2\", \"Topic2\", \"Topic2\", \"Topic2\", \"Topic2\", \"Topic2\", \"Topic2\", \"Topic2\", \"Topic2\", \"Topic2\", \"Topic2\", \"Topic2\", \"Topic2\", \"Topic2\", \"Topic2\", \"Topic2\", \"Topic2\", \"Topic3\", \"Topic3\", \"Topic3\", \"Topic3\", \"Topic3\", \"Topic3\", \"Topic3\", \"Topic3\", \"Topic3\", \"Topic3\", \"Topic3\", \"Topic3\", \"Topic3\", \"Topic3\", \"Topic3\", \"Topic3\", \"Topic3\", \"Topic3\", \"Topic3\", \"Topic3\", \"Topic3\", \"Topic3\", \"Topic3\", \"Topic3\", \"Topic3\", \"Topic3\", \"Topic4\", \"Topic4\", \"Topic4\", \"Topic4\", \"Topic4\", \"Topic4\", \"Topic4\", \"Topic4\", \"Topic4\", \"Topic4\", \"Topic4\", \"Topic4\", \"Topic4\", \"Topic4\", \"Topic4\", \"Topic4\", \"Topic4\", \"Topic4\", \"Topic4\", \"Topic4\", \"Topic4\", \"Topic4\", \"Topic4\", \"Topic4\", \"Topic4\", \"Topic4\", \"Topic4\", \"Topic5\", \"Topic5\", \"Topic5\", \"Topic5\", \"Topic5\", \"Topic5\", \"Topic5\", \"Topic5\", \"Topic5\", \"Topic5\", \"Topic5\", \"Topic5\", \"Topic5\", \"Topic5\", \"Topic5\", \"Topic5\", \"Topic5\", \"Topic5\", \"Topic5\", \"Topic5\", \"Topic5\", \"Topic5\", \"Topic5\", \"Topic5\", \"Topic5\", \"Topic5\", \"Topic5\", \"Topic6\", \"Topic6\", \"Topic6\", \"Topic6\", \"Topic6\", \"Topic6\", \"Topic6\", \"Topic6\", \"Topic6\", \"Topic6\", \"Topic6\", \"Topic6\", \"Topic6\", \"Topic6\", \"Topic6\", \"Topic6\", \"Topic6\", \"Topic6\", \"Topic6\", \"Topic6\", \"Topic6\", \"Topic6\", \"Topic6\", \"Topic6\", \"Topic6\", \"Topic6\", \"Topic6\", \"Topic6\", \"Topic6\", \"Topic6\", \"Topic6\", \"Topic6\", \"Topic6\", \"Topic6\", \"Topic7\", \"Topic7\", \"Topic7\", \"Topic7\", \"Topic7\", \"Topic7\", \"Topic7\", \"Topic7\", \"Topic7\", \"Topic7\", \"Topic7\", \"Topic7\", \"Topic7\", \"Topic7\", \"Topic7\", \"Topic7\", \"Topic7\", \"Topic7\", \"Topic7\", \"Topic7\", \"Topic7\", \"Topic7\", \"Topic7\", \"Topic8\", \"Topic8\", \"Topic8\", \"Topic8\", \"Topic8\", \"Topic8\", \"Topic8\", \"Topic8\", \"Topic8\", \"Topic8\", \"Topic8\", \"Topic8\", \"Topic8\", \"Topic8\", \"Topic8\", \"Topic8\", \"Topic8\", \"Topic8\", \"Topic8\", \"Topic8\", \"Topic8\", \"Topic8\", \"Topic8\", \"Topic8\", \"Topic8\", \"Topic8\", \"Topic8\", \"Topic8\", \"Topic8\", \"Topic8\", \"Topic9\", \"Topic9\", \"Topic9\", \"Topic9\", \"Topic9\", \"Topic9\", \"Topic9\", \"Topic9\", \"Topic9\", \"Topic9\", \"Topic9\", \"Topic9\", \"Topic9\", \"Topic9\", \"Topic9\", \"Topic9\", \"Topic9\", \"Topic9\", \"Topic9\", \"Topic9\", \"Topic9\", \"Topic9\", \"Topic9\", \"Topic9\", \"Topic9\", \"Topic9\", \"Topic9\", \"Topic10\", \"Topic10\", \"Topic10\", \"Topic10\", \"Topic10\", \"Topic10\", \"Topic10\", \"Topic10\", \"Topic10\", \"Topic10\", \"Topic10\", \"Topic10\", \"Topic10\", \"Topic10\", \"Topic10\", \"Topic10\", \"Topic10\", \"Topic10\", \"Topic10\", \"Topic10\", \"Topic10\", \"Topic10\", \"Topic10\", \"Topic10\", \"Topic10\", \"Topic10\", \"Topic11\", \"Topic11\", \"Topic11\", \"Topic11\", \"Topic11\", \"Topic11\", \"Topic11\", \"Topic11\", \"Topic11\", \"Topic11\", \"Topic11\", \"Topic11\", \"Topic11\", \"Topic11\", \"Topic11\", \"Topic11\", \"Topic11\", \"Topic11\", \"Topic11\", \"Topic12\", \"Topic12\", \"Topic12\", \"Topic12\", \"Topic12\", \"Topic12\", \"Topic12\", \"Topic12\", \"Topic12\", \"Topic12\", \"Topic12\", \"Topic12\", \"Topic12\", \"Topic12\", \"Topic12\", \"Topic12\", \"Topic12\", \"Topic12\", \"Topic12\", \"Topic12\", \"Topic12\", \"Topic12\", \"Topic12\"], \"logprob\": [15.0, 14.0, 13.0, 12.0, 11.0, 10.0, 9.0, 8.0, 7.0, 6.0, 5.0, 4.0, 3.0, 2.0, 1.0, -5.7514, -5.834, -5.9215, -6.0879, -6.088, -6.1081, -6.1256, -6.1256, -6.2491, -6.2889, -6.3339, -6.356, -6.3572, -6.3572, -6.3585, -5.5905, -5.6593, -4.6814, -5.0134, -5.6615, -4.2513, -4.3932, -5.3936, -5.4532, -5.145, -4.9906, -4.5803, -5.0418, -4.6944, -5.0938, -4.9635, -5.0999, -4.84, -5.3926, -5.3272, -4.3975, -5.4047, -5.4371, -5.4883, -5.5612, -5.7023, -5.7241, -5.7923, -5.7923, -5.7923, -5.9475, -5.9739, -6.1294, -6.1959, -6.196, -5.3351, -5.739, -4.6555, -4.8548, -4.9855, -5.1858, -4.5898, -4.6541, -5.1013, -4.8804, -5.1194, -5.2524, -5.3465, -5.4211, -5.415, -5.4788, -5.5471, -5.5471, -5.5471, -5.5471, -5.5471, -5.5471, -5.5471, -5.5471, -5.5471, -5.5471, -5.5471, -5.5471, -5.5471, -5.2983, -5.479, -5.4788, -5.3016, -4.6406, -4.7235, -5.3438, -4.9709, -5.3547, -5.4894, -5.5471, -5.4452, -5.4452, -5.531, -5.625, -5.625, -5.8444, -5.8444, -5.9753, -6.1258, -6.1259, -6.1259, -6.1259, -6.1259, -6.1259, -6.1259, -5.5321, -5.625, -5.4753, -5.0869, -5.3382, -5.3129, -5.2405, -5.488, -5.6868, -5.4758, -5.4575, -5.6058, -5.0222, -5.1073, -5.4414, -5.444, -5.5092, -5.5092, -5.5092, -5.5092, -5.5092, -5.444, -5.8471, -4.5245, -6.0618, -6.0625, -6.0655, -5.2259, -4.6792, -4.9271, -5.0543, -4.4143, -4.3993, -4.5702, -5.4092, -5.019, -5.1052, -5.2851, -5.3307, -4.067, -5.4486, -5.5048, -5.5644, -5.5644, -5.6282, -5.6285, -5.6293, -5.7728, -5.8512, -5.9367, -5.9367, -5.9367, -5.9367, -5.9378, -4.4185, -4.9413, -5.8514, -5.7726, -5.8534, -5.6648, -5.447, -4.989, -4.9034, -4.8506, -5.0351, -5.1764, -5.0745, -5.1607, -5.15, -5.1223, -5.3909, -5.3482, -5.4444, -5.0073, -5.5328, -5.533, -5.753, -5.753, -5.753, -5.7532, -5.7564, -5.7808, -5.4568, -6.0379, -6.0379, -6.0379, -6.4311, -6.4312, -5.7965, -5.8029, -5.0898, -5.7226, -5.1683, -5.5711, -5.3485, -5.6178, -5.0653, -5.0653, -5.2917, -5.2917, -5.6877, -5.7005, -5.1333, -5.8221, -5.9724, -5.9724, -5.9724, -5.9724, -5.9724, -5.9724, -5.9724, -5.8221, -5.8173, -5.6914, -4.2287, -5.2481, -5.8189, -4.5329, -4.554, -5.2917, -5.2835, -5.1428, -5.1754, -5.2328, -5.6012, -5.5912, -5.6082, -5.7588, -6.1519, -6.1523, -6.4275, -6.4278, -6.4278, -6.4278, -6.4278, -6.4278, -6.4278, -5.9674, -6.809, -6.809, -6.809, -6.1697, -6.1754, -4.9006, -5.3635, -4.742, -5.2035, -6.197, -6.197, -5.2208, -5.3206, -5.9243, -6.1542, -4.7113, -5.3307, -5.3307, -6.2864, -6.2868, -6.668, -6.668, -6.668, -6.668, -6.668, -6.668, -6.668, -6.668, -6.668, -6.668, -5.2615, -6.2863, -5.1956, -6.3158, -6.306, -6.2957, -6.4622, -6.5395, -6.2864, -6.0858, -6.5217, -4.3108, -5.1966, -5.3114, -5.3114, -5.3114, -5.3114, -5.3116, -5.3145, -5.3145, -5.4482, -5.3375, -6.2675, -6.2675, -6.2675, -6.6491, -5.3651, -5.5996, -5.8095, -5.8463, -5.9407, -6.5978, -6.5978, -6.5978, -6.5979, -6.5979, -6.5988, -7.2227, -7.2227, -7.2227, -7.2227, -7.2227, -7.2227, -7.2227, -7.2227, -6.2422, -6.6039, -5.7872, -5.3797, -6.0635, -6.0147, -6.0688, -6.2507], \"loglift\": [15.0, 14.0, 13.0, 12.0, 11.0, 10.0, 9.0, 8.0, 7.0, 6.0, 5.0, 4.0, 3.0, 2.0, 1.0, 1.0234, 1.0212, 1.0187, 1.0133, 1.0133, 1.0125, 1.0119, 1.0119, 1.0071, 1.0054, 1.0035, 1.0025, 1.0024, 1.0024, 1.0023, 0.9738, 0.9434, 0.8207, 0.8443, 0.9213, 0.6748, 0.6879, 0.8558, 0.8454, 0.7364, 0.6837, 0.5241, 0.5981, 0.39, 0.5897, 0.5094, 0.5784, 0.2915, 0.7587, 0.4752, 1.8263, 1.8007, 1.7994, 1.7972, 1.794, 1.787, 1.7858, 1.782, 1.782, 1.782, 1.7724, 1.7706, 1.7592, 1.7538, 1.7538, 1.6454, 1.5878, 1.1602, 1.0469, 1.1196, 1.2005, 0.5417, 0.4269, 0.9465, 0.0457, 0.4416, 0.4312, 0.7399, 0.8251, 2.2053, 2.2017, 2.1976, 2.1976, 2.1976, 2.1976, 2.1976, 2.1976, 2.1976, 2.1976, 2.1976, 2.1976, 2.1976, 2.1976, 2.1976, 2.1615, 2.1776, 2.1248, 1.8774, 0.4438, 0.3808, 1.6975, 0.1606, 1.4365, 0.3478, 1.7106, 2.5741, 2.5741, 2.5666, 2.5578, 2.5578, 2.5339, 2.5339, 2.5173, 2.4957, 2.4957, 2.4957, 2.4957, 2.4957, 2.4957, 2.4957, 2.494, 2.2531, 2.0741, 0.7155, 1.0586, 0.5243, 0.3205, 0.7202, 1.385, -0.3715, -0.5314, 0.2756, 2.734, 2.728, 2.6997, 2.6994, 2.6928, 2.6928, 2.6928, 2.6928, 2.6928, 2.6628, 2.6516, 2.6188, 2.6184, 2.6183, 2.6178, 2.5463, 2.4479, 2.2849, 2.2526, 1.7424, 1.0736, 0.5341, 2.3289, 0.1125, -0.0209, 1.0325, 0.2303, 2.7845, 2.7056, 2.6997, 2.6932, 2.6932, 2.6858, 2.6858, 2.6857, 2.6675, 2.6565, 2.6437, 2.6437, 2.6437, 2.6437, 2.6435, 2.5976, 2.457, 2.6043, 2.5589, 2.6002, 2.4388, 2.0147, 1.3019, 1.1358, 1.0307, 1.2161, 1.1721, 0.4865, 0.7983, 0.6523, -0.0379, 1.2985, 0.3302, 1.5745, 2.8086, 2.7617, 2.7617, 2.7345, 2.7345, 2.7345, 2.7345, 2.734, 2.7306, 2.7204, 2.6907, 2.6907, 2.6907, 2.6107, 2.6107, 2.232, 2.1159, 0.7474, 1.9655, -0.2422, 0.9816, -0.2642, -0.4863, 2.9083, 2.9083, 2.8878, 2.8878, 2.8402, 2.8383, 2.8376, 2.8199, 2.7944, 2.7944, 2.7944, 2.7944, 2.7944, 2.7944, 2.7944, 2.7576, 2.7528, 2.6753, 1.4457, 2.2407, 2.6519, 1.107, 1.1243, 1.9759, 1.8882, 0.7588, -0.091, -0.1517, 0.739, -0.4597, 3.1882, 3.1579, 3.0598, 3.0597, 2.9725, 2.9724, 2.9724, 2.9724, 2.9724, 2.9724, 2.9724, 2.8704, 2.8232, 2.8232, 2.8232, 2.7919, 2.7871, 2.5254, 2.1527, 1.5092, 1.8558, 2.565, 2.565, 0.7381, 0.774, 1.0036, 1.309, 3.7151, 3.606, 3.606, 3.3, 3.2998, 3.1185, 3.1185, 3.1185, 3.1185, 3.1185, 3.1185, 3.1185, 3.1185, 3.1185, 3.1185, 3.1103, 3.0767, 2.6889, 2.9241, 2.8775, 2.7825, 2.7664, 2.8433, 2.2022, 1.6023, 1.6143, 3.9015, 3.7567, 3.7292, 3.7292, 3.7292, 3.7292, 3.7292, 3.7284, 3.7284, 3.6932, 3.6131, 3.3922, 3.3922, 3.3922, 3.1966, 2.7766, 1.6262, 1.6793, 1.1674, 3.5391, 3.2316, 3.2316, 3.2316, 3.2316, 3.2316, 3.0399, 2.8416, 2.8416, 2.8416, 2.8416, 2.8416, 2.8416, 2.8416, 2.8416, 2.7648, 2.6644, 1.6389, 1.167, 1.3247, 0.8013, 0.8517, 0.1779]}, \"token.table\": {\"Topic\": [3, 5, 6, 7, 3, 3, 5, 8, 9, 4, 9, 8, 9, 1, 2, 5, 8, 1, 7, 10, 10, 3, 9, 8, 4, 4, 4, 1, 2, 3, 4, 5, 7, 9, 11, 10, 3, 1, 2, 3, 7, 1, 4, 6, 4, 8, 6, 1, 2, 3, 5, 6, 11, 8, 4, 2, 2, 8, 3, 11, 3, 1, 2, 5, 7, 9, 12, 1, 10, 10, 6, 7, 7, 10, 10, 10, 1, 6, 11, 1, 2, 5, 8, 10, 10, 1, 2, 3, 5, 6, 5, 6, 6, 3, 2, 6, 8, 1, 9, 12, 12, 4, 6, 1, 1, 2, 4, 10, 5, 5, 6, 2, 1, 3, 12, 5, 7, 1, 12, 1, 2, 3, 8, 9, 7, 10, 8, 1, 3, 4, 9, 1, 3, 11, 3, 5, 7, 1, 2, 3, 4, 5, 6, 10, 3, 1, 2, 3, 4, 5, 6, 8, 9, 1, 2, 5, 6, 6, 12, 1, 1, 5, 6, 9, 8, 11, 11, 11, 8, 11, 6, 9, 1, 9, 3, 1, 2, 7, 12, 1, 9, 2, 10, 11, 1, 2, 3, 5, 7, 8, 7, 11, 1, 10, 3, 5, 1, 9, 8, 1, 1, 2, 7, 5, 5, 6, 4, 1, 2, 6, 4, 7, 9, 6, 7, 7, 8, 1, 9, 1, 7, 1, 2, 5, 6, 8, 1, 5, 1, 2, 7, 8, 12, 1, 6, 1, 4, 5, 12, 1, 7, 1, 2, 7, 8, 1, 4, 1, 10, 5, 6, 1, 2, 3, 5, 8, 11, 1, 2, 5, 10, 12, 1, 2, 3, 6, 8, 1, 3, 6, 7, 12, 1, 2, 8, 6, 1, 1, 2, 4, 5, 7, 1, 3, 4, 6, 7, 9, 3, 5, 8, 10, 1, 2, 1, 8, 10, 9, 1, 9, 1, 5, 2, 9, 7, 1, 5, 7, 12, 12, 1, 2, 4, 5, 6, 6, 9, 6, 1, 3, 5, 6, 5, 11, 4, 8, 1, 2, 4, 1, 9, 9, 12, 1, 3, 2, 8, 4, 2, 6, 4, 7, 1, 6, 11, 11, 1, 2, 3, 1, 1, 5, 1, 11, 5, 6, 2, 1, 2, 5, 6, 10, 1, 2, 8, 1, 2, 3, 6, 2, 10, 1, 3, 5, 6, 7, 5, 1, 2, 3, 4, 5, 3, 11, 6, 3, 5, 1, 2, 3, 8, 7, 7, 8, 1, 2, 4, 6, 10, 1, 2, 8, 1, 6, 1, 2, 5, 6, 8, 2, 2, 10, 2, 2, 2, 1, 8, 9, 11, 3, 1, 2, 3, 4, 6, 7, 7, 1, 5, 11, 1, 2, 3, 5, 7, 8, 1, 9, 1, 3, 3, 7, 1, 2, 3, 6, 7, 9, 4, 1, 10, 5, 1, 10, 7, 2, 1, 2, 6, 2, 11, 1, 2, 5, 9, 12, 1, 2, 3, 11, 1, 2, 5, 6, 7, 8, 8, 6, 1, 2, 3, 4, 6, 7, 1, 2, 8, 5, 2, 1, 5, 9, 1, 2, 4, 8, 4, 6, 10, 4, 4, 1, 9, 1, 2, 3, 4, 5, 6, 7, 8, 1, 3, 3, 7, 4, 2, 2, 10], \"Freq\": [0.9723286131473401, 0.11572041519191065, 0.34716124557573197, 0.4628816607676426, 0.9723286131473401, 0.9723286131473401, 0.7433851103330879, 0.8106281141365757, 0.6419957097299219, 0.9347575242254159, 0.6419957097299219, 0.8106281141365757, 0.6419957097299219, 0.4666936192646347, 0.35002021444847603, 0.16334276674262213, 0.8106281141365757, 0.4594050024354163, 0.36752400194833307, 0.09188100048708327, 0.7491260764270358, 0.9723286131473401, 0.5090159670955456, 0.8106281141365757, 0.9347575242254159, 0.9347575242254159, 0.9347575242254159, 0.23150051608737884, 0.17362538706553413, 0.11575025804368942, 0.17362538706553413, 0.17362538706553413, 0.05787512902184471, 0.05787512902184471, 0.11575025804368942, 0.7491260764270358, 0.9723286131473401, 0.4810726532154903, 0.4098026305168992, 0.03563501134929558, 0.05345251702394337, 0.7241116135664479, 0.09051395169580599, 0.16594224477564432, 0.9347575242254159, 0.8106281141365757, 0.8970952450308722, 0.1404288164039795, 0.04680960546799316, 0.3276672382759521, 0.23404802733996583, 0.18723842187197265, 0.04680960546799316, 0.8106281141365757, 0.9347575242254159, 0.9829458583939488, 0.9019605088718317, 0.8106281141365757, 0.9723286131473401, 0.7948224260587443, 0.9723286131473401, 0.14140213503385388, 0.07070106751692694, 0.14140213503385388, 0.07070106751692694, 0.4242064051015616, 0.07070106751692694, 0.9707581291019032, 0.7491260764270358, 0.7491260764270358, 0.6876994692864694, 0.2750797877145878, 0.9396377432183526, 0.6132793151837121, 0.7491260764270358, 0.7491260764270358, 0.2784460016358104, 0.696115004089526, 0.7122998465240629, 0.6979952509015354, 0.24395950516946865, 0.013553305842748258, 0.04065991752824478, 0.7491260764270358, 0.7491114620281148, 0.45627622578867566, 0.3693664684955946, 0.06518231796981082, 0.04345487864654054, 0.08690975729308108, 0.14077158609577484, 0.7977056545427241, 0.8785824763863823, 0.9723286131473401, 0.8150942717645673, 0.13584904529409453, 0.9780291350897615, 0.6963832804381326, 0.3095036801947256, 0.7819791926428553, 0.5512573931675067, 0.17485344215790646, 0.6994137686316259, 0.9707352852319386, 0.39688736793942064, 0.24805460496213788, 0.29766552595456547, 0.04961092099242758, 0.9216511322624952, 0.9581223212291329, 0.8970952450308722, 0.9485277939218647, 0.7676386742793079, 0.17058637206206842, 0.042646593015517105, 0.8691821268214884, 0.7114909611377856, 0.34359620108566263, 0.34359620108566263, 0.5788303921950577, 0.20539142948856887, 0.07468779254129777, 0.05601584440597333, 0.07468779254129777, 0.8174865412146883, 0.6405321047372858, 0.8511575226698073, 0.2939758275855001, 0.2939758275855001, 0.19598388505700007, 0.19598388505700007, 0.9536594743443672, 0.9723286131473401, 0.6512326114815098, 0.9723286131473401, 0.38743260798561013, 0.5165768106474802, 0.5576067525666263, 0.06970084407082829, 0.08364101288499395, 0.13940168814165657, 0.027880337628331316, 0.11152135051332526, 0.6405535130270257, 0.9723286131473401, 0.3613822915773679, 0.25187250625089275, 0.07665684972853258, 0.0985588067938276, 0.07665684972853258, 0.0985588067938276, 0.043803914130590045, 0.5091059935067788, 0.3749568707515799, 0.5249396190522119, 0.07499137415031598, 0.7902126566004106, 0.8341436272752174, 0.7819791926428553, 0.9705131462944675, 0.7271200393984106, 0.045445002462400665, 0.22722501231200334, 0.5091059935067788, 0.8605335723281735, 0.710738678656892, 0.7106372410181203, 0.6598751311812202, 0.8038972584203242, 0.20097431460508106, 0.8970952450308722, 0.5091059935067788, 0.3286412403711933, 0.6572824807423866, 0.9723286131473401, 0.20423512055093013, 0.5446269881358137, 0.13615674703395342, 0.06807837351697671, 0.2901065646394592, 0.5802131292789184, 0.9548688486686419, 0.7491114620281148, 0.7106372410181203, 0.4703968393023158, 0.27083454384072725, 0.12116282224453588, 0.07127224837913876, 0.03563612418956938, 0.0285088993516555, 0.8426810037909703, 0.7106375938703441, 0.42881799011200233, 0.42881799011200233, 0.9723286131473401, 0.9216511322624952, 0.8071493676127605, 0.14675443047504735, 0.9540803495230793, 0.9568735831607115, 0.6481679072447672, 0.3333434951544517, 0.8174791139231311, 0.8266207528510624, 0.7456711770636932, 0.8978934833086598, 0.9161057278562216, 0.3293882279230135, 0.3764436890548725, 0.28233276679115443, 0.6665985290123192, 0.22219950967077304, 0.11109975483538652, 0.9239574763463849, 0.7802529262820397, 0.8174791139231311, 0.8879158429688129, 0.9022128348720829, 0.08592503189257933, 0.9545090224252621, 0.8175761127230419, 0.6017633194475644, 0.16849372944531804, 0.024070532777902578, 0.19256426222322062, 0.9780291350897615, 0.3765628974148248, 0.5648443461222372, 0.307293204633607, 0.38411650579200873, 0.11523495173760262, 0.11523495173760262, 0.03841165057920087, 0.512878454887373, 0.43961010418917695, 0.7336877346434528, 0.11739003754295245, 0.058695018771476225, 0.058695018771476225, 0.9257808425711171, 0.05972779629491078, 0.8282804038473984, 0.10898426366413137, 0.06539055819847882, 0.8964081829626229, 0.3999162370656898, 0.5598827318919657, 0.36405842062394156, 0.5460876309359123, 0.8379732405319635, 0.8119363215241374, 0.581574768138755, 0.13035296527247955, 0.07019005822364284, 0.18048872114651016, 0.03008145352441836, 0.7106375938703441, 0.14380639793850422, 0.28761279587700844, 0.43141919381551264, 0.14380639793850422, 0.7819942312807548, 0.6313080729935399, 0.24757179333079996, 0.024757179333079995, 0.04951435866615999, 0.03713576899961999, 0.6779795737137306, 0.1303806872526405, 0.1043045498021124, 0.0521522749010562, 0.0260761374505281, 0.49342440606510307, 0.16447480202170103, 0.32894960404340207, 0.9552994419176697, 0.9262139641225716, 0.5809886467624357, 0.0505207518923857, 0.2020830075695428, 0.07578112783857856, 0.07578112783857856, 0.45856689680864704, 0.02183651889564986, 0.06550955668694958, 0.19652867006084873, 0.08734607558259944, 0.152855632269549, 0.11182040849151065, 0.11182040849151065, 0.33546122547453194, 0.33546122547453194, 0.509449416269444, 0.4905809193705757, 0.6034095230062844, 0.3620457138037706, 0.6134083782040319, 0.8434909978615569, 0.26890350748982034, 0.5378070149796407, 0.2621794019538212, 0.6816664450799351, 0.9359082818539849, 0.8349739626302745, 0.7115370022637545, 0.2897815858495895, 0.579563171699179, 0.7802529262820397, 0.44617615475644884, 0.6461610982125449, 0.39732761602519207, 0.09933190400629802, 0.07946552320503841, 0.3377284736214133, 0.07946552320503841, 0.8592774318152049, 0.8432663705810347, 0.7918428761147349, 0.8104087187544612, 0.04420411193206152, 0.05893881590941536, 0.0736735198867692, 0.8671873785526001, 0.7859700120126806, 0.18111673319719868, 0.7244669327887947, 0.7112723605679447, 0.1255186518649314, 0.14643842717575334, 0.32833918733625445, 0.6566783746725089, 0.5091059935067788, 0.7819867168510446, 0.2761385670316434, 0.6627325608759442, 0.7682371267525585, 0.19205928168813963, 0.8216205970412448, 0.9019605088718317, 0.859052027801024, 0.9347231312125373, 0.8424819064411703, 0.4338926437652363, 0.14463088125507875, 0.2892617625101575, 0.6598751311812202, 0.7509646355669232, 0.09881113625880568, 0.13833559076232793, 0.9587641490729794, 0.15985526981289871, 0.8525614390021264, 0.9273115019105357, 0.7122998465240629, 0.9216511322624952, 0.8599341669024384, 0.9220405551700639, 0.79494595996079, 0.10323973505984285, 0.051619867529921426, 0.041295894023937144, 0.7491114620281148, 0.6991037593568503, 0.08585484764031495, 0.20850462998362201, 0.9897816975208897, 0.2389811065096573, 0.5974527662741432, 0.11949055325482864, 0.4099088375061521, 0.4099088375061521, 0.5904255035970492, 0.08856382553955737, 0.05904255035970492, 0.11808510071940984, 0.1476063758992623, 0.9216511322624952, 0.5895867344636142, 0.10404471784652015, 0.15259891950822954, 0.0485542016617094, 0.10404471784652015, 0.8775697950596236, 0.6598681940154357, 0.8970814866066598, 0.19988990545427468, 0.7995596218170987, 0.3848821774202807, 0.4464633258075256, 0.046185861290433686, 0.10776700967767859, 0.8198892994171603, 0.1219200685820114, 0.8534404800740798, 0.9250936730896143, 0.12883142587272944, 0.901819981109106, 0.7797849472409227, 0.9612399448440428, 0.5967755672761281, 0.26258124960149637, 0.0954840907641805, 0.8822665221701512, 0.09126895056932598, 0.5829466257546789, 0.08832524632646652, 0.08832524632646652, 0.19431554191822634, 0.05299514779587991, 0.9226551188729929, 0.36893987021762487, 0.36893987021762487, 0.9019645378872383, 0.9791010816003702, 0.9548626402768833, 0.3011176644616105, 0.4516764966924158, 0.07527941611540262, 0.07527941611540262, 0.8903599352790078, 0.3031212591153796, 0.23094953075457494, 0.14434345672160934, 0.11547476537728747, 0.07217172836080467, 0.11547476537728747, 0.7802529262820397, 0.9584807586274013, 0.9216511322624952, 0.9312159847182342, 0.6398595490016452, 0.1421910108892545, 0.02369850181487575, 0.02369850181487575, 0.02369850181487575, 0.15404026179669236, 0.26890350748982034, 0.5378070149796407, 0.5246668023188847, 0.4497144019876155, 0.8443840658841865, 0.08443840658841865, 0.4402024168223864, 0.1630379321564394, 0.13043034572515155, 0.13043034572515155, 0.048911379646931825, 0.06521517286257578, 0.9040789658381817, 0.5002851804804366, 0.5002851804804366, 0.7438033411633943, 0.9295987503455357, 0.49049911739144997, 0.8372869694688381, 0.963940624590305, 0.6092363963030626, 0.16923233230640627, 0.2369252652289688, 0.9721098024890191, 0.6495225653257567, 0.824253981915589, 0.16027160759469786, 0.022895943942099692, 0.5091059935067788, 0.7819942312807548, 0.14435527989445482, 0.19247370652593976, 0.5774211195778193, 0.04811842663148494, 0.6280294257339528, 0.04925720986148649, 0.06157151232685811, 0.08620011725760136, 0.024628604930743245, 0.1600859320498311, 0.9011535732806526, 0.8119363215241374, 0.684844786989964, 0.16830931205685554, 0.04062638566889617, 0.04062638566889617, 0.023215077525083522, 0.046430155050167045, 0.4379473598130983, 0.5085840307506948, 0.0423820025625579, 0.885145069991004, 0.8982526596564091, 0.3424470095761822, 0.5707450159603036, 0.9416597059335613, 0.9000835877156754, 0.09311209528093194, 0.916092825800911, 0.9011535732806526, 0.8957000557079681, 0.43368924654371205, 0.43368924654371205, 0.968744517462787, 0.9040789658381817, 0.9536809563165832, 0.5091059935067788, 0.5167148842464062, 0.07478768061461143, 0.1631731213409704, 0.0407932803352426, 0.06118992050286389, 0.06118992050286389, 0.0407932803352426, 0.04759216039111636, 0.9261956888829311, 0.911901934745837, 0.9444673467378075, 0.8991261374721413, 0.8957000557079681, 0.9773482156634068, 0.6137429194835358, 0.2045809731611786], \"Term\": [\"120_country\", \"2_year\", \"2_year\", \"2_year\", \"3_developer\", \"500_brand\", \"70\", \"ability_flexibility\", \"able_select\", \"accept_referral\", \"accord_requirementsa\", \"account_manager\", \"achieve_objective\", \"activity\", \"activity\", \"activity\", \"activity_price\", \"advance_analytics\", \"advance_analytics\", \"advance_analytics\", \"advance_career\", \"advantageif_youre\", \"advisory\", \"agency_base\", \"agency_respect\", \"agreement_gsk\", \"agreement_verbal\", \"algorithm\", \"algorithm\", \"algorithm\", \"algorithm\", \"algorithm\", \"algorithm\", \"algorithm\", \"algorithm\", \"alongside_group\", \"ambitionsthats_world\", \"analysis\", \"analysis\", \"analysis\", \"analysis\", \"analytics\", \"analytics\", \"analytics\", \"andor_employment\", \"antwerp_east\", \"applicant_receive\", \"apply\", \"apply\", \"apply\", \"apply\", \"apply\", \"apply\", \"apply_material\", \"arise_action\", \"assessment\", \"assign\", \"attend_regular\", \"attention_fulltime\", \"autonomy_attract\", \"availability_strong\", \"be\", \"be\", \"be\", \"be\", \"be\", \"be\", \"belgium\", \"believe_push\", \"big_impact\", \"bioinformatics\", \"bioinformatics\", \"biology\", \"biostatistics_department\", \"boldly_disrupt\", \"boundary_human\", \"broad\", \"broad\", \"build_relationship\", \"business\", \"business\", \"business\", \"business\", \"camaraderie_professional\", \"carmeuse\", \"challenge\", \"challenge\", \"challenge\", \"challenge\", \"challenge\", \"change\", \"change\", \"chemistry\", \"choose_toptal\", \"clinical\", \"clinical\", \"clinical_trial\", \"colleague\", \"colleague\", \"collibra\", \"collibras\", \"color_religion\", \"color_religion\", \"commercial\", \"complex\", \"complex\", \"complex\", \"complex\", \"composite\", \"composite_material\", \"consideration_employment\", \"consult\", \"create\", \"create\", \"create\", \"critical_thinke\", \"cross_functional\", \"current\", \"current\", \"customer\", \"customer\", \"customer\", \"customer\", \"customer\", \"customer_segmentation\", \"dedicate\", \"deep\", \"deep_learn\", \"deep_learn\", \"deep_learn\", \"deep_learn\", \"define\", \"define_career\", \"deliver_high\", \"design_lifestyle\", \"detail\", \"detail\", \"develop\", \"develop\", \"develop\", \"develop\", \"develop\", \"develop\", \"develop_maintain\", \"developer_connect\", \"development\", \"development\", \"development\", \"development\", \"development\", \"development\", \"development\", \"devops\", \"digital\", \"digital\", \"digital\", \"discovery\", \"disease_area\", \"disrupt\", \"diverse\", \"drive\", \"drive\", \"drive\", \"edge\", \"effectively\", \"efficiently\", \"effort\", \"electrical\", \"email\", \"email\", \"employer_qualify\", \"empower_people\", \"endtoend\", \"endtoend\", \"engagement_get\", \"engineering\", \"engineering\", \"engineering\", \"engineering\", \"enterprise\", \"enterprise\", \"epidemiology\", \"equipment\", \"executive\", \"experience\", \"experience\", \"experience\", \"experience\", \"experience\", \"experience\", \"experimental_design\", \"failure\", \"feature_engineering\", \"feature_engineering\", \"filling_short\", \"finite_element\", \"focus\", \"focus\", \"fortune_500\", \"function\", \"global\", \"global\", \"global_leader\", \"graph\", \"guideline\", \"health\", \"heartflow\", \"help\", \"help\", \"help\", \"high_dimensional\", \"high_dimensional\", \"high_dimensional\", \"human\", \"identification_validation\", \"identify_trend\", \"identity\", \"impact\", \"impact\", \"improve\", \"improve_accuracy\", \"including\", \"including\", \"including\", \"including\", \"individual_position\", \"industrial\", \"industrial\", \"industry\", \"industry\", \"industry\", \"industry\", \"industry\", \"initiative\", \"initiative\", \"innovation\", \"innovation\", \"innovation\", \"innovation\", \"innovative\", \"innovative\", \"insight\", \"insight\", \"insight\", \"internally_externally\", \"international\", \"international\", \"interview\", \"interview\", \"investigation\", \"johnson_johnson\", \"knowledge\", \"knowledge\", \"knowledge\", \"knowledge\", \"knowledge\", \"language_python\", \"large\", \"large\", \"large\", \"large\", \"large_transformation\", \"lead\", \"lead\", \"lead\", \"lead\", \"lead\", \"learn\", \"learn\", \"learn\", \"learn\", \"learn\", \"life\", \"life\", \"life\", \"life_science\", \"line\", \"look\", \"look\", \"look\", \"look\", \"look\", \"machine_learn\", \"machine_learn\", \"machine_learn\", \"machine_learn\", \"machine_learn\", \"machine_learn\", \"maintain\", \"maintain\", \"maintain\", \"maintain\", \"management\", \"management\", \"manager\", \"manager\", \"mandatory\", \"market_robovision\", \"master_level\", \"master_level\", \"material\", \"material\", \"medical\", \"medicinal_chemistry\", \"mentor_junior\", \"method\", \"method\", \"microbiology_immunology\", \"ml\", \"mlai\", \"model\", \"model\", \"model\", \"model\", \"model\", \"molecular_biology\", \"molecule_design\", \"national_origin\", \"new\", \"new\", \"new\", \"new\", \"numerical\", \"o\", \"offer_opportunity\", \"offer_opportunity\", \"opportunity\", \"opportunity\", \"opportunity\", \"organic_chemistry\", \"organic_chemistry\", \"organisation_apply\", \"participate_internal\", \"passionate\", \"passionate\", \"patient\", \"patient\", \"patient_consumer\", \"patient_safety\", \"people_live\", \"personalize_vaccinology\", \"pharmaceutical_biotech\", \"phd\", \"phd\", \"phd\", \"physical\", \"plan\", \"plan\", \"plan\", \"platform\", \"polymer\", \"polymer\", \"position\", \"possibility\", \"postprocessing\", \"practical_knowledge\", \"practice\", \"process\", \"process\", \"process\", \"process\", \"producer\", \"product\", \"product\", \"product\", \"professional\", \"professional_experience\", \"professional_experience\", \"professional_experience\", \"profile\", \"profile\", \"program\", \"program\", \"program\", \"program\", \"program\", \"progressive_failure\", \"project\", \"project\", \"project\", \"project\", \"project\", \"project_management\", \"prospect\", \"protect_veteran\", \"prototype\", \"prototype\", \"provide\", \"provide\", \"provide\", \"provide\", \"provide_computational\", \"provide_input\", \"provide_input\", \"ps_mq\", \"rd_project\", \"rd_project\", \"regard_race\", \"regulation\", \"relevant\", \"relevant\", \"relevant\", \"require\", \"require\", \"research\", \"research\", \"research\", \"research\", \"research\", \"review\", \"robust\", \"robust\", \"rwe\", \"safety\", \"safety_input\", \"sales\", \"sales\", \"sales\", \"sales\", \"schedule\", \"scientist\", \"scientist\", \"scientist\", \"scientist\", \"scientist\", \"scientist\", \"scientist_computational\", \"sensory_consumer\", \"setup\", \"simulation\", \"skill\", \"skill\", \"skill\", \"skill\", \"skill\", \"skill\", \"small_molecule\", \"small_molecule\", \"software\", \"software\", \"software_engineer\", \"software_engineer\", \"solution\", \"solution\", \"solution\", \"solution\", \"solution\", \"solution\", \"solution_simple\", \"solvay_group\", \"solvay_group\", \"spread\", \"stakeholder\", \"statistical_program\", \"status_quo\", \"strategic\", \"strategy\", \"strategy\", \"strategy\", \"strategy_operation\", \"strength\", \"strong\", \"strong\", \"strong\", \"strong_handson\", \"strong_plusknowledge\", \"supply_chain\", \"supply_chain\", \"supply_chain\", \"supply_chain\", \"support\", \"support\", \"support\", \"support\", \"support\", \"support\", \"support_account\", \"target_identification\", \"team\", \"team\", \"team\", \"team\", \"team\", \"team\", \"technology\", \"technology\", \"technology\", \"technology_center\", \"term\", \"test\", \"test\", \"therapeutic_area\", \"tool\", \"tool\", \"transparency_respect\", \"use_personal\", \"vacancy_post\", \"vaccine\", \"vaccine\", \"vaccine_protect\", \"vaccine_rd\", \"vision\", \"willem_r\", \"work\", \"work\", \"work\", \"work\", \"work\", \"work\", \"work\", \"work\", \"work_environment\", \"work_flexibly\", \"work_remotely\", \"write\", \"write_authorization\", \"\\u00b7\", \"\\u2026\", \"\\u2026\"]}, \"R\": 15, \"lambda.step\": 0.01, \"plot.opts\": {\"xlab\": \"PC1\", \"ylab\": \"PC2\"}, \"topic.order\": [9, 8, 12, 2, 5, 11, 4, 1, 6, 7, 10, 3]};\n",
       "\n",
       "function LDAvis_load_lib(url, callback){\n",
       "  var s = document.createElement('script');\n",
       "  s.src = url;\n",
       "  s.async = true;\n",
       "  s.onreadystatechange = s.onload = callback;\n",
       "  s.onerror = function(){console.warn(\"failed to load library \" + url);};\n",
       "  document.getElementsByTagName(\"head\")[0].appendChild(s);\n",
       "}\n",
       "\n",
       "if(typeof(LDAvis) !== \"undefined\"){\n",
       "   // already loaded: just create the visualization\n",
       "   !function(LDAvis){\n",
       "       new LDAvis(\"#\" + \"ldavis_el1462826706956647689185367035\", ldavis_el1462826706956647689185367035_data);\n",
       "   }(LDAvis);\n",
       "}else if(typeof define === \"function\" && define.amd){\n",
       "   // require.js is available: use it to load d3/LDAvis\n",
       "   require.config({paths: {d3: \"https://d3js.org/d3.v5\"}});\n",
       "   require([\"d3\"], function(d3){\n",
       "      window.d3 = d3;\n",
       "      LDAvis_load_lib(\"https://cdn.jsdelivr.net/gh/bmabey/pyLDAvis@3.3.1/pyLDAvis/js/ldavis.v3.0.0.js\", function(){\n",
       "        new LDAvis(\"#\" + \"ldavis_el1462826706956647689185367035\", ldavis_el1462826706956647689185367035_data);\n",
       "      });\n",
       "    });\n",
       "}else{\n",
       "    // require.js not available: dynamically load d3 & LDAvis\n",
       "    LDAvis_load_lib(\"https://d3js.org/d3.v5.js\", function(){\n",
       "         LDAvis_load_lib(\"https://cdn.jsdelivr.net/gh/bmabey/pyLDAvis@3.3.1/pyLDAvis/js/ldavis.v3.0.0.js\", function(){\n",
       "                 new LDAvis(\"#\" + \"ldavis_el1462826706956647689185367035\", ldavis_el1462826706956647689185367035_data);\n",
       "            })\n",
       "         });\n",
       "}\n",
       "</script>"
      ],
      "text/plain": [
       "PreparedData(topic_coordinates=              x         y  topics  cluster       Freq\n",
       "topic                                                \n",
       "8      0.135409 -0.317477       1        1  35.020249\n",
       "7     -0.123504 -0.317591       2        1  15.860863\n",
       "11    -0.261029 -0.004289       3        1  10.416401\n",
       "1     -0.128447  0.225197       4        1   6.984633\n",
       "4      0.174373 -0.085732       5        1   6.060959\n",
       "10     0.275918  0.076763       6        1   6.005720\n",
       "3      0.068652  0.203463       7        1   5.610662\n",
       "0     -0.080366 -0.081553       8        1   5.010799\n",
       "5     -0.096956  0.086609       9        1   3.342224\n",
       "6      0.003655  0.107386      10        1   2.108340\n",
       "9      0.050538  0.061249      11        1   1.800212\n",
       "2     -0.018244  0.045975      12        1   1.778938, topic_info=             Term        Freq       Total Category  logprob  loglift\n",
       "188       product   81.000000   81.000000  Default  15.0000  15.0000\n",
       "2829            ·   47.000000   47.000000  Default  14.0000  14.0000\n",
       "9        business  147.000000  147.000000  Default  13.0000  13.0000\n",
       "326     knowledge   99.000000   99.000000  Default  12.0000  12.0000\n",
       "83        project  144.000000  144.000000  Default  11.0000  11.0000\n",
       "...           ...         ...         ...      ...      ...      ...\n",
       "1666   innovation    1.947293   34.074442  Topic12  -5.3797   1.1670\n",
       "803   engineering    0.982837   14.688953  Topic12  -6.0635   1.3247\n",
       "534      industry    1.032014   26.033768  Topic12  -6.0147   0.8013\n",
       "271        create    0.977600   23.448532  Topic12  -6.0688   0.8517\n",
       "69          learn    0.815056   38.349238  Topic12  -6.2507   0.1779\n",
       "\n",
       "[341 rows x 6 columns], token_table=      Topic      Freq                 Term\n",
       "term                                      \n",
       "1854      3  0.972329          120_country\n",
       "1982      5  0.115720               2_year\n",
       "1982      6  0.347161               2_year\n",
       "1982      7  0.462882               2_year\n",
       "1855      3  0.972329          3_developer\n",
       "...     ...       ...                  ...\n",
       "1578      7  0.899126                write\n",
       "4368      4  0.895700  write_authorization\n",
       "2829      2  0.977348                    ·\n",
       "1020      2  0.613743                    …\n",
       "1020     10  0.204581                    …\n",
       "\n",
       "[519 rows x 3 columns], R=15, lambda_step=0.01, plot_opts={'xlab': 'PC1', 'ylab': 'PC2'}, topic_order=[9, 8, 12, 2, 5, 11, 4, 1, 6, 7, 10, 3])"
      ]
     },
     "execution_count": 219,
     "metadata": {},
     "output_type": "execute_result"
    }
   ],
   "source": [
    "# Visualize\n",
    "pyLDAvis.enable_notebook()\n",
    "vis = pyLDAvis.gensim_models.prepare(lda_model, corpus, id2word, mds=\"mmds\", R=15)\n",
    "vis"
   ]
  }
 ],
 "metadata": {
  "kernelspec": {
   "display_name": "Python 3",
   "language": "python",
   "name": "python3"
  },
  "language_info": {
   "codemirror_mode": {
    "name": "ipython",
    "version": 3
   },
   "file_extension": ".py",
   "mimetype": "text/x-python",
   "name": "python",
   "nbconvert_exporter": "python",
   "pygments_lexer": "ipython3",
   "version": "3.8.5"
  }
 },
 "nbformat": 4,
 "nbformat_minor": 4
}
