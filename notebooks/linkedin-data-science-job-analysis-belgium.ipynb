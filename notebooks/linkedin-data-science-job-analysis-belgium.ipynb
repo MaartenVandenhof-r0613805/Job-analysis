{
 "cells": [
  {
   "cell_type": "code",
   "execution_count": 1,
   "metadata": {
    "_cell_guid": "b1076dfc-b9ad-4769-8c92-a6c4dae69d19",
    "_uuid": "8f2839f25d086af736a60e9eeb907d3b93b6e0e5",
    "execution": {
     "iopub.execute_input": "2021-08-24T14:53:53.567770Z",
     "iopub.status.busy": "2021-08-24T14:53:53.567174Z",
     "iopub.status.idle": "2021-08-24T14:53:53.578720Z",
     "shell.execute_reply": "2021-08-24T14:53:53.578169Z",
     "shell.execute_reply.started": "2021-08-24T14:53:53.567657Z"
    }
   },
   "outputs": [],
   "source": [
    "import numpy as np \n",
    "import pandas as pd \n",
    "import json\n",
    "import matplotlib.pyplot as plt\n",
    "from collections import Counter\n",
    "import gensim\n",
    "from gensim.parsing.preprocessing import remove_stopwords, STOPWORDS\n",
    "from langdetect import detect\n",
    "import string\n",
    "import simplemma\n",
    "import pyLDAvis\n",
    "import pyLDAvis.gensim_models"
   ]
  },
  {
   "cell_type": "markdown",
   "metadata": {},
   "source": [
    "### Open JSON File\n",
    "Clean json data"
   ]
  },
  {
   "cell_type": "code",
   "execution_count": 2,
   "metadata": {
    "execution": {
     "iopub.execute_input": "2021-08-24T14:53:53.580502Z",
     "iopub.status.busy": "2021-08-24T14:53:53.579943Z",
     "iopub.status.idle": "2021-08-24T14:53:53.828115Z",
     "shell.execute_reply": "2021-08-24T14:53:53.827237Z",
     "shell.execute_reply.started": "2021-08-24T14:53:53.580447Z"
    }
   },
   "outputs": [
    {
     "name": "stdout",
     "output_type": "stream",
     "text": [
      "<class 'pandas.core.frame.DataFrame'>\n",
      "Int64Index: 899 entries, 0 to 999\n",
      "Data columns (total 4 columns):\n",
      " #   Column       Non-Null Count  Dtype \n",
      "---  ------       --------------  ----- \n",
      " 0   Title        899 non-null    object\n",
      " 1   Company      899 non-null    object\n",
      " 2   Location     899 non-null    object\n",
      " 3   Description  899 non-null    object\n",
      "dtypes: object(4)\n",
      "memory usage: 35.1+ KB\n"
     ]
    }
   ],
   "source": [
    "with open('E:/Projects/Job analysis/data/Jobcards.json', \"r\") as json_file:\n",
    "    cards_js = json.load(json_file)\n",
    "    cards_df = pd.read_json(cards_js)\n",
    "# Drop null\n",
    "cards_df = cards_df.dropna()\n",
    "\n",
    "# Replace backspaces with space\n",
    "for name in cards_df.columns:\n",
    "    cards_df[name] = [a.replace(\"\\n\", \" \") for a in cards_df[name]]\n",
    "\n",
    "# Select city as Location\n",
    "cards_df[\"Location\"] = [a.split()[0].replace(\",\", \"\") for a in cards_df[\"Location\"]]\n",
    "\n",
    "# Get info DF\n",
    "cards_df.info()"
   ]
  },
  {
   "cell_type": "code",
   "execution_count": 3,
   "metadata": {
    "execution": {
     "iopub.execute_input": "2021-08-24T14:53:53.830482Z",
     "iopub.status.busy": "2021-08-24T14:53:53.830174Z",
     "iopub.status.idle": "2021-08-24T14:53:53.847851Z",
     "shell.execute_reply": "2021-08-24T14:53:53.847021Z",
     "shell.execute_reply.started": "2021-08-24T14:53:53.830455Z"
    }
   },
   "outputs": [
    {
     "data": {
      "text/html": [
       "<div>\n",
       "<style scoped>\n",
       "    .dataframe tbody tr th:only-of-type {\n",
       "        vertical-align: middle;\n",
       "    }\n",
       "\n",
       "    .dataframe tbody tr th {\n",
       "        vertical-align: top;\n",
       "    }\n",
       "\n",
       "    .dataframe thead th {\n",
       "        text-align: right;\n",
       "    }\n",
       "</style>\n",
       "<table border=\"1\" class=\"dataframe\">\n",
       "  <thead>\n",
       "    <tr style=\"text-align: right;\">\n",
       "      <th></th>\n",
       "      <th>Title</th>\n",
       "      <th>Company</th>\n",
       "      <th>Location</th>\n",
       "      <th>Description</th>\n",
       "    </tr>\n",
       "  </thead>\n",
       "  <tbody>\n",
       "    <tr>\n",
       "      <th>0</th>\n",
       "      <td>Senior Consultant in Data science ...</td>\n",
       "      <td>Sia Partners</td>\n",
       "      <td>Antwerpen</td>\n",
       "      <td>As a senior consultant in Data Science, you ...</td>\n",
       "    </tr>\n",
       "    <tr>\n",
       "      <th>1</th>\n",
       "      <td>Stage - Data Science</td>\n",
       "      <td>Argenta</td>\n",
       "      <td>Antwerpen</td>\n",
       "      <td>Functie  Klaar voor een eerste lee...</td>\n",
       "    </tr>\n",
       "    <tr>\n",
       "      <th>2</th>\n",
       "      <td>Data Science Engineer Healthcare  ...</td>\n",
       "      <td>Robovision</td>\n",
       "      <td>Gent</td>\n",
       "      <td>Geplaatst door                          ...</td>\n",
       "    </tr>\n",
       "    <tr>\n",
       "      <th>3</th>\n",
       "      <td>Data Science Software Engineer    ...</td>\n",
       "      <td>OMP</td>\n",
       "      <td>Gent</td>\n",
       "      <td>We are OMP, a game changer that op...</td>\n",
       "    </tr>\n",
       "    <tr>\n",
       "      <th>4</th>\n",
       "      <td>Junior Market Analyst (FMCG)      ...</td>\n",
       "      <td>GfK</td>\n",
       "      <td>Leuven</td>\n",
       "      <td>For over 80 years, GfK has been a ...</td>\n",
       "    </tr>\n",
       "  </tbody>\n",
       "</table>\n",
       "</div>"
      ],
      "text/plain": [
       "                                               Title  \\\n",
       "0              Senior Consultant in Data science ...   \n",
       "1                    Stage - Data Science              \n",
       "2              Data Science Engineer Healthcare  ...   \n",
       "3              Data Science Software Engineer    ...   \n",
       "4              Junior Market Analyst (FMCG)      ...   \n",
       "\n",
       "                                   Company   Location  \\\n",
       "0                Sia Partners               Antwerpen   \n",
       "1                     Argenta               Antwerpen   \n",
       "2                  Robovision                    Gent   \n",
       "3                         OMP                    Gent   \n",
       "4                         GfK                  Leuven   \n",
       "\n",
       "                                         Description  \n",
       "0    As a senior consultant in Data Science, you ...  \n",
       "1              Functie  Klaar voor een eerste lee...  \n",
       "2        Geplaatst door                          ...  \n",
       "3              We are OMP, a game changer that op...  \n",
       "4              For over 80 years, GfK has been a ...  "
      ]
     },
     "execution_count": 3,
     "metadata": {},
     "output_type": "execute_result"
    }
   ],
   "source": [
    "# Quick check for \"\\n\"\n",
    "cards_df.head()"
   ]
  },
  {
   "cell_type": "markdown",
   "metadata": {},
   "source": [
    "### Prepare data for NLP"
   ]
  },
  {
   "cell_type": "code",
   "execution_count": 4,
   "metadata": {},
   "outputs": [
    {
     "data": {
      "text/html": [
       "<div>\n",
       "<style scoped>\n",
       "    .dataframe tbody tr th:only-of-type {\n",
       "        vertical-align: middle;\n",
       "    }\n",
       "\n",
       "    .dataframe tbody tr th {\n",
       "        vertical-align: top;\n",
       "    }\n",
       "\n",
       "    .dataframe thead th {\n",
       "        text-align: right;\n",
       "    }\n",
       "</style>\n",
       "<table border=\"1\" class=\"dataframe\">\n",
       "  <thead>\n",
       "    <tr style=\"text-align: right;\">\n",
       "      <th></th>\n",
       "      <th>Title</th>\n",
       "      <th>Company</th>\n",
       "      <th>Location</th>\n",
       "      <th>Description</th>\n",
       "      <th>Language</th>\n",
       "    </tr>\n",
       "  </thead>\n",
       "  <tbody>\n",
       "    <tr>\n",
       "      <th>0</th>\n",
       "      <td>Senior Consultant in Data science ...</td>\n",
       "      <td>Sia Partners</td>\n",
       "      <td>Antwerpen</td>\n",
       "      <td>as a senior consultant in data science, you ...</td>\n",
       "      <td>en</td>\n",
       "    </tr>\n",
       "    <tr>\n",
       "      <th>1</th>\n",
       "      <td>Stage - Data Science</td>\n",
       "      <td>Argenta</td>\n",
       "      <td>Antwerpen</td>\n",
       "      <td>functie  klaar voor een eerste lee...</td>\n",
       "      <td>nl</td>\n",
       "    </tr>\n",
       "    <tr>\n",
       "      <th>2</th>\n",
       "      <td>Data Science Engineer Healthcare  ...</td>\n",
       "      <td>Robovision</td>\n",
       "      <td>Gent</td>\n",
       "      <td>geplaatst door                          ...</td>\n",
       "      <td>en</td>\n",
       "    </tr>\n",
       "    <tr>\n",
       "      <th>3</th>\n",
       "      <td>Data Science Software Engineer    ...</td>\n",
       "      <td>OMP</td>\n",
       "      <td>Gent</td>\n",
       "      <td>we are omp, a game changer that op...</td>\n",
       "      <td>en</td>\n",
       "    </tr>\n",
       "    <tr>\n",
       "      <th>4</th>\n",
       "      <td>Junior Market Analyst (FMCG)      ...</td>\n",
       "      <td>GfK</td>\n",
       "      <td>Leuven</td>\n",
       "      <td>for over 80 years, gfk has been a ...</td>\n",
       "      <td>en</td>\n",
       "    </tr>\n",
       "    <tr>\n",
       "      <th>...</th>\n",
       "      <td>...</td>\n",
       "      <td>...</td>\n",
       "      <td>...</td>\n",
       "      <td>...</td>\n",
       "      <td>...</td>\n",
       "    </tr>\n",
       "    <tr>\n",
       "      <th>995</th>\n",
       "      <td>Finance Enterprise Partner</td>\n",
       "      <td>Roche</td>\n",
       "      <td>Brussel</td>\n",
       "      <td>a finance enterprise partner (fep) leverages...</td>\n",
       "      <td>en</td>\n",
       "    </tr>\n",
       "    <tr>\n",
       "      <th>996</th>\n",
       "      <td>(Senior) Clinical Data Manager (CD...</td>\n",
       "      <td>SGS</td>\n",
       "      <td>Mechelen</td>\n",
       "      <td>company description  at sgs, you can choose....</td>\n",
       "      <td>en</td>\n",
       "    </tr>\n",
       "    <tr>\n",
       "      <th>997</th>\n",
       "      <td>Senior Clinical Project Management...</td>\n",
       "      <td>IQVIA</td>\n",
       "      <td>Antwerpen</td>\n",
       "      <td>job overview  senior clinical project manage...</td>\n",
       "      <td>en</td>\n",
       "    </tr>\n",
       "    <tr>\n",
       "      <th>998</th>\n",
       "      <td>Sales Manager Hospital Belux      ...</td>\n",
       "      <td>IQVIA</td>\n",
       "      <td>Zaventem</td>\n",
       "      <td>hospital channel  build relationsh...</td>\n",
       "      <td>en</td>\n",
       "    </tr>\n",
       "    <tr>\n",
       "      <th>999</th>\n",
       "      <td>Associate Director, Project Delive...</td>\n",
       "      <td>IQVIA</td>\n",
       "      <td>Zaventem</td>\n",
       "      <td>associate director, provider &amp; sit...</td>\n",
       "      <td>en</td>\n",
       "    </tr>\n",
       "  </tbody>\n",
       "</table>\n",
       "<p>899 rows × 5 columns</p>\n",
       "</div>"
      ],
      "text/plain": [
       "                                                 Title  \\\n",
       "0                Senior Consultant in Data science ...   \n",
       "1                      Stage - Data Science              \n",
       "2                Data Science Engineer Healthcare  ...   \n",
       "3                Data Science Software Engineer    ...   \n",
       "4                Junior Market Analyst (FMCG)      ...   \n",
       "..                                                 ...   \n",
       "995              Finance Enterprise Partner              \n",
       "996              (Senior) Clinical Data Manager (CD...   \n",
       "997              Senior Clinical Project Management...   \n",
       "998              Sales Manager Hospital Belux      ...   \n",
       "999              Associate Director, Project Delive...   \n",
       "\n",
       "                                     Company   Location  \\\n",
       "0                  Sia Partners               Antwerpen   \n",
       "1                       Argenta               Antwerpen   \n",
       "2                    Robovision                    Gent   \n",
       "3                           OMP                    Gent   \n",
       "4                           GfK                  Leuven   \n",
       "..                                       ...        ...   \n",
       "995                       Roche                 Brussel   \n",
       "996                         SGS                Mechelen   \n",
       "997                       IQVIA               Antwerpen   \n",
       "998                       IQVIA                Zaventem   \n",
       "999                       IQVIA                Zaventem   \n",
       "\n",
       "                                           Description Language  \n",
       "0      as a senior consultant in data science, you ...       en  \n",
       "1                functie  klaar voor een eerste lee...       nl  \n",
       "2          geplaatst door                          ...       en  \n",
       "3                we are omp, a game changer that op...       en  \n",
       "4                for over 80 years, gfk has been a ...       en  \n",
       "..                                                 ...      ...  \n",
       "995    a finance enterprise partner (fep) leverages...       en  \n",
       "996    company description  at sgs, you can choose....       en  \n",
       "997    job overview  senior clinical project manage...       en  \n",
       "998              hospital channel  build relationsh...       en  \n",
       "999              associate director, provider & sit...       en  \n",
       "\n",
       "[899 rows x 5 columns]"
      ]
     },
     "execution_count": 4,
     "metadata": {},
     "output_type": "execute_result"
    }
   ],
   "source": [
    "# Add language and set description to lowercase\n",
    "cards_df[\"Language\"] = [detect(a) for a in cards_df[\"Description\"]]\n",
    "cards_df[\"Description\"] = [a.lower() for a in cards_df[\"Description\"]]\n",
    "cards_df"
   ]
  },
  {
   "cell_type": "code",
   "execution_count": 5,
   "metadata": {},
   "outputs": [],
   "source": [
    "# Create stopword lists\n",
    "# Dutch Stop words\n",
    "sw_nl = [\"aan\",\"aangaande\",\"aangezien\",\"achte\",\"achter\",\"achterna\",\"af\",\"afgelopen\",\"al\",\"aldaar\",\"aldus\",\"alhoewel\",\"alias\",\"alle\",\"allebei\",\"alleen\",\"alles\",\"als\",\"alsnog\",\"altijd\",\"altoos\",\"ander\",\"andere\",\"anders\",\"anderszins\",\"beetje\",\"behalve\",\"behoudens\",\"beide\",\"beiden\",\"ben\",\"beneden\",\"bent\",\"bepaald\",\"betreffende\",\"bij\",\"bijna\",\"bijv\",\"binnen\",\"binnenin\",\"blijkbaar\",\"blijken\",\"boven\",\"bovenal\",\"bovendien\",\"bovengenoemd\",\"bovenstaand\",\"bovenvermeld\",\"buiten\",\"bv\",\"daar\",\"daardoor\",\"daarheen\",\"daarin\",\"daarna\",\"daarnet\",\"daarom\",\"daarop\",\"daaruit\",\"daarvanlangs\",\"dan\",\"dat\",\"de\",\"deden\",\"deed\",\"der\",\"derde\",\"derhalve\",\"dertig\",\"deze\",\"dhr\",\"die\",\"dikwijls\",\"dit\",\"doch\",\"doe\",\"doen\",\"doet\",\"door\",\"doorgaand\",\"drie\",\"duizend\",\"dus\",\"echter\",\"een\",\"eens\",\"eer\",\"eerdat\",\"eerder\",\"eerlang\",\"eerst\",\"eerste\",\"eigen\",\"eigenlijk\",\"elk\",\"elke\",\"en\",\"enig\",\"enige\",\"enigszins\",\"enkel\",\"er\",\"erdoor\",\"erg\",\"ergens\",\"etc\",\"etcetera\",\"even\",\"eveneens\",\"evenwel\",\"gauw\",\"ge\",\"gedurende\",\"geen\",\"gehad\",\"gekund\",\"geleden\",\"gelijk\",\"gemoeten\",\"gemogen\",\"genoeg\",\"geweest\",\"gewoon\",\"gewoonweg\",\"haar\",\"haarzelf\",\"had\",\"hadden\",\"hare\",\"heb\",\"hebben\",\"hebt\",\"hedden\",\"heeft\",\"heel\",\"hem\",\"hemzelf\",\"hen\",\"het\",\"hetzelfde\",\"hier\",\"hierbeneden\",\"hierboven\",\"hierin\",\"hierna\",\"hierom\",\"hij\",\"hijzelf\",\"hoe\",\"hoewel\",\"honderd\",\"hun\",\"hunne\",\"ieder\",\"iedere\",\"iedereen\",\"iemand\",\"iets\",\"ik\",\"ikzelf\",\"in\",\"inderdaad\",\"inmiddels\",\"intussen\",\"inzake\",\"is\",\"ja\",\"je\",\"jezelf\",\"jij\",\"jijzelf\",\"jou\",\"jouw\",\"jouwe\",\"juist\",\"jullie\",\"kan\",\"klaar\",\"kon\",\"konden\",\"krachtens\",\"kun\",\"kunnen\",\"kunt\",\"laatst\",\"later\",\"liever\",\"lijken\",\"lijkt\",\"maak\",\"maakt\",\"maakte\",\"maakten\",\"maar\",\"mag\",\"maken\",\"me\",\"meer\",\"meest\",\"meestal\",\"men\",\"met\",\"mevr\",\"mezelf\",\"mij\",\"mijn\",\"mijnent\",\"mijner\",\"mijzelf\",\"minder\",\"miss\",\"misschien\",\"missen\",\"mits\",\"mocht\",\"mochten\",\"moest\",\"moesten\",\"moet\",\"moeten\",\"mogen\",\"mr\",\"mrs\",\"mw\",\"na\",\"naar\",\"nadat\",\"nam\",\"namelijk\",\"nee\",\"neem\",\"negen\",\"nemen\",\"nergens\",\"net\",\"niemand\",\"niet\",\"niets\",\"niks\",\"noch\",\"nochtans\",\"nog\",\"nogal\",\"nooit\",\"nu\",\"nv\",\"of\",\"ofschoon\",\"om\",\"omdat\",\"omhoog\",\"omlaag\",\"omstreeks\",\"omtrent\",\"omver\",\"ondanks\",\"onder\",\"ondertussen\",\"ongeveer\",\"ons\",\"onszelf\",\"onze\",\"onzeker\",\"ooit\",\"ook\",\"op\",\"opnieuw\",\"opzij\",\"over\",\"overal\",\"overeind\",\"overige\",\"overigens\",\"paar\",\"pas\",\"per\",\"precies\",\"recent\",\"redelijk\",\"reeds\",\"rond\",\"rondom\",\"samen\",\"sedert\",\"sinds\",\"sindsdien\",\"slechts\",\"sommige\",\"spoedig\",\"steeds\",\"tamelijk\",\"te\",\"tegen\",\"tegenover\",\"tenzij\",\"terwijl\",\"thans\",\"tien\",\"tiende\",\"tijdens\",\"tja\",\"toch\",\"toe\",\"toen\",\"toenmaals\",\"toenmalig\",\"tot\",\"totdat\",\"tussen\",\"twee\",\"tweede\",\"u\",\"uit\",\"uitgezonderd\",\"uw\",\"vaak\",\"vaakwat\",\"van\",\"vanaf\",\"vandaan\",\"vanuit\",\"vanwege\",\"veel\",\"veeleer\",\"veertig\",\"verder\",\"verscheidene\",\"verschillende\",\"vervolgens\",\"via\",\"vier\",\"vierde\",\"vijf\",\"vijfde\",\"vijftig\",\"vol\",\"volgend\",\"volgens\",\"voor\",\"vooraf\",\"vooral\",\"vooralsnog\",\"voorbij\",\"voordat\",\"voordezen\",\"voordien\",\"voorheen\",\"voorop\",\"voorts\",\"vooruit\",\"vrij\",\"vroeg\",\"waar\",\"waarom\",\"waarschijnlijk\",\"wanneer\",\"want\",\"waren\",\"was\",\"wat\",\"we\",\"wederom\",\"weer\",\"weg\",\"wegens\",\"weinig\",\"wel\",\"weldra\",\"welk\",\"welke\",\"werd\",\"werden\",\"werder\",\"wezen\",\"whatever\",\"wie\",\"wiens\",\"wier\",\"wij\",\"wijzelf\",\"wil\",\"wilden\",\"willen\",\"word\",\"worden\",\"wordt\",\"zal\",\"ze\",\"zei\",\"zeker\",\"zelf\",\"zelfde\",\"zelfs\",\"zes\",\"zeven\",\"zich\",\"zichzelf\",\"zij\",\"zijn\",\"zijne\",\"zijzelf\",\"zo\",\"zoals\",\"zodat\",\"zodra\",\"zonder\",\"zou\",\"zouden\",\"zowat\",\"zulk\",\"zulke\",\"zullen\",\"zult\"]\n",
    "\n",
    "# English stop words\n",
    "sw_en = list(STOPWORDS) + [\"science\", \"data\", \"apply\", \"job\", \"datum\", \"year\", \"join\"]\n",
    "\n",
    "# French stop words\n",
    "sw_fr = [\"a\",\"abord\",\"absolument\",\"afin\",\"ah\",\"ai\",\"aie\",\"aient\",\"aies\",\"ailleurs\",\"ainsi\",\"ait\",\"allaient\",\"allo\",\"allons\",\"allô\",\"alors\",\"anterieur\",\"anterieure\",\"anterieures\",\"apres\",\"après\",\"as\",\"assez\",\"attendu\",\"au\",\"aucun\",\"aucune\",\"aucuns\",\"aujourd\",\"aujourd'hui\",\"aupres\",\"auquel\",\"aura\",\"aurai\",\"auraient\",\"aurais\",\"aurait\",\"auras\",\"aurez\",\"auriez\",\"aurions\",\"aurons\",\"auront\",\"aussi\",\"autant\",\"autre\",\"autrefois\",\"autrement\",\"autres\",\"autrui\",\"aux\",\"auxquelles\",\"auxquels\",\"avaient\",\"avais\",\"avait\",\"avant\",\"avec\",\"avez\",\"aviez\",\"avions\",\"avoir\",\"avons\",\"ayant\",\"ayez\",\"ayons\",\"b\",\"bah\",\"bas\",\"basee\",\"bat\",\"beau\",\"beaucoup\",\"bien\",\"bigre\",\"bon\",\"boum\",\"bravo\",\"brrr\",\"c\",\"car\",\"ce\",\"ceci\",\"cela\",\"celle\",\"celle-ci\",\"celle-là\",\"celles\",\"celles-ci\",\"celles-là\",\"celui\",\"celui-ci\",\"celui-là\",\"celà\",\"cent\",\"cependant\",\"certain\",\"certaine\",\"certaines\",\"certains\",\"certes\",\"ces\",\"cet\",\"cette\",\"ceux\",\"ceux-ci\",\"ceux-là\",\"chacun\",\"chacune\",\"chaque\",\"cher\",\"chers\",\"chez\",\"chiche\",\"chut\",\"chère\",\"chères\",\"ci\",\"cinq\",\"cinquantaine\",\"cinquante\",\"cinquantième\",\"cinquième\",\"clac\",\"clic\",\"combien\",\"comme\",\"comment\",\"comparable\",\"comparables\",\"compris\",\"concernant\",\"contre\",\"couic\",\"crac\",\"d\",\"da\",\"dans\",\"de\",\"debout\",\"dedans\",\"dehors\",\"deja\",\"delà\",\"depuis\",\"dernier\",\"derniere\",\"derriere\",\"derrière\",\"des\",\"desormais\",\"desquelles\",\"desquels\",\"dessous\",\"dessus\",\"deux\",\"deuxième\",\"deuxièmement\",\"devant\",\"devers\",\"devra\",\"devrait\",\"different\",\"differentes\",\"differents\",\"différent\",\"différente\",\"différentes\",\"différents\",\"dire\",\"directe\",\"directement\",\"dit\",\"dite\",\"dits\",\"divers\",\"diverse\",\"diverses\",\"dix\",\"dix-huit\",\"dix-neuf\",\"dix-sept\",\"dixième\",\"doit\",\"doivent\",\"donc\",\"dont\",\"dos\",\"douze\",\"douzième\",\"dring\",\"droite\",\"du\",\"duquel\",\"durant\",\"dès\",\"début\",\"désormais\",\"e\",\"effet\",\"egale\",\"egalement\",\"egales\",\"eh\",\"elle\",\"elle-même\",\"elles\",\"elles-mêmes\",\"en\",\"encore\",\"enfin\",\"entre\",\"envers\",\"environ\",\"es\",\"essai\",\"est\",\"et\",\"etant\",\"etc\",\"etre\",\"eu\",\"eue\",\"eues\",\"euh\",\"eurent\",\"eus\",\"eusse\",\"eussent\",\"eusses\",\"eussiez\",\"eussions\",\"eut\",\"eux\",\"eux-mêmes\",\"exactement\",\"excepté\",\"extenso\",\"exterieur\",\"eûmes\",\"eût\",\"eûtes\",\"f\",\"fais\",\"faisaient\",\"faisant\",\"fait\",\"faites\",\"façon\",\"feront\",\"fi\",\"flac\",\"floc\",\"fois\",\"font\",\"force\",\"furent\",\"fus\",\"fusse\",\"fussent\",\"fusses\",\"fussiez\",\"fussions\",\"fut\",\"fûmes\",\"fût\",\"fûtes\",\"g\",\"gens\",\"h\",\"ha\",\"haut\",\"hein\",\"hem\",\"hep\",\"hi\",\"ho\",\"holà\",\"hop\",\"hormis\",\"hors\",\"hou\",\"houp\",\"hue\",\"hui\",\"huit\",\"huitième\",\"hum\",\"hurrah\",\"hé\",\"hélas\",\"i\",\"ici\",\"il\",\"ils\",\"importe\",\"j\",\"je\",\"jusqu\",\"jusque\",\"juste\",\"k\",\"l\",\"la\",\"laisser\",\"laquelle\",\"las\",\"le\",\"lequel\",\"les\",\"lesquelles\",\"lesquels\",\"leur\",\"leurs\",\"longtemps\",\"lors\",\"lorsque\",\"lui\",\"lui-meme\",\"lui-même\",\"là\",\"lès\",\"m\",\"ma\",\"maint\",\"maintenant\",\"mais\",\"malgre\",\"malgré\",\"maximale\",\"me\",\"meme\",\"memes\",\"merci\",\"mes\",\"mien\",\"mienne\",\"miennes\",\"miens\",\"mille\",\"mince\",\"mine\",\"minimale\",\"moi\",\"moi-meme\",\"moi-même\",\"moindres\",\"moins\",\"mon\",\"mot\",\"moyennant\",\"multiple\",\"multiples\",\"même\",\"mêmes\",\"n\",\"na\",\"naturel\",\"naturelle\",\"naturelles\",\"ne\",\"neanmoins\",\"necessaire\",\"necessairement\",\"neuf\",\"neuvième\",\"ni\",\"nombreuses\",\"nombreux\",\"nommés\",\"non\",\"nos\",\"notamment\",\"notre\",\"nous\",\"nous-mêmes\",\"nouveau\",\"nouveaux\",\"nul\",\"néanmoins\",\"nôtre\",\"nôtres\",\"o\",\"oh\",\"ohé\",\"ollé\",\"olé\",\"on\",\"ont\",\"onze\",\"onzième\",\"ore\",\"ou\",\"ouf\",\"ouias\",\"oust\",\"ouste\",\"outre\",\"ouvert\",\"ouverte\",\"ouverts\",\"o|\",\"où\",\"p\",\"paf\",\"pan\",\"par\",\"parce\",\"parfois\",\"parle\",\"parlent\",\"parler\",\"parmi\",\"parole\",\"parseme\",\"partant\",\"particulier\",\"particulière\",\"particulièrement\",\"pas\",\"passé\",\"pendant\",\"pense\",\"permet\",\"personne\",\"personnes\",\"peu\",\"peut\",\"peuvent\",\"peux\",\"pff\",\"pfft\",\"pfut\",\"pif\",\"pire\",\"pièce\",\"plein\",\"plouf\",\"plupart\",\"plus\",\"plusieurs\",\"plutôt\",\"possessif\",\"possessifs\",\"possible\",\"possibles\",\"pouah\",\"pour\",\"pourquoi\",\"pourrais\",\"pourrait\",\"pouvait\",\"prealable\",\"precisement\",\"premier\",\"première\",\"premièrement\",\"pres\",\"probable\",\"probante\",\"procedant\",\"proche\",\"près\",\"psitt\",\"pu\",\"puis\",\"puisque\",\"pur\",\"pure\",\"q\",\"qu\",\"quand\",\"quant\",\"quant-à-soi\",\"quanta\",\"quarante\",\"quatorze\",\"quatre\",\"quatre-vingt\",\"quatrième\",\"quatrièmement\",\"que\",\"quel\",\"quelconque\",\"quelle\",\"quelles\",\"quelqu'un\",\"quelque\",\"quelques\",\"quels\",\"qui\",\"quiconque\",\"quinze\",\"quoi\",\"quoique\",\"r\",\"rare\",\"rarement\",\"rares\",\"relative\",\"relativement\",\"remarquable\",\"rend\",\"rendre\",\"restant\",\"reste\",\"restent\",\"restrictif\",\"retour\",\"revoici\",\"revoilà\",\"rien\",\"s\",\"sa\",\"sacrebleu\",\"sait\",\"sans\",\"sapristi\",\"sauf\",\"se\",\"sein\",\"seize\",\"selon\",\"semblable\",\"semblaient\",\"semble\",\"semblent\",\"sent\",\"sept\",\"septième\",\"sera\",\"serai\",\"seraient\",\"serais\",\"serait\",\"seras\",\"serez\",\"seriez\",\"serions\",\"serons\",\"seront\",\"ses\",\"seul\",\"seule\",\"seulement\",\"si\",\"sien\",\"sienne\",\"siennes\",\"siens\",\"sinon\",\"six\",\"sixième\",\"soi\",\"soi-même\",\"soient\",\"sois\",\"soit\",\"soixante\",\"sommes\",\"son\",\"sont\",\"sous\",\"souvent\",\"soyez\",\"soyons\",\"specifique\",\"specifiques\",\"speculatif\",\"stop\",\"strictement\",\"subtiles\",\"suffisant\",\"suffisante\",\"suffit\",\"suis\",\"suit\",\"suivant\",\"suivante\",\"suivantes\",\"suivants\",\"suivre\",\"sujet\",\"superpose\",\"sur\",\"surtout\",\"t\",\"ta\",\"tac\",\"tandis\",\"tant\",\"tardive\",\"te\",\"tel\",\"telle\",\"tellement\",\"telles\",\"tels\",\"tenant\",\"tend\",\"tenir\",\"tente\",\"tes\",\"tic\",\"tien\",\"tienne\",\"tiennes\",\"tiens\",\"toc\",\"toi\",\"toi-même\",\"ton\",\"touchant\",\"toujours\",\"tous\",\"tout\",\"toute\",\"toutefois\",\"toutes\",\"treize\",\"trente\",\"tres\",\"trois\",\"troisième\",\"troisièmement\",\"trop\",\"très\",\"tsoin\",\"tsouin\",\"tu\",\"té\",\"u\",\"un\",\"une\",\"unes\",\"uniformement\",\"unique\",\"uniques\",\"uns\",\"v\",\"va\",\"vais\",\"valeur\",\"vas\",\"vers\",\"via\",\"vif\",\"vifs\",\"vingt\",\"vivat\",\"vive\",\"vives\",\"vlan\",\"voici\",\"voie\",\"voient\",\"voilà\",\"voire\",\"vont\",\"vos\",\"votre\",\"vous\",\"vous-mêmes\",\"vu\",\"vé\",\"vôtre\",\"vôtres\",\"w\",\"x\",\"y\",\"z\",\"zut\",\"à\",\"â\",\"ça\",\"ès\",\"étaient\",\"étais\",\"était\",\"étant\",\"état\",\"étiez\",\"étions\",\"été\",\"étée\",\"étées\",\"étés\",\"êtes\",\"être\",\"ô\"]"
   ]
  },
  {
   "cell_type": "code",
   "execution_count": 6,
   "metadata": {},
   "outputs": [],
   "source": [
    "# Create functions for nlp Data Cleaning\n",
    "\n",
    "# Remove punctuations\n",
    "def remove_punc(text):\n",
    "    cleaned_list = [word for word in text if word not in string.punctuation]\n",
    "    return \"\".join(cleaned_list)\n",
    "   \n",
    "# Remove stopwords\n",
    "def remove_stopwords(word_list, lang):\n",
    "    stopwords = sw_en\n",
    "    if lang == \"nl\":\n",
    "        stopwords = sw_nl\n",
    "    if lang == \"fr\":\n",
    "        stopwords = sw_fr\n",
    "    return [word for word in word_list if word not in stopwords]\n",
    "\n",
    "# Lemmatize\n",
    "def lemmatize(word_list, lang):\n",
    "    langdata = simplemma.load_data(lang)\n",
    "    return [simplemma.lemmatize(word, langdata) for word in word_list]"
   ]
  },
  {
   "cell_type": "code",
   "execution_count": 7,
   "metadata": {},
   "outputs": [],
   "source": [
    "# Clean descriptions\n",
    "cards_df[\"Description\"] = [remove_punc(desc) for desc in cards_df[\"Description\"]]\n",
    "cards_df[\"nlp_desc\"] = [remove_stopwords(desc.split(), lang) for (desc, lang) \n",
    "                        in zip(cards_df[\"Description\"], cards_df[\"Language\"])]\n",
    "cards_df[\"nlp_desc\"] = [lemmatize(nlp_desc, lang) for (nlp_desc, lang) \n",
    "                        in zip(cards_df[\"nlp_desc\"], cards_df[\"Language\"])]"
   ]
  },
  {
   "cell_type": "code",
   "execution_count": 8,
   "metadata": {},
   "outputs": [
    {
     "data": {
      "text/html": [
       "<div>\n",
       "<style scoped>\n",
       "    .dataframe tbody tr th:only-of-type {\n",
       "        vertical-align: middle;\n",
       "    }\n",
       "\n",
       "    .dataframe tbody tr th {\n",
       "        vertical-align: top;\n",
       "    }\n",
       "\n",
       "    .dataframe thead th {\n",
       "        text-align: right;\n",
       "    }\n",
       "</style>\n",
       "<table border=\"1\" class=\"dataframe\">\n",
       "  <thead>\n",
       "    <tr style=\"text-align: right;\">\n",
       "      <th></th>\n",
       "      <th>Title</th>\n",
       "      <th>Company</th>\n",
       "      <th>Location</th>\n",
       "      <th>Description</th>\n",
       "      <th>Language</th>\n",
       "      <th>nlp_desc</th>\n",
       "    </tr>\n",
       "  </thead>\n",
       "  <tbody>\n",
       "    <tr>\n",
       "      <th>0</th>\n",
       "      <td>Senior Consultant in Data science ...</td>\n",
       "      <td>Sia Partners</td>\n",
       "      <td>Antwerpen</td>\n",
       "      <td>as a senior consultant in data science you w...</td>\n",
       "      <td>en</td>\n",
       "      <td>[senior, consultant, involve, transformation, ...</td>\n",
       "    </tr>\n",
       "    <tr>\n",
       "      <th>1</th>\n",
       "      <td>Stage - Data Science</td>\n",
       "      <td>Argenta</td>\n",
       "      <td>Antwerpen</td>\n",
       "      <td>functie  klaar voor een eerste lee...</td>\n",
       "      <td>nl</td>\n",
       "      <td>[functie, leerrijk, werkervaring, dynamisch, o...</td>\n",
       "    </tr>\n",
       "    <tr>\n",
       "      <th>2</th>\n",
       "      <td>Data Science Engineer Healthcare  ...</td>\n",
       "      <td>Robovision</td>\n",
       "      <td>Gent</td>\n",
       "      <td>geplaatst door                          ...</td>\n",
       "      <td>en</td>\n",
       "      <td>[geplaatst, door, willem, r, market, robovisio...</td>\n",
       "    </tr>\n",
       "    <tr>\n",
       "      <th>3</th>\n",
       "      <td>Data Science Software Engineer    ...</td>\n",
       "      <td>OMP</td>\n",
       "      <td>Gent</td>\n",
       "      <td>we are omp a game changer that opt...</td>\n",
       "      <td>en</td>\n",
       "      <td>[omp, game, changer, optimize, supply, chain, ...</td>\n",
       "    </tr>\n",
       "    <tr>\n",
       "      <th>4</th>\n",
       "      <td>Junior Market Analyst (FMCG)      ...</td>\n",
       "      <td>GfK</td>\n",
       "      <td>Leuven</td>\n",
       "      <td>for over 80 years gfk has been a r...</td>\n",
       "      <td>en</td>\n",
       "      <td>[80, year, gfk, reliable, trust, insight, part...</td>\n",
       "    </tr>\n",
       "  </tbody>\n",
       "</table>\n",
       "</div>"
      ],
      "text/plain": [
       "                                               Title  \\\n",
       "0              Senior Consultant in Data science ...   \n",
       "1                    Stage - Data Science              \n",
       "2              Data Science Engineer Healthcare  ...   \n",
       "3              Data Science Software Engineer    ...   \n",
       "4              Junior Market Analyst (FMCG)      ...   \n",
       "\n",
       "                                   Company   Location  \\\n",
       "0                Sia Partners               Antwerpen   \n",
       "1                     Argenta               Antwerpen   \n",
       "2                  Robovision                    Gent   \n",
       "3                         OMP                    Gent   \n",
       "4                         GfK                  Leuven   \n",
       "\n",
       "                                         Description Language  \\\n",
       "0    as a senior consultant in data science you w...       en   \n",
       "1              functie  klaar voor een eerste lee...       nl   \n",
       "2        geplaatst door                          ...       en   \n",
       "3              we are omp a game changer that opt...       en   \n",
       "4              for over 80 years gfk has been a r...       en   \n",
       "\n",
       "                                            nlp_desc  \n",
       "0  [senior, consultant, involve, transformation, ...  \n",
       "1  [functie, leerrijk, werkervaring, dynamisch, o...  \n",
       "2  [geplaatst, door, willem, r, market, robovisio...  \n",
       "3  [omp, game, changer, optimize, supply, chain, ...  \n",
       "4  [80, year, gfk, reliable, trust, insight, part...  "
      ]
     },
     "execution_count": 8,
     "metadata": {},
     "output_type": "execute_result"
    }
   ],
   "source": [
    "cards_df.head()"
   ]
  },
  {
   "cell_type": "code",
   "execution_count": 46,
   "metadata": {},
   "outputs": [],
   "source": [
    "# Create bigrams (ex: \"machine\", \"learning\" -> \"machine_learning\")\n",
    "bigram_phrases = gensim.models.Phrases(cards_df[\"nlp_desc\"], min_count = 10, threshold = 50)\n",
    "cards_df[\"nlp_desc_bi\"] = [bigram_phrases[doc] for doc in cards_df[\"nlp_desc\"]]"
   ]
  },
  {
   "cell_type": "code",
   "execution_count": 47,
   "metadata": {},
   "outputs": [],
   "source": [
    "# Add column with all unique word tokens for each description with bigrams\n",
    "cards_df[\"nlp_desc_unique\"] = [set(nlp_desc) for nlp_desc in cards_df[\"nlp_desc_bi\"]]"
   ]
  },
  {
   "cell_type": "code",
   "execution_count": 48,
   "metadata": {},
   "outputs": [
    {
     "data": {
      "text/plain": [
       "['corporate',\n",
       " 'remuneration',\n",
       " 'equip',\n",
       " 'transformation',\n",
       " '6',\n",
       " 'place',\n",
       " 'eat',\n",
       " 'econometrics',\n",
       " 'large',\n",
       " 'implementation',\n",
       " 'return',\n",
       " 'yourselfa',\n",
       " 'decision_make',\n",
       " 'civil',\n",
       " 'internal',\n",
       " 'business',\n",
       " 'learn',\n",
       " 'international',\n",
       " 'diversity_inclusion',\n",
       " 'activity']"
      ]
     },
     "execution_count": 48,
     "metadata": {},
     "output_type": "execute_result"
    }
   ],
   "source": [
    "list(cards_df[\"nlp_desc_unique\"][0])[0:20]"
   ]
  },
  {
   "cell_type": "markdown",
   "metadata": {},
   "source": [
    "### Add Experience Level"
   ]
  },
  {
   "cell_type": "code",
   "execution_count": 60,
   "metadata": {},
   "outputs": [],
   "source": [
    "# Create function to detect level\n",
    "def returnLevel(title):\n",
    "    if \"junior\" in title:\n",
    "        return \"junior\"\n",
    "    if \"senior\" in title:\n",
    "        return \"senior\"\n",
    "    if \"stage\" in title or \"internship\" in title:\n",
    "        return \"intern\"\n",
    "    \n",
    "    # We assume that, when the level is not specified, medior most likely to be the desired experience level\n",
    "    return \"medior\""
   ]
  },
  {
   "cell_type": "code",
   "execution_count": 13,
   "metadata": {},
   "outputs": [
    {
     "data": {
      "text/html": [
       "<div>\n",
       "<style scoped>\n",
       "    .dataframe tbody tr th:only-of-type {\n",
       "        vertical-align: middle;\n",
       "    }\n",
       "\n",
       "    .dataframe tbody tr th {\n",
       "        vertical-align: top;\n",
       "    }\n",
       "\n",
       "    .dataframe thead th {\n",
       "        text-align: right;\n",
       "    }\n",
       "</style>\n",
       "<table border=\"1\" class=\"dataframe\">\n",
       "  <thead>\n",
       "    <tr style=\"text-align: right;\">\n",
       "      <th></th>\n",
       "      <th>Title</th>\n",
       "      <th>Experience</th>\n",
       "    </tr>\n",
       "  </thead>\n",
       "  <tbody>\n",
       "    <tr>\n",
       "      <th>0</th>\n",
       "      <td>senior consultant in data science ...</td>\n",
       "      <td>senior</td>\n",
       "    </tr>\n",
       "    <tr>\n",
       "      <th>1</th>\n",
       "      <td>stage - data science</td>\n",
       "      <td>intern</td>\n",
       "    </tr>\n",
       "    <tr>\n",
       "      <th>2</th>\n",
       "      <td>data science engineer healthcare  ...</td>\n",
       "      <td>medior</td>\n",
       "    </tr>\n",
       "    <tr>\n",
       "      <th>3</th>\n",
       "      <td>data science software engineer    ...</td>\n",
       "      <td>medior</td>\n",
       "    </tr>\n",
       "    <tr>\n",
       "      <th>4</th>\n",
       "      <td>junior market analyst (fmcg)      ...</td>\n",
       "      <td>junior</td>\n",
       "    </tr>\n",
       "  </tbody>\n",
       "</table>\n",
       "</div>"
      ],
      "text/plain": [
       "                                               Title Experience\n",
       "0              senior consultant in data science ...     senior\n",
       "1                    stage - data science                intern\n",
       "2              data science engineer healthcare  ...     medior\n",
       "3              data science software engineer    ...     medior\n",
       "4              junior market analyst (fmcg)      ...     junior"
      ]
     },
     "execution_count": 13,
     "metadata": {},
     "output_type": "execute_result"
    }
   ],
   "source": [
    "# Titles to lowercase\n",
    "cards_df[\"Title\"] = [title.lower() for title in cards_df[\"Title\"]]\n",
    "cards_df[\"Experience\"] = [returnLevel(title) for title in cards_df[\"Title\"]]\n",
    "cards_df[[\"Title\", \"Experience\"]].head()"
   ]
  },
  {
   "cell_type": "markdown",
   "metadata": {},
   "source": [
    "### Split dataframe in Data Engineers, Scientists and Analysits"
   ]
  },
  {
   "cell_type": "code",
   "execution_count": 14,
   "metadata": {
    "execution": {
     "iopub.execute_input": "2021-08-24T14:56:42.676001Z",
     "iopub.status.busy": "2021-08-24T14:56:42.675543Z",
     "iopub.status.idle": "2021-08-24T14:56:42.686516Z",
     "shell.execute_reply": "2021-08-24T14:56:42.685633Z",
     "shell.execute_reply.started": "2021-08-24T14:56:42.675962Z"
    }
   },
   "outputs": [
    {
     "name": "stdout",
     "output_type": "stream",
     "text": [
      "Data Scientist jobs: 139, Data Engineer jobs:  205, Data Analyst jobs:  49\n"
     ]
    }
   ],
   "source": [
    "# Data Scientist\n",
    "dc_titles = [(\"scientist\" in a) | (\"science\" in a)  for a in cards_df[\"Title\"]]\n",
    "dc_cards = cards_df[dc_titles]\n",
    "\n",
    "# Data Analyst\n",
    "da_titles = [(\"analyst\" in a) for a in cards_df[\"Title\"]]\n",
    "da_cards = cards_df[da_titles]\n",
    "\n",
    "# Data engineers\n",
    "de_titles = [(\"engineer\" in a) for a in cards_df[\"Title\"]]\n",
    "de_cards = cards_df[de_titles]\n",
    "\n",
    "# Print amounts\n",
    "print(\"Data Scientist jobs: \" + str(dc_cards[\"Title\"].count()) + \", Data Engineer jobs:  \" + str(de_cards[\"Title\"].count()) + \", Data Analyst jobs:  \" + str(da_cards[\"Title\"].count()))"
   ]
  },
  {
   "cell_type": "markdown",
   "metadata": {},
   "source": [
    "## Exploratory Analysis\n",
    "### Location analysis"
   ]
  },
  {
   "cell_type": "code",
   "execution_count": 15,
   "metadata": {
    "execution": {
     "iopub.execute_input": "2021-08-24T14:56:47.944329Z",
     "iopub.status.busy": "2021-08-24T14:56:47.943828Z",
     "iopub.status.idle": "2021-08-24T14:56:48.150021Z",
     "shell.execute_reply": "2021-08-24T14:56:48.149135Z",
     "shell.execute_reply.started": "2021-08-24T14:56:47.944293Z"
    }
   },
   "outputs": [
    {
     "data": {
      "text/plain": [
       "<AxesSubplot:xlabel='Location'>"
      ]
     },
     "execution_count": 15,
     "metadata": {},
     "output_type": "execute_result"
    },
    {
     "data": {
      "image/png": "[encoded data removed]",
      "text/plain": [
       "<Figure size 576x360 with 1 Axes>"
      ]
     },
     "metadata": {
      "needs_background": "light"
     },
     "output_type": "display_data"
    }
   ],
   "source": [
    "# Data Scientist \n",
    "dc = pd.DataFrame(dc_cards.groupby([\"Location\", \"Experience\"])[\"Experience\"].count().sort_values(ascending=False))\n",
    "dc = dc.rename(columns={\"Experience\" : \"Count\"})\n",
    "dc = dc.reset_index()\n",
    "\n",
    "dc_new = dc.pivot_table(values=\"Count\", columns=\"Experience\", aggfunc=\"first\", index=\"Location\")\n",
    "dc_new.sort_values(\"medior\", ascending=False).plot(kind=\"bar\", stacked=True, figsize=(8, 5))"
   ]
  },
  {
   "cell_type": "code",
   "execution_count": 16,
   "metadata": {
    "execution": {
     "iopub.execute_input": "2021-08-24T15:02:30.526500Z",
     "iopub.status.busy": "2021-08-24T15:02:30.526152Z",
     "iopub.status.idle": "2021-08-24T15:02:30.809758Z",
     "shell.execute_reply": "2021-08-24T15:02:30.808779Z",
     "shell.execute_reply.started": "2021-08-24T15:02:30.526472Z"
    }
   },
   "outputs": [
    {
     "data": {
      "text/plain": [
       "<AxesSubplot:xlabel='Location'>"
      ]
     },
     "execution_count": 16,
     "metadata": {},
     "output_type": "execute_result"
    },
    {
     "data": {
      "image/png": "[encoded data removed]",
      "text/plain": [
       "<Figure size 936x360 with 1 Axes>"
      ]
     },
     "metadata": {
      "needs_background": "light"
     },
     "output_type": "display_data"
    }
   ],
   "source": [
    "# Data Engineer\n",
    "de = pd.DataFrame(de_cards.groupby([\"Location\", \"Experience\"])[\"Experience\"].count().sort_values(ascending=False))\n",
    "de = de.rename(columns={\"Experience\" : \"Count\"})\n",
    "de = de.reset_index()\n",
    "\n",
    "de_new = de.pivot_table(values=\"Count\", columns=\"Experience\", aggfunc=\"first\", index=\"Location\")\n",
    "de_new.sort_values(\"medior\", ascending=False).plot(kind=\"bar\", stacked=True, figsize=(13, 5))"
   ]
  },
  {
   "cell_type": "code",
   "execution_count": 17,
   "metadata": {
    "execution": {
     "iopub.execute_input": "2021-08-24T15:02:26.036358Z",
     "iopub.status.busy": "2021-08-24T15:02:26.035961Z",
     "iopub.status.idle": "2021-08-24T15:02:26.228749Z",
     "shell.execute_reply": "2021-08-24T15:02:26.227799Z",
     "shell.execute_reply.started": "2021-08-24T15:02:26.036309Z"
    }
   },
   "outputs": [
    {
     "data": {
      "text/plain": [
       "<AxesSubplot:xlabel='Location'>"
      ]
     },
     "execution_count": 17,
     "metadata": {},
     "output_type": "execute_result"
    },
    {
     "data": {
      "image/png": "[encoded data removed]",
      "text/plain": [
       "<Figure size 576x360 with 1 Axes>"
      ]
     },
     "metadata": {
      "needs_background": "light"
     },
     "output_type": "display_data"
    }
   ],
   "source": [
    "# Data Analyst \n",
    "da = pd.DataFrame(da_cards.groupby([\"Location\", \"Experience\"])[\"Experience\"].count().sort_values(ascending=False))\n",
    "da = da.rename(columns={\"Experience\" : \"Count\"})\n",
    "da = da.reset_index()\n",
    "\n",
    "da_new = da.pivot_table(values=\"Count\", columns=\"Experience\", aggfunc=\"first\", index=\"Location\")\n",
    "da_new.sort_values(\"medior\", ascending=False).plot(kind=\"bar\", stacked=True, figsize=(8, 5))"
   ]
  },
  {
   "cell_type": "markdown",
   "metadata": {},
   "source": [
    "We can see that there are no junior jobs in Data Science, only internships"
   ]
  },
  {
   "cell_type": "markdown",
   "metadata": {},
   "source": [
    "### Create dataframe for Streamlit map"
   ]
  },
  {
   "cell_type": "code",
   "execution_count": 18,
   "metadata": {},
   "outputs": [
    {
     "data": {
      "text/html": [
       "<div>\n",
       "<style scoped>\n",
       "    .dataframe tbody tr th:only-of-type {\n",
       "        vertical-align: middle;\n",
       "    }\n",
       "\n",
       "    .dataframe tbody tr th {\n",
       "        vertical-align: top;\n",
       "    }\n",
       "\n",
       "    .dataframe thead th {\n",
       "        text-align: right;\n",
       "    }\n",
       "</style>\n",
       "<table border=\"1\" class=\"dataframe\">\n",
       "  <thead>\n",
       "    <tr style=\"text-align: right;\">\n",
       "      <th></th>\n",
       "      <th>Title</th>\n",
       "      <th>Company</th>\n",
       "      <th>Location</th>\n",
       "      <th>Description</th>\n",
       "      <th>Language</th>\n",
       "      <th>nlp_desc</th>\n",
       "      <th>nlp_desc_bi</th>\n",
       "      <th>nlp_desc_unique</th>\n",
       "      <th>Experience</th>\n",
       "    </tr>\n",
       "  </thead>\n",
       "  <tbody>\n",
       "    <tr>\n",
       "      <th>0</th>\n",
       "      <td>senior consultant in data science ...</td>\n",
       "      <td>Sia Partners</td>\n",
       "      <td>Antwerpen</td>\n",
       "      <td>as a senior consultant in data science you w...</td>\n",
       "      <td>en</td>\n",
       "      <td>[senior, consultant, involve, transformation, ...</td>\n",
       "      <td>[senior, consultant, involve, transformation, ...</td>\n",
       "      <td>{corporate, remuneration, equip, transformatio...</td>\n",
       "      <td>senior</td>\n",
       "    </tr>\n",
       "  </tbody>\n",
       "</table>\n",
       "</div>"
      ],
      "text/plain": [
       "                                               Title  \\\n",
       "0              senior consultant in data science ...   \n",
       "\n",
       "                                   Company   Location  \\\n",
       "0                Sia Partners               Antwerpen   \n",
       "\n",
       "                                         Description Language  \\\n",
       "0    as a senior consultant in data science you w...       en   \n",
       "\n",
       "                                            nlp_desc  \\\n",
       "0  [senior, consultant, involve, transformation, ...   \n",
       "\n",
       "                                         nlp_desc_bi  \\\n",
       "0  [senior, consultant, involve, transformation, ...   \n",
       "\n",
       "                                     nlp_desc_unique Experience  \n",
       "0  {corporate, remuneration, equip, transformatio...     senior  "
      ]
     },
     "execution_count": 18,
     "metadata": {},
     "output_type": "execute_result"
    }
   ],
   "source": [
    "dc_cards.head(1)"
   ]
  },
  {
   "cell_type": "code",
   "execution_count": 19,
   "metadata": {},
   "outputs": [
    {
     "data": {
      "text/html": [
       "<div>\n",
       "<style scoped>\n",
       "    .dataframe tbody tr th:only-of-type {\n",
       "        vertical-align: middle;\n",
       "    }\n",
       "\n",
       "    .dataframe tbody tr th {\n",
       "        vertical-align: top;\n",
       "    }\n",
       "\n",
       "    .dataframe thead th {\n",
       "        text-align: right;\n",
       "    }\n",
       "</style>\n",
       "<table border=\"1\" class=\"dataframe\">\n",
       "  <thead>\n",
       "    <tr style=\"text-align: right;\">\n",
       "      <th></th>\n",
       "      <th>Title</th>\n",
       "      <th>city</th>\n",
       "      <th>lat</th>\n",
       "      <th>lng</th>\n",
       "      <th>country</th>\n",
       "      <th>iso2</th>\n",
       "      <th>admin_name</th>\n",
       "      <th>capital</th>\n",
       "      <th>population</th>\n",
       "      <th>population_proper</th>\n",
       "    </tr>\n",
       "  </thead>\n",
       "  <tbody>\n",
       "    <tr>\n",
       "      <th>0</th>\n",
       "      <td>23</td>\n",
       "      <td>Antwerpen</td>\n",
       "      <td>51.2206</td>\n",
       "      <td>4.4003</td>\n",
       "      <td>Belgium</td>\n",
       "      <td>BE</td>\n",
       "      <td>Flanders</td>\n",
       "      <td>minor</td>\n",
       "      <td>920000.0</td>\n",
       "      <td>459805.0</td>\n",
       "    </tr>\n",
       "    <tr>\n",
       "      <th>1</th>\n",
       "      <td>14</td>\n",
       "      <td>Gent</td>\n",
       "      <td>51.0536</td>\n",
       "      <td>3.7253</td>\n",
       "      <td>Belgium</td>\n",
       "      <td>BE</td>\n",
       "      <td>Flanders</td>\n",
       "      <td>minor</td>\n",
       "      <td>262219.0</td>\n",
       "      <td>262219.0</td>\n",
       "    </tr>\n",
       "    <tr>\n",
       "      <th>2</th>\n",
       "      <td>7</td>\n",
       "      <td>Mechelen</td>\n",
       "      <td>51.0281</td>\n",
       "      <td>4.4803</td>\n",
       "      <td>Belgium</td>\n",
       "      <td>BE</td>\n",
       "      <td>Flanders</td>\n",
       "      <td>minor</td>\n",
       "      <td>86921.0</td>\n",
       "      <td>86921.0</td>\n",
       "    </tr>\n",
       "    <tr>\n",
       "      <th>3</th>\n",
       "      <td>6</td>\n",
       "      <td>Leuven</td>\n",
       "      <td>50.8791</td>\n",
       "      <td>4.7009</td>\n",
       "      <td>Belgium</td>\n",
       "      <td>BE</td>\n",
       "      <td>Flanders</td>\n",
       "      <td>minor</td>\n",
       "      <td>NaN</td>\n",
       "      <td>NaN</td>\n",
       "    </tr>\n",
       "    <tr>\n",
       "      <th>4</th>\n",
       "      <td>4</td>\n",
       "      <td>Brussels</td>\n",
       "      <td>50.8333</td>\n",
       "      <td>4.3333</td>\n",
       "      <td>Belgium</td>\n",
       "      <td>BE</td>\n",
       "      <td>Brussels-Capital Region</td>\n",
       "      <td>primary</td>\n",
       "      <td>1743000.0</td>\n",
       "      <td>1019022.0</td>\n",
       "    </tr>\n",
       "  </tbody>\n",
       "</table>\n",
       "</div>"
      ],
      "text/plain": [
       "   Title       city      lat     lng  country iso2               admin_name  \\\n",
       "0     23  Antwerpen  51.2206  4.4003  Belgium   BE                 Flanders   \n",
       "1     14       Gent  51.0536  3.7253  Belgium   BE                 Flanders   \n",
       "2      7   Mechelen  51.0281  4.4803  Belgium   BE                 Flanders   \n",
       "3      6     Leuven  50.8791  4.7009  Belgium   BE                 Flanders   \n",
       "4      4   Brussels  50.8333  4.3333  Belgium   BE  Brussels-Capital Region   \n",
       "\n",
       "   capital  population  population_proper  \n",
       "0    minor    920000.0           459805.0  \n",
       "1    minor    262219.0           262219.0  \n",
       "2    minor     86921.0            86921.0  \n",
       "3    minor         NaN                NaN  \n",
       "4  primary   1743000.0          1019022.0  "
      ]
     },
     "execution_count": 19,
     "metadata": {},
     "output_type": "execute_result"
    }
   ],
   "source": [
    "cities = pd.read_csv(\"E:/Projects/Job analysis/data/cities_be.csv\")\n",
    "dc_counts = pd.DataFrame(dc_cards.groupby([\"Location\"])[\"Title\"].count().sort_values(ascending=False))\n",
    "dc_counts.reset_index()\n",
    "dc_counts_cities = dc_counts.merge(cities, left_on=\"Location\", right_on=\"city\")\n",
    "dc_counts_cities.head()"
   ]
  },
  {
   "cell_type": "markdown",
   "metadata": {},
   "source": [
    "### Most frequent unique word counts in each job type"
   ]
  },
  {
   "cell_type": "code",
   "execution_count": 20,
   "metadata": {},
   "outputs": [
    {
     "data": {
      "text/html": [
       "<div>\n",
       "<style scoped>\n",
       "    .dataframe tbody tr th:only-of-type {\n",
       "        vertical-align: middle;\n",
       "    }\n",
       "\n",
       "    .dataframe tbody tr th {\n",
       "        vertical-align: top;\n",
       "    }\n",
       "\n",
       "    .dataframe thead th {\n",
       "        text-align: right;\n",
       "    }\n",
       "</style>\n",
       "<table border=\"1\" class=\"dataframe\">\n",
       "  <thead>\n",
       "    <tr style=\"text-align: right;\">\n",
       "      <th></th>\n",
       "      <th>word</th>\n",
       "      <th>counts</th>\n",
       "    </tr>\n",
       "  </thead>\n",
       "  <tbody>\n",
       "    <tr>\n",
       "      <th>0</th>\n",
       "      <td>work</td>\n",
       "      <td>389</td>\n",
       "    </tr>\n",
       "    <tr>\n",
       "      <th>1</th>\n",
       "      <td>team</td>\n",
       "      <td>338</td>\n",
       "    </tr>\n",
       "    <tr>\n",
       "      <th>2</th>\n",
       "      <td>experience</td>\n",
       "      <td>317</td>\n",
       "    </tr>\n",
       "    <tr>\n",
       "      <th>3</th>\n",
       "      <td>business</td>\n",
       "      <td>309</td>\n",
       "    </tr>\n",
       "    <tr>\n",
       "      <th>4</th>\n",
       "      <td>project</td>\n",
       "      <td>261</td>\n",
       "    </tr>\n",
       "    <tr>\n",
       "      <th>5</th>\n",
       "      <td>skill</td>\n",
       "      <td>235</td>\n",
       "    </tr>\n",
       "    <tr>\n",
       "      <th>6</th>\n",
       "      <td>development</td>\n",
       "      <td>222</td>\n",
       "    </tr>\n",
       "    <tr>\n",
       "      <th>7</th>\n",
       "      <td>scientist</td>\n",
       "      <td>214</td>\n",
       "    </tr>\n",
       "    <tr>\n",
       "      <th>8</th>\n",
       "      <td>knowledge</td>\n",
       "      <td>166</td>\n",
       "    </tr>\n",
       "    <tr>\n",
       "      <th>9</th>\n",
       "      <td>develop</td>\n",
       "      <td>164</td>\n",
       "    </tr>\n",
       "    <tr>\n",
       "      <th>10</th>\n",
       "      <td>support</td>\n",
       "      <td>151</td>\n",
       "    </tr>\n",
       "    <tr>\n",
       "      <th>11</th>\n",
       "      <td>solution</td>\n",
       "      <td>148</td>\n",
       "    </tr>\n",
       "    <tr>\n",
       "      <th>12</th>\n",
       "      <td>analytics</td>\n",
       "      <td>146</td>\n",
       "    </tr>\n",
       "    <tr>\n",
       "      <th>13</th>\n",
       "      <td>good</td>\n",
       "      <td>142</td>\n",
       "    </tr>\n",
       "    <tr>\n",
       "      <th>14</th>\n",
       "      <td>process</td>\n",
       "      <td>141</td>\n",
       "    </tr>\n",
       "    <tr>\n",
       "      <th>15</th>\n",
       "      <td>lead</td>\n",
       "      <td>139</td>\n",
       "    </tr>\n",
       "    <tr>\n",
       "      <th>16</th>\n",
       "      <td>customer</td>\n",
       "      <td>136</td>\n",
       "    </tr>\n",
       "    <tr>\n",
       "      <th>17</th>\n",
       "      <td>new</td>\n",
       "      <td>135</td>\n",
       "    </tr>\n",
       "    <tr>\n",
       "      <th>18</th>\n",
       "      <td>company</td>\n",
       "      <td>132</td>\n",
       "    </tr>\n",
       "    <tr>\n",
       "      <th>19</th>\n",
       "      <td>product</td>\n",
       "      <td>131</td>\n",
       "    </tr>\n",
       "  </tbody>\n",
       "</table>\n",
       "</div>"
      ],
      "text/plain": [
       "           word  counts\n",
       "0          work     389\n",
       "1          team     338\n",
       "2    experience     317\n",
       "3      business     309\n",
       "4       project     261\n",
       "5         skill     235\n",
       "6   development     222\n",
       "7     scientist     214\n",
       "8     knowledge     166\n",
       "9       develop     164\n",
       "10      support     151\n",
       "11     solution     148\n",
       "12    analytics     146\n",
       "13         good     142\n",
       "14      process     141\n",
       "15         lead     139\n",
       "16     customer     136\n",
       "17          new     135\n",
       "18      company     132\n",
       "19      product     131"
      ]
     },
     "execution_count": 20,
     "metadata": {},
     "output_type": "execute_result"
    }
   ],
   "source": [
    "# Data Science\n",
    "\n",
    "# Create 1 list of all unique words in english\n",
    "dc_cards_en = dc_cards[dc_cards[\"Language\"] == \"en\"]\n",
    "dc_desc_list = [] \n",
    "dc_desc_list = [word for unique in dc_cards_en[\"nlp_desc_unique\"] for word in list(unique)]\n",
    "\n",
    "# Create df with word counts for all english job descriptions\n",
    "dc_words = pd.DataFrame([word for l in dc_cards_en[\"nlp_desc_bi\"] for word in l])\n",
    "dc_freq = pd.DataFrame(dc_words.value_counts())\n",
    "dc_freq.rename(columns={0:\"counts\"}, inplace=True)\n",
    "dc_freq = dc_freq.reset_index()\n",
    "dc_freq.rename(columns={0:\"word\"}, inplace=True)\n",
    "dc_freq.sort_values(ascending=False, by=[\"counts\"]).head(20)"
   ]
  },
  {
   "cell_type": "code",
   "execution_count": 21,
   "metadata": {
    "scrolled": true
   },
   "outputs": [
    {
     "data": {
      "text/plain": [
       "<AxesSubplot:ylabel='word'>"
      ]
     },
     "execution_count": 21,
     "metadata": {},
     "output_type": "execute_result"
    },
    {
     "data": {
      "image/png": "[encoded data removed]",
      "text/plain": [
       "<Figure size 720x720 with 1 Axes>"
      ]
     },
     "metadata": {
      "needs_background": "light"
     },
     "output_type": "display_data"
    }
   ],
   "source": [
    "dc_freq[0:40].plot(kind=\"barh\", x=\"word\", y=\"counts\", figsize=(10, 10))\n",
    "# Clearly some words need to be put together as 1 word and simplified \n",
    "# (ex: \"machine learning\", \"project and projects\")"
   ]
  },
  {
   "cell_type": "markdown",
   "metadata": {},
   "source": [
    "### Create lists of skills and technologies\n",
    "- Python libraries\n",
    "- R libraries\n",
    "- Programming languages\n",
    "- ML principles\n",
    "- BI tools\n",
    "- Big Data tools (Spark, Hadoop, etc)"
   ]
  },
  {
   "cell_type": "code",
   "execution_count": 40,
   "metadata": {},
   "outputs": [],
   "source": [
    "# Create list\n",
    "tech_list = [\n",
    "    \"Scikit\",\n",
    "    \"Scikit-learn\",\n",
    "    \"NuPIC\",\n",
    "    \"Ramp\",\n",
    "    \"NumPy\",\n",
    "    \"Pipenv\",\n",
    "    \"TensorFlow\",\n",
    "    \"Bob\",\n",
    "    \"PyTorch\",\n",
    "    \"PyBrain\",\n",
    "    \"MILK\",\n",
    "    \"Keras\",\n",
    "    \"Dash\",\n",
    "    \"Pandas\",\n",
    "    \"Scipy\",\n",
    "    \"Matplotlib\",\n",
    "    \"Theano\",\n",
    "    \"SymPy\",\n",
    "    \"Caffe2\",\n",
    "    \"Seaborn\",\n",
    "    \"Hebel\",\n",
    "    \"Chainer\",\n",
    "    \"OpenCV\",\n",
    "    \"Theano\",\n",
    "    \"NLTK\",\n",
    "    \"SQLAlchemy\",\n",
    "    \"Bokeh\",\n",
    "    \"tidyverse\",\n",
    "    \"dplyr\",\n",
    "    \"tidyr\",\n",
    "    \"stringr\",\n",
    "    \"lubridate\",\n",
    "    \"ggplot2\",\n",
    "    \"ggvis\",\n",
    "    \"rgl\",\n",
    "    \"htmlwidgets\",\n",
    "    \"googleVis\",\n",
    "    \"tidymodels\",\n",
    "    \"esquisse\",\n",
    "    \"BioConductor\",\n",
    "    \"Shiny\",\n",
    "    \"Lubridate\",\n",
    "    \"Knitr\",\n",
    "    \"mlr\",\n",
    "    \"Quanteda.dictionaries\",\n",
    "    \"RCrawler\",\n",
    "    \"Leaflet\",\n",
    "    \"Janitor\",\n",
    "    \"spark\",\n",
    "    \"hadoop\",\n",
    "    \"xplenty\",\n",
    "    \"adverty\",\n",
    "    \"cdh\",\n",
    "    \"cassandra\",\n",
    "    \"mongodb\",\n",
    "    \"tableau\",\n",
    "    \"powerbi\", \n",
    "    \"power_bi\"\n",
    "    \"MicroStrategy\",\n",
    "    \"SAS\",\n",
    "    \"QlikSense\",\n",
    "    \"qlikview\",\n",
    "    \"yellowfin\",\n",
    "    \"zoho\",\n",
    "    \"sisense\"\n",
    "]\n",
    "\n",
    "tech_list = [word.lower() for word in tech_list]"
   ]
  },
  {
   "cell_type": "code",
   "execution_count": 41,
   "metadata": {
    "scrolled": true
   },
   "outputs": [
    {
     "data": {
      "text/plain": [
       "<AxesSubplot:ylabel='0'>"
      ]
     },
     "execution_count": 41,
     "metadata": {},
     "output_type": "execute_result"
    },
    {
     "data": {
      "image/png": "[encoded data removed]",
      "text/plain": [
       "<Figure size 432x288 with 1 Axes>"
      ]
     },
     "metadata": {
      "needs_background": "light"
     },
     "output_type": "display_data"
    }
   ],
   "source": [
    "# Show most important technologies for Data Science\n",
    "tech_dc = [word for l in dc_cards[\"nlp_desc_unique\"] for word in l if word in tech_list]\n",
    "pd.DataFrame(pd.DataFrame(tech_dc).value_counts()).plot.barh()"
   ]
  },
  {
   "cell_type": "markdown",
   "metadata": {},
   "source": [
    "We can see that 3 of the top 5 technologies used are python machine learning libraries, wich should not be a suprise.\n",
    "It is also clear that Tensorflow is by far the most popular in these job descriptions, since we know that Keras is now a part of the Tensorflow library.\n",
    "\n",
    "One of the more suprising findings is the fact that SAS is the 4th most popular technology appearing in the descriptions."
   ]
  },
  {
   "cell_type": "code",
   "execution_count": 55,
   "metadata": {},
   "outputs": [
    {
     "data": {
      "text/plain": [
       "<AxesSubplot:ylabel='0'>"
      ]
     },
     "execution_count": 55,
     "metadata": {},
     "output_type": "execute_result"
    },
    {
     "data": {
      "image/png": "[encoded data removed]",
      "text/plain": [
       "<Figure size 432x288 with 1 Axes>"
      ]
     },
     "metadata": {
      "needs_background": "light"
     },
     "output_type": "display_data"
    }
   ],
   "source": [
    "# Show most important technologies for Data Engineer\n",
    "tech_de = [word for l in de_cards[\"nlp_desc_unique\"] for word in l if word in tech_list]\n",
    "pd.DataFrame(pd.DataFrame(tech_de).value_counts()).plot.barh()"
   ]
  },
  {
   "cell_type": "code",
   "execution_count": 56,
   "metadata": {},
   "outputs": [
    {
     "data": {
      "text/plain": [
       "<AxesSubplot:ylabel='0'>"
      ]
     },
     "execution_count": 56,
     "metadata": {},
     "output_type": "execute_result"
    },
    {
     "data": {
      "image/png": "[encoded data removed]",
      "text/plain": [
       "<Figure size 432x288 with 1 Axes>"
      ]
     },
     "metadata": {
      "needs_background": "light"
     },
     "output_type": "display_data"
    }
   ],
   "source": [
    "# Show most important technologies for Data Analyst\n",
    "tech_da = [word for l in da_cards[\"nlp_desc_unique\"] for word in l if word in tech_list]\n",
    "pd.DataFrame(pd.DataFrame(tech_da).value_counts()).plot.barh()"
   ]
  },
  {
   "cell_type": "code",
   "execution_count": 24,
   "metadata": {},
   "outputs": [
    {
     "name": "stderr",
     "output_type": "stream",
     "text": [
      "C:\\Users\\maart\\AppData\\Local\\Temp/ipykernel_21784/2895127260.py:10: SettingWithCopyWarning: \n",
      "A value is trying to be set on a copy of a slice from a DataFrame.\n",
      "Try using .loc[row_indexer,col_indexer] = value instead\n",
      "\n",
      "See the caveats in the documentation: https://pandas.pydata.org/pandas-docs/stable/user_guide/indexing.html#returning-a-view-versus-a-copy\n",
      "  dc_cards[\"Technologies\"] = [getTechnologies(desc) for desc in dc_cards[\"nlp_desc_unique\"]]\n"
     ]
    },
    {
     "data": {
      "text/html": [
       "<div>\n",
       "<style scoped>\n",
       "    .dataframe tbody tr th:only-of-type {\n",
       "        vertical-align: middle;\n",
       "    }\n",
       "\n",
       "    .dataframe tbody tr th {\n",
       "        vertical-align: top;\n",
       "    }\n",
       "\n",
       "    .dataframe thead th {\n",
       "        text-align: right;\n",
       "    }\n",
       "</style>\n",
       "<table border=\"1\" class=\"dataframe\">\n",
       "  <thead>\n",
       "    <tr style=\"text-align: right;\">\n",
       "      <th></th>\n",
       "      <th>Title</th>\n",
       "      <th>Technologies</th>\n",
       "    </tr>\n",
       "  </thead>\n",
       "  <tbody>\n",
       "    <tr>\n",
       "      <th>0</th>\n",
       "      <td>senior consultant in data science ...</td>\n",
       "      <td>None</td>\n",
       "    </tr>\n",
       "    <tr>\n",
       "      <th>1</th>\n",
       "      <td>stage - data science</td>\n",
       "      <td>[tableau]</td>\n",
       "    </tr>\n",
       "    <tr>\n",
       "      <th>2</th>\n",
       "      <td>data science engineer healthcare  ...</td>\n",
       "      <td>[pytorch, tensorflow]</td>\n",
       "    </tr>\n",
       "    <tr>\n",
       "      <th>3</th>\n",
       "      <td>data science software engineer    ...</td>\n",
       "      <td>[tensorflow]</td>\n",
       "    </tr>\n",
       "    <tr>\n",
       "      <th>6</th>\n",
       "      <td>senior consultant in data science ...</td>\n",
       "      <td>None</td>\n",
       "    </tr>\n",
       "    <tr>\n",
       "      <th>7</th>\n",
       "      <td>data science software engineer    ...</td>\n",
       "      <td>[tensorflow]</td>\n",
       "    </tr>\n",
       "    <tr>\n",
       "      <th>8</th>\n",
       "      <td>senior consultant data science    ...</td>\n",
       "      <td>[sas]</td>\n",
       "    </tr>\n",
       "    <tr>\n",
       "      <th>9</th>\n",
       "      <td>senior data science/advanced analy...</td>\n",
       "      <td>None</td>\n",
       "    </tr>\n",
       "    <tr>\n",
       "      <th>10</th>\n",
       "      <td>senior product owner (data science...</td>\n",
       "      <td>None</td>\n",
       "    </tr>\n",
       "    <tr>\n",
       "      <th>13</th>\n",
       "      <td>data science &amp; analytics lead     ...</td>\n",
       "      <td>[sas]</td>\n",
       "    </tr>\n",
       "  </tbody>\n",
       "</table>\n",
       "</div>"
      ],
      "text/plain": [
       "                                                Title           Technologies\n",
       "0               senior consultant in data science ...                   None\n",
       "1                     stage - data science                         [tableau]\n",
       "2               data science engineer healthcare  ...  [pytorch, tensorflow]\n",
       "3               data science software engineer    ...           [tensorflow]\n",
       "6               senior consultant in data science ...                   None\n",
       "7               data science software engineer    ...           [tensorflow]\n",
       "8               senior consultant data science    ...                  [sas]\n",
       "9               senior data science/advanced analy...                   None\n",
       "10              senior product owner (data science...                   None\n",
       "13              data science & analytics lead     ...                  [sas]"
      ]
     },
     "execution_count": 24,
     "metadata": {},
     "output_type": "execute_result"
    }
   ],
   "source": [
    "# Add to dataframe\n",
    "\n",
    "# Create function to detect technologies\n",
    "def getTechnologies(desc):\n",
    "    l = [word for word in desc if word in tech_list]\n",
    "    if len(l) == 0:\n",
    "        return None\n",
    "    return l\n",
    "    \n",
    "dc_cards[\"Technologies\"] = [getTechnologies(desc) for desc in dc_cards[\"nlp_desc_unique\"]]\n",
    "dc_cards[[\"Title\", \"Technologies\"]].head(10)"
   ]
  },
  {
   "cell_type": "code",
   "execution_count": 32,
   "metadata": {},
   "outputs": [
    {
     "data": {
      "text/plain": [
       "{'2',\n",
       " '5_year',\n",
       " 'access',\n",
       " 'accessibility',\n",
       " 'achievable',\n",
       " 'achieve',\n",
       " 'actionable',\n",
       " 'advisory',\n",
       " 'align',\n",
       " 'analytics',\n",
       " 'analyticsadditional',\n",
       " 'approach',\n",
       " 'architecture',\n",
       " 'area',\n",
       " 'arrangement',\n",
       " 'articulate',\n",
       " 'artificial_intelligence',\n",
       " 'asset',\n",
       " 'background',\n",
       " 'balance',\n",
       " 'big',\n",
       " 'build',\n",
       " 'business',\n",
       " 'candidate',\n",
       " 'capable',\n",
       " 'career',\n",
       " 'challenge',\n",
       " 'chance',\n",
       " 'civil',\n",
       " 'client',\n",
       " 'clientfacing',\n",
       " 'clients’',\n",
       " 'close',\n",
       " 'combine',\n",
       " 'coming',\n",
       " 'commit',\n",
       " 'commitment',\n",
       " 'communication',\n",
       " 'competency',\n",
       " 'compliance',\n",
       " 'comprise',\n",
       " 'compute',\n",
       " 'consult',\n",
       " 'consultancy',\n",
       " 'consultant',\n",
       " 'core',\n",
       " 'covering',\n",
       " 'critical',\n",
       " 'customer',\n",
       " 'cybersecurity',\n",
       " 'database',\n",
       " 'deliver',\n",
       " 'delivery',\n",
       " 'departmental',\n",
       " 'deploy',\n",
       " 'design',\n",
       " 'detail',\n",
       " 'develop',\n",
       " 'differentiator',\n",
       " 'digital_transformation',\n",
       " 'disability',\n",
       " 'discriminate_basis',\n",
       " 'distribute',\n",
       " 'diversity_inclusion',\n",
       " 'driver',\n",
       " 'dutch',\n",
       " 'ecosystemfamiliar',\n",
       " 'edge',\n",
       " 'effectively',\n",
       " 'enable',\n",
       " 'enablement',\n",
       " 'end_end',\n",
       " 'endtoend',\n",
       " 'engineering',\n",
       " 'english_french',\n",
       " 'enterprise',\n",
       " 'environment',\n",
       " 'equipmentwe',\n",
       " 'europe',\n",
       " 'examine',\n",
       " 'excellent',\n",
       " 'excite',\n",
       " 'expect',\n",
       " 'experience',\n",
       " 'experiencestrong',\n",
       " 'expert',\n",
       " 'expertise',\n",
       " 'exploit',\n",
       " 'exploratory_analysis',\n",
       " 'extensive',\n",
       " 'ey',\n",
       " 'field',\n",
       " 'finance',\n",
       " 'fitness',\n",
       " 'flexible',\n",
       " 'following',\n",
       " 'foundational',\n",
       " 'gender',\n",
       " 'genuinely',\n",
       " 'good',\n",
       " 'governance',\n",
       " 'group',\n",
       " 'growe',\n",
       " 'growth',\n",
       " 'handson',\n",
       " 'help',\n",
       " 'high',\n",
       " 'hub',\n",
       " 'identify',\n",
       " 'implement',\n",
       " 'implementation',\n",
       " 'implementationdata',\n",
       " 'include',\n",
       " 'including',\n",
       " 'inclusion',\n",
       " 'individual',\n",
       " 'industry',\n",
       " 'information',\n",
       " 'innovative',\n",
       " 'insight',\n",
       " 'instream',\n",
       " 'integration',\n",
       " 'intelligence',\n",
       " 'java',\n",
       " 'keep',\n",
       " 'key',\n",
       " 'knowledge',\n",
       " 'lake',\n",
       " 'language',\n",
       " 'large',\n",
       " 'layer',\n",
       " 'lead',\n",
       " 'learn',\n",
       " 'level',\n",
       " 'lifecycle',\n",
       " 'lifecyclebi',\n",
       " 'lifestyle',\n",
       " 'like',\n",
       " 'look',\n",
       " 'machine_learn',\n",
       " 'manage',\n",
       " 'management',\n",
       " 'managementjoining',\n",
       " 'mark',\n",
       " 'market',\n",
       " 'master',\n",
       " 'master_degree',\n",
       " 'matter',\n",
       " 'member',\n",
       " 'migration',\n",
       " 'migrationdata',\n",
       " 'model',\n",
       " 'modell',\n",
       " 'multiple',\n",
       " 'need',\n",
       " 'nosql',\n",
       " 'offer',\n",
       " 'operation',\n",
       " 'operational',\n",
       " 'opportunity',\n",
       " 'organization',\n",
       " 'passionate',\n",
       " 'perform',\n",
       " 'period',\n",
       " 'personal',\n",
       " 'physics',\n",
       " 'picture',\n",
       " 'policy',\n",
       " 'precision',\n",
       " 'predictive',\n",
       " 'prescriptive',\n",
       " 'presentation',\n",
       " 'priority',\n",
       " 'problem',\n",
       " 'process',\n",
       " 'product',\n",
       " 'production',\n",
       " 'profession',\n",
       " 'professional',\n",
       " 'profile',\n",
       " 'program',\n",
       " 'project',\n",
       " 'proofofconcepts',\n",
       " 'proposition',\n",
       " 'prototypingstrong',\n",
       " 'proud',\n",
       " 'provide',\n",
       " 'purpose',\n",
       " 'python_r',\n",
       " 'quality',\n",
       " 'race_religion',\n",
       " 'rationalization',\n",
       " 'real',\n",
       " 'regular',\n",
       " 'regulatory',\n",
       " 'relevant',\n",
       " 'remediation',\n",
       " 'report',\n",
       " 'require',\n",
       " 'right',\n",
       " 'risk',\n",
       " 'roadmap',\n",
       " 'role',\n",
       " 'sacrifice',\n",
       " 'sas',\n",
       " 'selection',\n",
       " 'service',\n",
       " 'set',\n",
       " 'sexual_orientation',\n",
       " 'site',\n",
       " 'skill',\n",
       " 'skillsfluency',\n",
       " 'small',\n",
       " 'soft',\n",
       " 'solid',\n",
       " 'solution',\n",
       " 'solutionsyou',\n",
       " 'solve',\n",
       " 'solve_complex',\n",
       " 'source',\n",
       " 'specific',\n",
       " 'spot',\n",
       " 'statistic_mathematics',\n",
       " 'statistical',\n",
       " 'status',\n",
       " 'step',\n",
       " 'strategy',\n",
       " 'strong',\n",
       " 'study',\n",
       " 'successful',\n",
       " 'supply_chain',\n",
       " 'support',\n",
       " 'system',\n",
       " 'team',\n",
       " 'technical',\n",
       " 'technology',\n",
       " 'thrive',\n",
       " 'time',\n",
       " 'tool',\n",
       " 'topic',\n",
       " 'topicsexperience',\n",
       " 'training',\n",
       " 'transition',\n",
       " 'travel',\n",
       " 'treat',\n",
       " 'trouble',\n",
       " 'understand',\n",
       " 'undertaking',\n",
       " 'unique',\n",
       " 'unlock',\n",
       " 'unstructured',\n",
       " 'use',\n",
       " 'value',\n",
       " 'variety',\n",
       " 'vendor',\n",
       " 'visualization',\n",
       " 'visualizationideally',\n",
       " 'warehouse',\n",
       " 'wish',\n",
       " 'work',\n",
       " 'writing',\n",
       " 'year',\n",
       " '…solid'}"
      ]
     },
     "execution_count": 32,
     "metadata": {},
     "output_type": "execute_result"
    }
   ],
   "source": [
    "dc_cards[\"nlp_desc_unique\"][8]"
   ]
  },
  {
   "cell_type": "markdown",
   "metadata": {},
   "source": [
    "### Remove words with too low and high counts"
   ]
  },
  {
   "cell_type": "code",
   "execution_count": 49,
   "metadata": {},
   "outputs": [],
   "source": [
    "dc_freq = dc_freq[(dc_freq[\"counts\"] > 10) & (dc_freq[\"counts\"] < 150) ]"
   ]
  },
  {
   "cell_type": "markdown",
   "metadata": {},
   "source": [
    "### Create LDA model for the english version"
   ]
  },
  {
   "cell_type": "code",
   "execution_count": 50,
   "metadata": {},
   "outputs": [
    {
     "data": {
      "text/plain": [
       "['senior', 'involve', 'transformation', 'client', 'analysis']"
      ]
     },
     "execution_count": 50,
     "metadata": {},
     "output_type": "execute_result"
    }
   ],
   "source": [
    "# Filter too frequent words\n",
    "desc_list_en = []\n",
    "for word_l in dc_cards_en[\"nlp_desc_bi\"]:\n",
    "    filtered_l = [word for word in word_l if word in list(dc_freq[\"word\"])]\n",
    "    desc_list_en.append(filtered_l)\n",
    "desc_list_en[0][0:5]"
   ]
  },
  {
   "cell_type": "code",
   "execution_count": 51,
   "metadata": {},
   "outputs": [],
   "source": [
    "# Create Variables for LDA \n",
    "id2word = gensim.corpora.Dictionary(desc_list_en)\n",
    "\n",
    "corpus = []\n",
    "for text in desc_list_en:\n",
    "    new = id2word.doc2bow(text)\n",
    "    corpus.append(new)"
   ]
  },
  {
   "cell_type": "code",
   "execution_count": 52,
   "metadata": {},
   "outputs": [],
   "source": [
    "# Create LDA\n",
    "lda_model = gensim.models.ldamodel.LdaModel(corpus=corpus,\n",
    "                                           id2word=id2word,\n",
    "                                           num_topics=10,\n",
    "                                           random_state=100,\n",
    "                                           update_every=1,\n",
    "                                           chunksize=10,\n",
    "                                           passes=80,\n",
    "                                            alpha=1e-15,\n",
    "                                           minimum_probability=0.0,\n",
    "                                            )"
   ]
  },
  {
   "cell_type": "code",
   "execution_count": 53,
   "metadata": {},
   "outputs": [
    {
     "data": {
      "text/plain": [
       "[(0, 1.3051315e-08),\n",
       " (1, 2.5509406e-08),\n",
       " (2, 0.0054358398),\n",
       " (3, 1.0282531e-06),\n",
       " (4, 0.005227095),\n",
       " (6, 4.3862613e-08),\n",
       " (7, 6.2282275e-08),\n",
       " (8, 0.005752284),\n",
       " (9, 7.294213e-08)]"
      ]
     },
     "execution_count": 53,
     "metadata": {},
     "output_type": "execute_result"
    }
   ],
   "source": [
    "t = lda_model.get_term_topics(\"python\")\n",
    "t"
   ]
  },
  {
   "cell_type": "code",
   "execution_count": 54,
   "metadata": {},
   "outputs": [
    {
     "data": {
      "text/html": [
       "\n",
       "<link rel=\"stylesheet\" type=\"text/css\" href=\"https://cdn.jsdelivr.net/gh/bmabey/pyLDAvis@3.3.1/pyLDAvis/js/ldavis.v1.0.0.css\">\n",
       "\n",
       "\n",
       "<div id=\"ldavis_el2178423176298854562002097043\"></div>\n",
       "<script type=\"text/javascript\">\n",
       "\n",
       "var ldavis_el2178423176298854562002097043_data = {\"mdsDat\": {\"x\": [0.31657468616856965, 0.18139413099323992, -0.28408037622592647, -0.26563002062857605, 0.1703951971953493, -0.03666156661980951, -0.11135351693261973, -0.40546948903719343, 0.3816954973013904, 0.053135457785576025], \"y\": [0.12999636840350648, 0.34733021595660396, 0.0378385078543566, 0.353185698793892, -0.4372773607410492, 0.23646634670321678, -0.3440761448594538, -0.1851588558615781, -0.15714484141565987, 0.018840065166165255], \"topics\": [1, 2, 3, 4, 5, 6, 7, 8, 9, 10], \"cluster\": [1, 1, 1, 1, 1, 1, 1, 1, 1, 1], \"Freq\": [27.33942608332938, 20.580959162335652, 16.574204933711837, 11.291004983632694, 7.304734925449276, 5.751909599378185, 4.107413603883091, 3.8320027488411865, 3.2183439594387013, 8.964045315837036e-16]}, \"tinfo\": {\"Term\": [\"research\", \"rd\", \"scientific\", \"analysis\", \"innovation\", \"activity\", \"global\", \"result\", \"model\", \"train\", \"base\", \"including\", \"machine_learn\", \"relate\", \"require\", \"research\", \"rd\", \"scientific\", \"innovation\", \"activity\", \"result\", \"base\", \"stakeholder\", \"train\", \"be\", \"able\", \"internal\", \"partner\", \"employment\", \"colleague\", \"analysis\", \"relate\", \"international\", \"program\", \"phd\", \"machine_learn\", \"design\", \"look\", \"opportunity\", \"global\", \"require\", \"industry\", \"area\", \"life\", \"candidate\", \"study\", \"individual\", \"test\", \"interest\", \"solve\", \"disability\", \"day\", \"important\", \"demonstrate\", \"including\", \"following\", \"portfolio\", \"report\", \"information\", \"analytic\", \"people\", \"provide\", \"strong\", \"role\", \"expertise\", \"model\", \"innovative\", \"digital\", \"tool\", \"regulatory\", \"site\", \"change\", \"leader\", \"advance_analytics\", \"generate\", \"know\", \"multidisciplinary\", \"highly\", \"accelerate\", \"value\", \"integrate\", \"year\", \"engineering\", \"implement\", \"complex\", \"group\", \"management\", \"system\", \"technology\", \"senior\", \"improve\", \"drive\", \"advance\", \"strategic\", \"capability\", \"communicate\", \"maintain\", \"function\", \"local\", \"diverse\", \"order\", \"prototype\", \"present\", \"client\", \"consult\", \"impact\", \"insight\", \"benefit\", \"service\", \"technique\", \"provide\", \"strategy\", \"english\", \"ensure\", \"help\", \"vaccine\", \"patient\", \"disease\", \"bioinformatics\", \"department\", \"clinical\", \"analyze\", \"science\", \"platform\", \"janssen\", \"chemical\", \"material\", \"method\", \"publication\", \"belgium\", \"software\", \"supply_chain\", \"coach\", \"forecast\", \"omp\", \"engineer\", \"member\", \"algorithm\", \"equivalent\", \"growe\", \"future\", \"creative\", \"grow\", \"want\", \"passionate\", \"plan\", \"learn\", \"challenge\", \"deep\", \"improve\", \"offer\", \"excite\", \"3_year\", \"empower\", \"career\", \"ready\", \"world\", \"meet\", \"talent\", \"professional\", \"plus\", \"passionate\", \"successful\", \"share\", \"focus\", \"time\", \"design\", \"management\", \"safety\", \"manufacturing\", \"\\u00b7\", \"position\", \"level\", \"contact\", \"laboratory\", \"industrial\", \"lab\", \"operation\", \"enable\", \"equivalent\", \"ensure\", \"successful\", \"transformation\", \"technology\", \"group\", \"specialist\", \"avantor\", \"account\", \"3_developer\", \"career_shift\", \"today\", \"fortune_500\", \"brand\", \"sales\", \"life_science\", \"country\", \"network\", \"dynamic\", \"great\", \"way\", \"strong\", \"solvay\", \"accelerate\", \"lab\", \"brand\", \"fortune_500\", \"highly\", \"production\", \"today\", \"equivalent\", \"r_python\", \"artificial_intelligence\", \"decision\", \"present\", \"multidisciplinary\", \"industrial\", \"able\", \"activity\", \"algorithm\", \"analysis\", \"apply\", \"client\", \"collaborate\", \"colleague\", \"commercial\", \"communication\", \"contribute\", \"design\", \"dynamic\", \"employee\", \"employment\"], \"Freq\": [111.0, 106.0, 100.0, 128.0, 83.0, 81.0, 104.0, 63.0, 109.0, 62.0, 55.0, 92.0, 103.0, 63.0, 78.0, 110.47053535245261, 105.53559838376863, 99.94383976915634, 82.42553810406696, 80.8417431446589, 62.44973537418897, 54.531887472185815, 48.73940974037877, 61.59365759760531, 47.03000552450967, 45.51239752595084, 44.49559222593092, 43.36257175644061, 41.39795546979859, 35.5860338560793, 122.59140519155139, 60.449542813524495, 49.234834974880954, 74.00111463772075, 58.855586028694084, 71.25873977957424, 69.2700995405475, 58.1048103328004, 58.185063711525125, 103.9568282971188, 78.17583416274516, 77.98763611677772, 52.90004184746523, 49.369770751855036, 45.33601928174071, 43.77121126699684, 34.32489074173132, 29.024399139513925, 28.1022976712758, 25.71949341801298, 25.375410378914705, 25.051741589056096, 24.655722517080527, 24.45806892820889, 81.14959744518225, 39.10393842230077, 48.628542508441605, 65.29508781411984, 60.69620146414279, 49.53861122782656, 60.17440531608025, 76.4905349486008, 67.38182096124707, 52.660468354322596, 45.946030783382774, 108.32223077063541, 86.70876564219708, 69.20357823132353, 57.789782016359084, 36.04162914741509, 33.12973037648675, 30.20328934069202, 26.828555024496847, 23.319073040880355, 21.58963419164493, 21.565056165969647, 18.980669974496504, 17.53080416975357, 14.82210458565713, 63.34550249371037, 30.236153261238975, 39.36684585320189, 47.78789989045123, 38.3202542322531, 52.95541380816869, 44.773911623571436, 69.72856198325563, 38.753493871440206, 54.08601097948714, 37.744568314546456, 38.59684491390967, 86.62204826549208, 45.28330901372372, 45.24200269463885, 33.980284002707904, 33.29078935525953, 32.045865288787475, 30.638064720659344, 28.55034423200782, 28.15367619607554, 25.315518113612814, 19.189400710255615, 18.960135262072725, 59.361320138283574, 26.002040730986696, 34.72456797014691, 65.48383273043777, 44.70379580886741, 49.98232262248449, 38.02137670110295, 61.05932365767889, 38.09202501307536, 34.00582114390665, 37.80017547005445, 33.84956366893664, 60.91071017834915, 57.74718552793898, 55.43647533460778, 50.27446007853222, 46.42887332122064, 40.66432990125555, 34.706418812006326, 33.37512942152174, 31.36119334877422, 30.72046001562473, 29.11289185759295, 28.778870426173018, 27.924124405324218, 26.146164854792946, 25.39756328128939, 87.26460611116966, 37.95183614655806, 35.04714854336234, 19.851260815667338, 19.358504356832857, 18.555693328740016, 20.8818769408476, 24.18149178391752, 8.653747962679287, 13.327570094048662, 19.354392091194587, 13.925375113441024, 13.311370595829672, 10.855638831134197, 10.607919886655523, 23.671207590019318, 35.790828075431406, 19.765776712432995, 19.186040150828195, 18.353876197641704, 17.41216598000976, 35.95940742239506, 22.34186605001068, 21.525405867824038, 58.38314839507105, 26.058719823780795, 69.16822297637286, 29.74747141842577, 27.785013796993272, 46.50789856531516, 26.536943983907044, 18.752274039923865, 13.611999944236006, 18.57192070164198, 18.194137278123918, 13.77662501245089, 26.43302809761138, 27.40311167754932, 62.015307491638595, 44.02605185729415, 43.649155225950324, 34.2253095783591, 28.47962464363619, 20.446765100474423, 19.062375952541593, 19.035692547434543, 15.164292366087254, 19.97895017902097, 11.591960062590475, 9.665806715668007, 36.833573632813696, 13.505754507535226, 7.764862572988878, 28.02823283706793, 10.790531453573013, 36.219991203338715, 26.871505826918355, 26.841319242700788, 19.885077222658833, 19.885077222658833, 17.67350497917018, 17.309391719292574, 16.787000591283242, 30.85747236322993, 20.492074879449422, 16.04410279581045, 28.34822185932975, 10.900235768033951, 14.71425932825244, 21.23140105090552, 30.972651807410404, 3.9457043501929316e-16, 3.9457043501929316e-16, 3.9457043501929316e-16, 3.9457043501929316e-16, 3.9457043501929316e-16, 3.9457043501929316e-16, 3.9457043501929316e-16, 3.9457043501929316e-16, 3.9457043501929316e-16, 3.9457043501929316e-16, 3.9457043501929316e-16, 3.9457043501929316e-16, 3.9457043501929316e-16, 3.9457043501929316e-16, 3.9457043501929316e-16, 3.9457043501929316e-16, 3.9457043501929316e-16, 3.9457043501929316e-16, 3.9457043501929316e-16, 3.9457043501929316e-16, 3.9457043501929316e-16, 3.9457043501929316e-16, 3.9457043501929316e-16, 3.9457043501929316e-16, 3.9457043501929316e-16, 3.9457043501929316e-16, 3.9457043501929316e-16, 3.9457043501929316e-16, 3.9457043501929316e-16, 3.9457043501929316e-16], \"Total\": [111.0, 106.0, 100.0, 128.0, 83.0, 81.0, 104.0, 63.0, 109.0, 62.0, 55.0, 92.0, 103.0, 63.0, 78.0, 111.23612729711839, 106.30117741896468, 100.70944873987915, 83.19113429640635, 81.60754611502409, 63.21529177791697, 55.2975125874037, 49.50511975669755, 62.59235934163785, 47.79550236803403, 46.27796615129516, 45.261239088368825, 44.128107735095625, 42.16353898779721, 36.35156856733441, 128.11973013610483, 63.54746611682819, 52.56060527587073, 93.11549220539564, 69.69572306694135, 103.98965825880418, 105.41130030830148, 95.72442196712191, 106.90009250741898, 104.72879831443385, 78.94774058817337, 78.75954257694396, 53.67759171204758, 50.14163028757929, 46.10795696341335, 44.54310727613237, 35.096828422977765, 29.79633086389413, 28.87424766237356, 26.491388746140274, 26.147338695330507, 25.823645724711177, 25.427610653727626, 25.2300497210072, 92.21249728971422, 42.46423381224263, 54.49946680188486, 81.66460224685491, 77.9864325715546, 62.149005458962684, 90.33200451302623, 138.22764182470775, 116.4383096090336, 83.72705902609097, 65.31581815114174, 109.0868753877401, 87.47347237671988, 69.96824300138273, 58.55444140675928, 36.80655395284863, 33.894414309361544, 30.968087181641536, 27.593324540173608, 24.083670082531395, 22.35435143034608, 22.329703312442295, 19.74533285371853, 18.29542251342625, 15.586695479347512, 70.67680253363858, 33.886321591786626, 45.93462262368621, 57.648979072967634, 44.676520634633505, 66.52239670379255, 56.25609770975604, 114.6857090224881, 50.67312737310624, 111.51600002769206, 52.06399358311788, 65.93788813092075, 87.38650859782793, 46.04781080202586, 46.006458430316194, 34.74473228910001, 34.055344430237845, 32.81039236984698, 31.40253267363741, 29.315082808965016, 28.918115923217627, 26.080092475927923, 19.953963420845913, 19.72463420359687, 63.403661222312664, 27.804553964777057, 39.09771983122577, 81.66050473798504, 57.930146793241136, 70.93423939585101, 50.48023384649344, 138.22764182470775, 64.11315019094144, 47.96677614268413, 75.32532829114923, 53.46908674735018, 61.68819748446227, 58.52491283913279, 56.21395983450418, 51.05194933582865, 47.20644636832297, 41.441941777024, 35.48416796652339, 34.15275948662276, 32.13957776508854, 31.497933029606138, 29.890452589440567, 29.55663983472964, 28.701824246324087, 26.92369321159586, 26.17547405303073, 87.99963248564491, 38.68687453874747, 35.78248011151251, 20.586237226828782, 20.09345920157399, 27.416029584038494, 35.04814322340167, 48.01864429535745, 18.981578106413078, 29.368189600034288, 46.029539255588446, 33.15788687750447, 33.769986020744184, 28.79445798069813, 29.984114327256442, 70.94975021918209, 111.39066256066282, 62.623595316344144, 61.10864263723194, 65.93788813092075, 81.21143905141996, 36.706901243425264, 23.08935066790045, 22.272825368119886, 65.94671688360566, 29.79085429269797, 83.07538426586606, 36.54945177896879, 36.73528658517704, 68.68888043968781, 42.32802599954435, 29.984114327256442, 27.792326561829018, 45.19685384238965, 51.57743959871257, 48.848823489354224, 105.41130030830148, 114.6857090224881, 62.80072161038123, 44.8115224655763, 44.43456343016312, 35.010898228385194, 29.265172185307367, 21.232453394554902, 19.84775325542327, 19.821201312295244, 15.949686906513179, 34.13422445812929, 21.9673130853953, 18.981578106413078, 75.32532829114923, 27.792326561829018, 23.080680954623165, 111.51600002769206, 56.25609770975604, 36.97659571623682, 27.627857055013543, 27.597780054074825, 20.641421568465912, 20.641421568465912, 18.429941281798758, 18.06574628670005, 17.54340793533041, 37.93587771677744, 27.637354859868065, 24.622870810556062, 45.70046380488767, 21.214384634284066, 31.958729368425246, 51.85693751072522, 116.4383096090336, 13.31628831961124, 15.586695479347512, 15.949686906513179, 17.54340793533041, 18.06574628670005, 18.29542251342625, 18.404156269692006, 18.429941281798758, 18.981578106413078, 19.021187065263195, 19.12400716469216, 19.53121018143318, 19.72463420359687, 19.74533285371853, 19.821201312295244, 46.27796615129516, 81.60754611502409, 48.01864429535745, 128.11973013610483, 66.0846368613721, 63.403661222312664, 27.56021903898835, 36.35156856733441, 28.336963557387094, 85.70791839067518, 31.53489066223458, 105.41130030830148, 21.214384634284066, 33.206821608140004, 42.16353898779721], \"Category\": [\"Default\", \"Default\", \"Default\", \"Default\", \"Default\", \"Default\", \"Default\", \"Default\", \"Default\", \"Default\", \"Default\", \"Default\", \"Default\", \"Default\", \"Default\", \"Topic1\", \"Topic1\", \"Topic1\", \"Topic1\", \"Topic1\", \"Topic1\", \"Topic1\", \"Topic1\", \"Topic1\", \"Topic1\", \"Topic1\", \"Topic1\", \"Topic1\", \"Topic1\", \"Topic1\", \"Topic1\", \"Topic1\", \"Topic1\", \"Topic1\", \"Topic1\", \"Topic1\", \"Topic1\", \"Topic1\", \"Topic1\", \"Topic2\", \"Topic2\", \"Topic2\", \"Topic2\", \"Topic2\", \"Topic2\", \"Topic2\", \"Topic2\", \"Topic2\", \"Topic2\", \"Topic2\", \"Topic2\", \"Topic2\", \"Topic2\", \"Topic2\", \"Topic2\", \"Topic2\", \"Topic2\", \"Topic2\", \"Topic2\", \"Topic2\", \"Topic2\", \"Topic2\", \"Topic2\", \"Topic2\", \"Topic2\", \"Topic3\", \"Topic3\", \"Topic3\", \"Topic3\", \"Topic3\", \"Topic3\", \"Topic3\", \"Topic3\", \"Topic3\", \"Topic3\", \"Topic3\", \"Topic3\", \"Topic3\", \"Topic3\", \"Topic3\", \"Topic3\", \"Topic3\", \"Topic3\", \"Topic3\", \"Topic3\", \"Topic3\", \"Topic3\", \"Topic3\", \"Topic3\", \"Topic3\", \"Topic3\", \"Topic4\", \"Topic4\", \"Topic4\", \"Topic4\", \"Topic4\", \"Topic4\", \"Topic4\", \"Topic4\", \"Topic4\", \"Topic4\", \"Topic4\", \"Topic4\", \"Topic4\", \"Topic4\", \"Topic4\", \"Topic4\", \"Topic4\", \"Topic4\", \"Topic4\", \"Topic4\", \"Topic4\", \"Topic4\", \"Topic4\", \"Topic4\", \"Topic5\", \"Topic5\", \"Topic5\", \"Topic5\", \"Topic5\", \"Topic5\", \"Topic5\", \"Topic5\", \"Topic5\", \"Topic5\", \"Topic5\", \"Topic5\", \"Topic5\", \"Topic5\", \"Topic5\", \"Topic6\", \"Topic6\", \"Topic6\", \"Topic6\", \"Topic6\", \"Topic6\", \"Topic6\", \"Topic6\", \"Topic6\", \"Topic6\", \"Topic6\", \"Topic6\", \"Topic6\", \"Topic6\", \"Topic6\", \"Topic6\", \"Topic6\", \"Topic6\", \"Topic6\", \"Topic6\", \"Topic6\", \"Topic7\", \"Topic7\", \"Topic7\", \"Topic7\", \"Topic7\", \"Topic7\", \"Topic7\", \"Topic7\", \"Topic7\", \"Topic7\", \"Topic7\", \"Topic7\", \"Topic7\", \"Topic7\", \"Topic7\", \"Topic7\", \"Topic7\", \"Topic8\", \"Topic8\", \"Topic8\", \"Topic8\", \"Topic8\", \"Topic8\", \"Topic8\", \"Topic8\", \"Topic8\", \"Topic8\", \"Topic8\", \"Topic8\", \"Topic8\", \"Topic8\", \"Topic8\", \"Topic8\", \"Topic8\", \"Topic9\", \"Topic9\", \"Topic9\", \"Topic9\", \"Topic9\", \"Topic9\", \"Topic9\", \"Topic9\", \"Topic9\", \"Topic9\", \"Topic9\", \"Topic9\", \"Topic9\", \"Topic9\", \"Topic9\", \"Topic9\", \"Topic10\", \"Topic10\", \"Topic10\", \"Topic10\", \"Topic10\", \"Topic10\", \"Topic10\", \"Topic10\", \"Topic10\", \"Topic10\", \"Topic10\", \"Topic10\", \"Topic10\", \"Topic10\", \"Topic10\", \"Topic10\", \"Topic10\", \"Topic10\", \"Topic10\", \"Topic10\", \"Topic10\", \"Topic10\", \"Topic10\", \"Topic10\", \"Topic10\", \"Topic10\", \"Topic10\", \"Topic10\", \"Topic10\", \"Topic10\"], \"logprob\": [15.0, 14.0, 13.0, 12.0, 11.0, 10.0, 9.0, 8.0, 7.0, 6.0, 5.0, 4.0, 3.0, 2.0, 1.0, -3.4666, -3.5123, -3.5667, -3.7594, -3.7788, -4.037, -4.1725, -4.2848, -4.0508, -4.3205, -4.3533, -4.3759, -4.4017, -4.4481, -4.5994, -3.3625, -4.0695, -4.2747, -3.8672, -4.0962, -3.905, -3.9333, -4.1091, -4.1077, -3.2434, -3.5284, -3.5308, -3.9189, -3.988, -4.0733, -4.1084, -4.3515, -4.5192, -4.5515, -4.6401, -4.6536, -4.6664, -4.6823, -4.6904, -3.4911, -4.2211, -4.0031, -3.7084, -3.7815, -3.9846, -3.7901, -3.5502, -3.677, -3.9235, -4.0599, -2.9857, -3.2083, -3.4338, -3.614, -4.0862, -4.1704, -4.2629, -4.3814, -4.5216, -4.5986, -4.5998, -4.7274, -4.8069, -4.9747, -3.5222, -4.2618, -3.9979, -3.8041, -4.0249, -3.7014, -3.8692, -3.4262, -4.0136, -3.6803, -4.04, -4.0177, -2.8254, -3.4741, -3.475, -3.7612, -3.7817, -3.8198, -3.8647, -3.9353, -3.9493, -4.0556, -4.3326, -4.3447, -3.2033, -4.0288, -3.7395, -3.1052, -3.4869, -3.3753, -3.6488, -3.1751, -3.647, -3.7605, -3.6547, -3.7651, -2.7421, -2.7954, -2.8363, -2.934, -3.0136, -3.1462, -3.3046, -3.3437, -3.4059, -3.4266, -3.4803, -3.4919, -3.522, -3.5878, -3.6169, -2.1436, -2.9762, -3.0558, -3.6243, -3.6494, -3.6917, -3.5736, -3.4269, -4.4545, -4.0227, -3.6496, -3.9788, -4.0239, -4.2278, -4.2509, -3.4483, -3.0348, -3.6286, -3.6583, -3.7027, -3.7553, -2.6934, -3.1693, -3.2065, -2.2088, -3.0154, -2.0392, -2.883, -2.9513, -2.4362, -2.9972, -3.3445, -3.6648, -3.3541, -3.3747, -3.6528, -3.0012, -2.9651, -2.079, -2.4216, -2.4302, -2.6734, -2.8572, -3.1885, -3.2587, -3.2601, -3.4874, -3.2117, -3.7561, -3.9378, -2.6, -3.6033, -4.1568, -2.8732, -3.8277, -2.4422, -2.7408, -2.7419, -3.0419, -3.0419, -3.1598, -3.1806, -3.2112, -2.6025, -3.0118, -3.2565, -2.6873, -3.6431, -3.343, -2.9764, -2.5987, -5.6836, -5.6836, -5.6836, -5.6836, -5.6836, -5.6836, -5.6836, -5.6836, -5.6836, -5.6836, -5.6836, -5.6836, -5.6836, -5.6836, -5.6836, -5.6836, -5.6836, -5.6836, -5.6836, -5.6836, -5.6836, -5.6836, -5.6836, -5.6836, -5.6836, -5.6836, -5.6836, -5.6836, -5.6836, -5.6836], \"loglift\": [15.0, 14.0, 13.0, 12.0, 11.0, 10.0, 9.0, 8.0, 7.0, 6.0, 5.0, 4.0, 3.0, 2.0, 1.0, 1.2899, 1.2896, 1.2892, 1.2876, 1.2874, 1.2847, 1.2829, 1.2813, 1.2808, 1.2807, 1.2802, 1.2798, 1.2793, 1.2785, 1.2756, 1.2527, 1.2469, 1.2315, 1.0671, 1.1278, 0.9189, 0.877, 0.7976, 0.6886, 1.5734, 1.571, 1.571, 1.5662, 1.5653, 1.5639, 1.5633, 1.5586, 1.5546, 1.5537, 1.5512, 1.5508, 1.5505, 1.55, 1.5497, 1.453, 1.4984, 1.4668, 1.3571, 1.3302, 1.354, 1.1746, 0.9891, 1.0338, 1.1171, 1.229, 1.7903, 1.7885, 1.7863, 1.7842, 1.7763, 1.7745, 1.7723, 1.7692, 1.7651, 1.7625, 1.7625, 1.7578, 1.7546, 1.747, 1.6878, 1.6833, 1.643, 1.6097, 1.6439, 1.5692, 1.569, 1.2997, 1.5291, 1.0737, 1.4757, 1.2618, 2.1724, 2.1644, 2.1644, 2.1589, 2.1585, 2.1576, 2.1565, 2.1547, 2.1544, 2.1514, 2.1421, 2.1416, 2.1153, 2.1141, 2.0625, 1.9604, 1.922, 1.8311, 1.8977, 1.3641, 1.6605, 1.8372, 1.4917, 1.724, 2.604, 2.6033, 2.6027, 2.6013, 2.6, 2.5977, 2.5945, 2.5936, 2.5921, 2.5917, 2.5903, 2.59, 2.5892, 2.5873, 2.5865, 2.8473, 2.8365, 2.8349, 2.8193, 2.8184, 2.4653, 2.3378, 2.1696, 2.0702, 2.0656, 1.9893, 1.9881, 1.9247, 1.8801, 1.8166, 1.7579, 1.7203, 1.7024, 1.6972, 1.5768, 1.3158, 3.1718, 3.1595, 3.1582, 3.0706, 3.0585, 3.0092, 2.9865, 2.9131, 2.8024, 2.7255, 2.723, 2.4786, 2.303, 2.1504, 1.9266, 1.8091, 1.7608, 3.2492, 3.2441, 3.2439, 3.2391, 3.2346, 3.2241, 3.2214, 3.2213, 3.2113, 2.7262, 2.6225, 2.5869, 2.5464, 2.5401, 2.1724, 1.8808, 1.6105, 3.4156, 3.4085, 3.4085, 3.399, 3.399, 3.3944, 3.3935, 3.3922, 3.2298, 3.1372, 3.008, 2.9588, 2.7704, 2.6607, 2.5433, 2.112, 1.1956, 1.0382, 1.0151, 0.9199, 0.8906, 0.8779, 0.872, 0.8706, 0.8411, 0.839, 0.8336, 0.8126, 0.8027, 0.8017, 0.7978, -0.0501, -0.6173, -0.087, -1.0684, -0.4064, -0.3649, 0.4682, 0.1913, 0.4404, -0.6664, 0.3335, -0.8733, 0.7299, 0.2818, 0.043]}, \"token.table\": {\"Topic\": [9, 7, 1, 3, 9, 1, 4, 3, 1, 3, 6, 1, 6, 2, 4, 6, 5, 1, 2, 6, 2, 1, 3, 9, 1, 1, 5, 1, 4, 5, 9, 2, 4, 2, 7, 9, 2, 6, 3, 5, 1, 4, 5, 6, 1, 1, 1, 2, 4, 1, 2, 3, 1, 3, 2, 4, 8, 1, 2, 9, 1, 3, 6, 2, 1, 1, 6, 2, 5, 1, 6, 7, 3, 2, 5, 4, 4, 1, 9, 1, 1, 7, 3, 8, 1, 6, 2, 3, 6, 3, 4, 4, 8, 6, 8, 7, 2, 3, 6, 1, 7, 8, 2, 6, 6, 9, 4, 2, 6, 3, 2, 1, 9, 3, 8, 1, 6, 2, 4, 6, 2, 3, 4, 3, 2, 4, 1, 3, 2, 3, 6, 8, 1, 2, 2, 8, 2, 1, 2, 3, 1, 3, 3, 4, 3, 6, 2, 1, 1, 6, 5, 3, 8, 8, 3, 1, 4, 6, 8, 2, 5, 9, 4, 1, 3, 6, 1, 3, 4, 3, 6, 7, 8, 5, 2, 7, 2, 6, 5, 3, 3, 4, 9, 1, 2, 6, 6, 3, 8, 1, 2, 6, 4, 1, 6, 7, 5, 1, 2, 1, 6, 8, 1, 6, 5, 1, 7, 2, 5, 8, 4, 1, 2, 1, 7, 9, 1, 3, 6, 4, 2, 4, 5, 4, 5, 1, 1, 7, 3, 1, 4, 1, 2, 2, 1, 1, 1, 2, 8, 1, 9, 5, 1, 1, 3, 2, 4, 6, 1, 3, 7, 3, 6, 5, 2, 9, 1, 4, 3, 4, 1, 2, 9, 2, 7, 8, 6, 2, 3, 1, 7, 4, 6, 2, 3, 8, 2, 1, 2, 7, 9, 3, 1, 1, 8, 5, 1, 3, 2, 6, 3, 6, 8, 9, 2, 7, 3, 8, 8], \"Freq\": [0.9689255138587055, 0.9528202120722736, 0.9939935529926615, 0.9623592133351878, 0.9783395601782628, 0.9925552703892386, 0.9772451548993126, 0.9550039475371566, 0.0833009773328134, 0.3956796423308636, 0.4998058639968804, 0.9600394870433616, 0.039025995408266734, 0.8045181033993418, 0.14481325861188152, 0.04827108620396051, 0.986355380602973, 0.5598880731934126, 0.2723779815535521, 0.1513211008630845, 0.9873766372440383, 0.3137417774595664, 0.6797738511623937, 0.977274493140625, 0.9946197835402912, 0.9833561249778584, 0.9550925400376988, 0.22440820055917318, 0.7767976173202149, 0.9793945314622808, 0.9690249501503041, 0.9759703739575251, 0.978565605775767, 0.10614630008579243, 0.8794979149965658, 0.9689255138587055, 0.670673725898941, 0.31936844090425764, 0.9687391999394965, 0.9702094644844843, 0.04731587959062933, 0.9305456319490435, 0.9893358815230753, 0.9781323119841332, 0.9796729105020598, 0.9903286548231558, 0.423475153775668, 0.5646335383675574, 0.9690109012874701, 0.25668573467995404, 0.44336626899264786, 0.3033558682581275, 0.1954229048283651, 0.7967241504541038, 0.035965331480116706, 0.9350986184830343, 0.9419542635204387, 0.9830381317010509, 0.3249011888804746, 0.6498023777609492, 0.3015873730718458, 0.2714286357646612, 0.42222232230058415, 0.9681049789215853, 0.9728019832617355, 0.6709361921748814, 0.31092165003226213, 0.9512466390431633, 0.9744431860235823, 0.6545787766415213, 0.08537984043150278, 0.2466528723576747, 0.986161679072553, 0.9561202496093645, 0.9784046553902603, 0.968251184632658, 0.9955770220823591, 0.4713782733928203, 0.5185161007321023, 0.9636574188767234, 0.9724041431120392, 0.9877507517070379, 0.455221808927027, 0.5462661707124324, 0.2918000936451268, 0.6930252224071762, 0.052039082881291464, 0.8326253261006634, 0.10407816576258293, 0.2710209241773851, 0.7088239555408533, 0.5044783854525201, 0.49120263846692747, 0.4741439278412409, 0.5268265864902676, 0.9807420071027685, 0.7042704401796719, 0.2449636313668424, 0.04593068088128295, 0.5428730122675363, 0.348989793600559, 0.09694160933348861, 0.918419961901117, 0.070647689377009, 0.971522856733392, 0.9410073478401139, 0.9871815220185938, 0.5648546655144574, 0.4127784094144112, 0.9841484360908342, 0.9930410896891443, 0.5319360417625286, 0.469355330966937, 0.7999132864168788, 0.19553435890190368, 0.5922418797483193, 0.3849572218364075, 0.2383531329419035, 0.30645402806816163, 0.4426558183206779, 0.26183353506956636, 0.09351197681055942, 0.635881442311804, 0.9838526542248778, 0.10230775649492894, 0.8951928693306282, 0.1342987304017754, 0.8505586258779108, 0.9831832153028134, 0.5914657127411309, 0.2729841751112912, 0.12132630004946275, 0.1084451705996194, 0.8784058818569171, 0.9687485031479461, 0.9585695488705901, 0.990356183491011, 0.10258194581037913, 0.7821873368041409, 0.11540468903667651, 0.985681956298824, 0.9945872461232499, 0.19593315093186622, 0.7959784256607065, 0.8853129696812948, 0.08853129696812949, 0.9697222357930799, 0.9721342341974695, 0.9322571485396247, 0.05707696827793621, 0.9841915649151292, 0.9852347651991157, 0.9404573323551971, 0.9572871929374863, 0.9784975333686313, 0.4488706580120236, 0.2244353290060118, 0.323186873768657, 0.956768674474345, 0.977231887335301, 0.21709747660086465, 0.7236582553362155, 0.9892518533541833, 0.6059059831139124, 0.25071971715058444, 0.13580651345656658, 0.6827602012432699, 0.30772290760260046, 0.9753007412800179, 0.6103637549668379, 0.1482311976348035, 0.2354260197729232, 0.9818903170228214, 0.981167012290904, 0.16416114901763063, 0.8208057450881532, 0.39945054751580084, 0.5991758212737013, 0.9755477477563479, 0.9900366072098327, 0.9622527075516903, 0.3719874719998323, 0.6126852479997238, 0.32015194292441734, 0.45560084185397853, 0.20933011652750363, 0.945581336164938, 0.38084943209846284, 0.5859222032284044, 0.5425626736101724, 0.3648266253585642, 0.08419075969813021, 0.9585855580487357, 0.974435619540549, 0.3668609277546903, 0.6336688752126469, 0.9910309505188737, 0.3210379328604192, 0.6642164128146604, 0.8465368806538053, 0.05739233089178341, 0.08608849633767511, 0.662440668991855, 0.3382675756554153, 0.9645428520120012, 0.3543751367040237, 0.6378752460672427, 0.8990913650242417, 0.09174401683920834, 0.9711261841444101, 0.9632624769556065, 0.380348867800455, 0.5976910779721436, 0.16014236845305024, 0.6842446652084874, 0.16014236845305024, 0.7947120102932992, 0.07517546043314992, 0.11813286639494988, 0.9521917826185194, 0.5498176703063399, 0.4413010248511412, 0.9656921803284391, 0.5257295438864678, 0.42058363510917424, 0.9971667536872366, 0.10070204669274387, 0.8727510713371135, 0.9780866757077592, 0.9441761200941295, 0.031472537336470985, 0.1959233200161236, 0.795938487565502, 0.9879953424744957, 0.9888873576673824, 0.9807753512838882, 0.35830710344969147, 0.6330092160944549, 0.9872498023932121, 0.15816162327374997, 0.8171683869143749, 0.9662469591344651, 0.9929554897901232, 0.26889984875343104, 0.7298710180450271, 0.08458538571925456, 0.7048782143271213, 0.19736590001159396, 0.3982578093326928, 0.1770034708145301, 0.42038324318450904, 0.9736117490865004, 0.988640492495148, 0.976248012057126, 0.9814510008950789, 0.9735888148348932, 0.9897966158009502, 0.9781235403755186, 0.3899356048727154, 0.5927021194065274, 0.15458829710289362, 0.5754119947718819, 0.26623540056609457, 0.9878071533544903, 0.5037361650473733, 0.5037361650473733, 0.9822452822323624, 0.21707758273940742, 0.7696387024397171, 0.2177742640295083, 0.762209924103279, 0.7527698884192002, 0.23771680686922111, 0.2600523691021792, 0.48423544591440265, 0.25108504602969023, 0.9732741971643533, 0.32754115364696407, 0.38895511995576987, 0.28659850944109355, 0.9766715869993919, 0.9905311810096906, 0.990536235606575, 0.6498941703448932, 0.34661022418394305, 0.9888439359143925, 0.09904239791646424, 0.8913815812481781, 0.5903913875161553, 0.38201795662810045, 0.3085411666797876, 0.17355440625738053, 0.09641911458743363, 0.4049602812672212, 0.1564843799987264, 0.83057093999324, 0.8490327725015342, 0.13062042653869757, 0.9902201485371604], \"Term\": [\"3_developer\", \"3_year\", \"able\", \"accelerate\", \"account\", \"activity\", \"advance\", \"advance_analytics\", \"algorithm\", \"algorithm\", \"algorithm\", \"analysis\", \"analysis\", \"analytic\", \"analytic\", \"analytic\", \"analyze\", \"apply\", \"apply\", \"apply\", \"area\", \"artificial_intelligence\", \"artificial_intelligence\", \"avantor\", \"base\", \"be\", \"belgium\", \"benefit\", \"benefit\", \"bioinformatics\", \"brand\", \"candidate\", \"capability\", \"career\", \"career\", \"career_shift\", \"challenge\", \"challenge\", \"change\", \"chemical\", \"client\", \"client\", \"clinical\", \"coach\", \"collaborate\", \"colleague\", \"commercial\", \"commercial\", \"communicate\", \"communication\", \"communication\", \"communication\", \"complex\", \"complex\", \"consult\", \"consult\", \"contact\", \"contribute\", \"country\", \"country\", \"creative\", \"creative\", \"creative\", \"day\", \"decision\", \"deep\", \"deep\", \"demonstrate\", \"department\", \"design\", \"design\", \"design\", \"digital\", \"disability\", \"disease\", \"diverse\", \"drive\", \"dynamic\", \"dynamic\", \"employee\", \"employment\", \"empower\", \"enable\", \"enable\", \"engineer\", \"engineer\", \"engineering\", \"engineering\", \"engineering\", \"english\", \"english\", \"ensure\", \"ensure\", \"equivalent\", \"equivalent\", \"excite\", \"expertise\", \"expertise\", \"expertise\", \"focus\", \"focus\", \"focus\", \"following\", \"following\", \"forecast\", \"fortune_500\", \"function\", \"future\", \"future\", \"generate\", \"global\", \"great\", \"great\", \"group\", \"group\", \"grow\", \"grow\", \"growe\", \"growe\", \"growe\", \"help\", \"help\", \"help\", \"highly\", \"impact\", \"impact\", \"implement\", \"implement\", \"important\", \"improve\", \"improve\", \"improve\", \"including\", \"including\", \"individual\", \"industrial\", \"industry\", \"information\", \"information\", \"information\", \"innovation\", \"innovative\", \"insight\", \"insight\", \"integrate\", \"integrate\", \"interest\", \"internal\", \"international\", \"international\", \"janssen\", \"know\", \"lab\", \"laboratory\", \"leader\", \"learn\", \"learn\", \"learn\", \"level\", \"life\", \"life_science\", \"life_science\", \"local\", \"look\", \"look\", \"look\", \"machine_learn\", \"machine_learn\", \"maintain\", \"management\", \"management\", \"management\", \"manufacturing\", \"material\", \"meet\", \"meet\", \"member\", \"member\", \"method\", \"model\", \"multidisciplinary\", \"network\", \"network\", \"offer\", \"offer\", \"offer\", \"omp\", \"operation\", \"operation\", \"opportunity\", \"opportunity\", \"opportunity\", \"order\", \"partner\", \"passionate\", \"passionate\", \"patient\", \"people\", \"people\", \"phd\", \"phd\", \"phd\", \"plan\", \"plan\", \"platform\", \"plus\", \"plus\", \"portfolio\", \"portfolio\", \"position\", \"present\", \"production\", \"production\", \"professional\", \"professional\", \"professional\", \"program\", \"program\", \"program\", \"prototype\", \"provide\", \"provide\", \"publication\", \"r_python\", \"r_python\", \"rd\", \"ready\", \"ready\", \"regulatory\", \"relate\", \"relate\", \"report\", \"report\", \"require\", \"research\", \"result\", \"role\", \"role\", \"safety\", \"sales\", \"sales\", \"science\", \"scientific\", \"senior\", \"senior\", \"service\", \"service\", \"service\", \"share\", \"share\", \"share\", \"site\", \"software\", \"solvay\", \"solve\", \"specialist\", \"stakeholder\", \"strategic\", \"strategy\", \"strategy\", \"strong\", \"strong\", \"strong\", \"study\", \"successful\", \"successful\", \"supply_chain\", \"system\", \"system\", \"talent\", \"talent\", \"technique\", \"technique\", \"technology\", \"technology\", \"technology\", \"test\", \"time\", \"time\", \"time\", \"today\", \"tool\", \"train\", \"transformation\", \"transformation\", \"vaccine\", \"value\", \"value\", \"want\", \"want\", \"way\", \"way\", \"way\", \"way\", \"world\", \"world\", \"year\", \"year\", \"\\u00b7\"]}, \"R\": 15, \"lambda.step\": 0.01, \"plot.opts\": {\"xlab\": \"PC1\", \"ylab\": \"PC2\"}, \"topic.order\": [5, 6, 1, 3, 2, 9, 8, 7, 10, 4]};\n",
       "\n",
       "function LDAvis_load_lib(url, callback){\n",
       "  var s = document.createElement('script');\n",
       "  s.src = url;\n",
       "  s.async = true;\n",
       "  s.onreadystatechange = s.onload = callback;\n",
       "  s.onerror = function(){console.warn(\"failed to load library \" + url);};\n",
       "  document.getElementsByTagName(\"head\")[0].appendChild(s);\n",
       "}\n",
       "\n",
       "if(typeof(LDAvis) !== \"undefined\"){\n",
       "   // already loaded: just create the visualization\n",
       "   !function(LDAvis){\n",
       "       new LDAvis(\"#\" + \"ldavis_el2178423176298854562002097043\", ldavis_el2178423176298854562002097043_data);\n",
       "   }(LDAvis);\n",
       "}else if(typeof define === \"function\" && define.amd){\n",
       "   // require.js is available: use it to load d3/LDAvis\n",
       "   require.config({paths: {d3: \"https://d3js.org/d3.v5\"}});\n",
       "   require([\"d3\"], function(d3){\n",
       "      window.d3 = d3;\n",
       "      LDAvis_load_lib(\"https://cdn.jsdelivr.net/gh/bmabey/pyLDAvis@3.3.1/pyLDAvis/js/ldavis.v3.0.0.js\", function(){\n",
       "        new LDAvis(\"#\" + \"ldavis_el2178423176298854562002097043\", ldavis_el2178423176298854562002097043_data);\n",
       "      });\n",
       "    });\n",
       "}else{\n",
       "    // require.js not available: dynamically load d3 & LDAvis\n",
       "    LDAvis_load_lib(\"https://d3js.org/d3.v5.js\", function(){\n",
       "         LDAvis_load_lib(\"https://cdn.jsdelivr.net/gh/bmabey/pyLDAvis@3.3.1/pyLDAvis/js/ldavis.v3.0.0.js\", function(){\n",
       "                 new LDAvis(\"#\" + \"ldavis_el2178423176298854562002097043\", ldavis_el2178423176298854562002097043_data);\n",
       "            })\n",
       "         });\n",
       "}\n",
       "</script>"
      ],
      "text/plain": [
       "PreparedData(topic_coordinates=              x         y  topics  cluster          Freq\n",
       "topic                                                   \n",
       "4      0.316575  0.129996       1        1  2.733943e+01\n",
       "5      0.181394  0.347330       2        1  2.058096e+01\n",
       "0     -0.284080  0.037839       3        1  1.657420e+01\n",
       "2     -0.265630  0.353186       4        1  1.129100e+01\n",
       "1      0.170395 -0.437277       5        1  7.304735e+00\n",
       "8     -0.036662  0.236466       6        1  5.751910e+00\n",
       "7     -0.111354 -0.344076       7        1  4.107414e+00\n",
       "6     -0.405469 -0.185159       8        1  3.832003e+00\n",
       "9      0.381695 -0.157145       9        1  3.218344e+00\n",
       "3      0.053135  0.018840      10        1  8.964045e-16, topic_info=           Term          Freq       Total Category  logprob  loglift\n",
       "44     research  1.110000e+02  111.000000  Default  15.0000  15.0000\n",
       "226          rd  1.060000e+02  106.000000  Default  14.0000  14.0000\n",
       "93   scientific  1.000000e+02  100.000000  Default  13.0000  13.0000\n",
       "3      analysis  1.280000e+02  128.000000  Default  12.0000  12.0000\n",
       "23   innovation  8.300000e+01   83.000000  Default  11.0000  11.0000\n",
       "..          ...           ...         ...      ...      ...      ...\n",
       "10   contribute  3.945704e-16   31.534891  Topic10  -5.6836   0.3335\n",
       "11       design  3.945704e-16  105.411300  Topic10  -5.6836  -0.8733\n",
       "12      dynamic  3.945704e-16   21.214385  Topic10  -5.6836   0.7299\n",
       "13     employee  3.945704e-16   33.206822  Topic10  -5.6836   0.2818\n",
       "14   employment  3.945704e-16   42.163539  Topic10  -5.6836   0.0430\n",
       "\n",
       "[231 rows x 6 columns], token_table=      Topic      Freq         Term\n",
       "term                              \n",
       "269       9  0.968926  3_developer\n",
       "223       7  0.952820       3_year\n",
       "0         1  0.993994         able\n",
       "236       3  0.962359   accelerate\n",
       "212       9  0.978340      account\n",
       "...     ...       ...          ...\n",
       "147       2  0.156484        world\n",
       "147       7  0.830571        world\n",
       "193       3  0.849033         year\n",
       "193       8  0.130620         year\n",
       "281       8  0.990220            ·\n",
       "\n",
       "[299 rows x 3 columns], R=15, lambda_step=0.01, plot_opts={'xlab': 'PC1', 'ylab': 'PC2'}, topic_order=[5, 6, 1, 3, 2, 9, 8, 7, 10, 4])"
      ]
     },
     "execution_count": 54,
     "metadata": {},
     "output_type": "execute_result"
    }
   ],
   "source": [
    "# Visualize\n",
    "pyLDAvis.enable_notebook()\n",
    "vis = pyLDAvis.gensim_models.prepare(lda_model, corpus, id2word, mds=\"mmds\", R=15)\n",
    "vis"
   ]
  }
 ],
 "metadata": {
  "kernelspec": {
   "display_name": "Python 3 (ipykernel)",
   "language": "python",
   "name": "python3"
  },
  "language_info": {
   "codemirror_mode": {
    "name": "ipython",
    "version": 3
   },
   "file_extension": ".py",
   "mimetype": "text/x-python",
   "name": "python",
   "nbconvert_exporter": "python",
   "pygments_lexer": "ipython3",
   "version": "3.8.5"
  }
 },
 "nbformat": 4,
 "nbformat_minor": 4
}
